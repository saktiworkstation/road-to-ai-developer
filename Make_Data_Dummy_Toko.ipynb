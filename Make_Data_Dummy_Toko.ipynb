{
  "nbformat": 4,
  "nbformat_minor": 0,
  "metadata": {
    "colab": {
      "provenance": [],
      "authorship_tag": "ABX9TyP2eOY+2FYsU3CMvqM6YVs1",
      "include_colab_link": true
    },
    "kernelspec": {
      "name": "python3",
      "display_name": "Python 3"
    },
    "language_info": {
      "name": "python"
    }
  },
  "cells": [
    {
      "cell_type": "markdown",
      "metadata": {
        "id": "view-in-github",
        "colab_type": "text"
      },
      "source": [
        "<a href=\"https://colab.research.google.com/github/saktiworkstation/road-to-ai-developer/blob/main/Make_Data_Dummy_Toko.ipynb\" target=\"_parent\"><img src=\"https://colab.research.google.com/assets/colab-badge.svg\" alt=\"Open In Colab\"/></a>"
      ]
    },
    {
      "cell_type": "code",
      "execution_count": 1,
      "metadata": {
        "id": "WfPZTFTl42BL"
      },
      "outputs": [],
      "source": [
        "import pandas as pd\n",
        "import numpy as np\n",
        "import random"
      ]
    },
    {
      "cell_type": "code",
      "source": [
        "# Menentukan jumlah data dummy\n",
        "data_size = 1000"
      ],
      "metadata": {
        "id": "7vFgzobt48Nn"
      },
      "execution_count": 2,
      "outputs": []
    },
    {
      "cell_type": "code",
      "source": [
        "# Membuat data acak untuk setiap kolom\n",
        "data = {\n",
        "    'Order_ID': [f'ORD-{i+1:04d}' for i in range(data_size)],\n",
        "    'Customer_Name': [random.choice(['Andi', 'Budi', 'Citra', 'Dewi', 'Eko', 'Farah', 'Gilang', 'Hana']) for _ in range(data_size)],\n",
        "    'Product': [random.choice(['Laptop', 'Smartphone', 'Tablet', 'Smartwatch', 'Headphones', 'Charger']) for _ in range(data_size)],\n",
        "    'Quantity': np.random.randint(1, 10, data_size),\n",
        "    'Price_per_Unit': np.random.randint(100000, 1000000, data_size),\n",
        "    'Order_Date': pd.to_datetime('2024-01-01') + pd.to_timedelta(np.random.randint(0, 365, data_size), unit='D'),\n",
        "    'City': [random.choice(['Jakarta', 'Bandung', 'Surabaya', 'Yogyakarta', 'Bali', 'Medan']) for _ in range(data_size)],\n",
        "}"
      ],
      "metadata": {
        "id": "IFDABbwF49rT"
      },
      "execution_count": 3,
      "outputs": []
    },
    {
      "cell_type": "code",
      "source": [
        "# Mengonversi data menjadi DataFrame\n",
        "df = pd.DataFrame(data)"
      ],
      "metadata": {
        "id": "4cvaW6BV5A-E"
      },
      "execution_count": 4,
      "outputs": []
    },
    {
      "cell_type": "code",
      "source": [
        "# Menyimpan data ke dalam file CSV\n",
        "df.to_csv('data_pembelian_toko.csv', index=False)\n",
        "\n",
        "print(\"File CSV 'data_pembelian_toko.csv' telah dibuat.\")"
      ],
      "metadata": {
        "colab": {
          "base_uri": "https://localhost:8080/"
        },
        "id": "pEPY9b7S5CoC",
        "outputId": "730c36af-ece8-4bcf-e5e5-5d885bfdf768"
      },
      "execution_count": 5,
      "outputs": [
        {
          "output_type": "stream",
          "name": "stdout",
          "text": [
            "File CSV 'data_pembelian_toko.csv' telah dibuat.\n"
          ]
        }
      ]
    }
  ]
}