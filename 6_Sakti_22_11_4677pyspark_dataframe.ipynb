{
  "nbformat": 4,
  "nbformat_minor": 0,
  "metadata": {
    "colab": {
      "provenance": [],
      "authorship_tag": "ABX9TyNe9P8zaJXPT5SCJQOq53Xy",
      "include_colab_link": true
    },
    "kernelspec": {
      "name": "python3",
      "display_name": "Python 3"
    },
    "language_info": {
      "name": "python"
    }
  },
  "cells": [
    {
      "cell_type": "markdown",
      "metadata": {
        "id": "view-in-github",
        "colab_type": "text"
      },
      "source": [
        "<a href=\"https://colab.research.google.com/github/saktiworkstation/road-to-ai-developer/blob/main/6_Sakti_22_11_4677pyspark_dataframe.ipynb\" target=\"_parent\"><img src=\"https://colab.research.google.com/assets/colab-badge.svg\" alt=\"Open In Colab\"/></a>"
      ]
    },
    {
      "cell_type": "markdown",
      "source": [
        "#Sakti Kusuma Aji | 22.11.4677"
      ],
      "metadata": {
        "id": "VoexGyMCqpnI"
      }
    },
    {
      "cell_type": "code",
      "execution_count": 28,
      "metadata": {
        "colab": {
          "base_uri": "https://localhost:8080/"
        },
        "id": "eE9FOO5qfe0u",
        "outputId": "5cc6922e-7ffd-4635-9d39-26ac42473346"
      },
      "outputs": [
        {
          "output_type": "stream",
          "name": "stdout",
          "text": [
            "Requirement already satisfied: pyspark in /usr/local/lib/python3.10/dist-packages (3.5.3)\n",
            "Requirement already satisfied: py4j==0.10.9.7 in /usr/local/lib/python3.10/dist-packages (from pyspark) (0.10.9.7)\n"
          ]
        }
      ],
      "source": [
        "!pip install pyspark"
      ]
    },
    {
      "cell_type": "code",
      "source": [
        "from pyspark.sql import SparkSession\n",
        "from pyspark.sql.types import StructType, StructField, StringType, IntegerType\n",
        "from pyspark.sql.functions import avg, when, count"
      ],
      "metadata": {
        "id": "NjlrEHs9gj1G"
      },
      "execution_count": 29,
      "outputs": []
    },
    {
      "cell_type": "code",
      "source": [
        "spark = SparkSession.builder \\\n",
        "    .appName(\"Operasi Dasar Dataset PySpark\") \\\n",
        "    .getOrCreate()"
      ],
      "metadata": {
        "id": "jqJywxkuhulW"
      },
      "execution_count": 30,
      "outputs": []
    },
    {
      "cell_type": "code",
      "source": [
        "schema = StructType([\n",
        "    StructField(\"ID\", StringType(), True),\n",
        "    StructField(\"Age\", IntegerType(), True),\n",
        "    StructField(\"Name\", StringType(), True),\n",
        "    StructField(\"Gender\", StringType(), True)\n",
        "])"
      ],
      "metadata": {
        "id": "ZYD22ll8h0_D"
      },
      "execution_count": 31,
      "outputs": []
    },
    {
      "cell_type": "code",
      "source": [
        "df = spark.read.csv('/content/people.csv', header=True, schema=schema)"
      ],
      "metadata": {
        "id": "ZJNRzo5-h-Hz"
      },
      "execution_count": 32,
      "outputs": []
    },
    {
      "cell_type": "markdown",
      "source": [
        "#Operasi Dasar"
      ],
      "metadata": {
        "id": "l-1NmSQBiF4i"
      }
    },
    {
      "cell_type": "code",
      "source": [
        "# Menampilkan skema DataFrame\n",
        "df.printSchema()"
      ],
      "metadata": {
        "colab": {
          "base_uri": "https://localhost:8080/"
        },
        "id": "dBGlalbBiIGe",
        "outputId": "ec3bd560-4401-4e6c-c672-2c513980798d"
      },
      "execution_count": 33,
      "outputs": [
        {
          "output_type": "stream",
          "name": "stdout",
          "text": [
            "root\n",
            " |-- ID: string (nullable = true)\n",
            " |-- Age: integer (nullable = true)\n",
            " |-- Name: string (nullable = true)\n",
            " |-- Gender: string (nullable = true)\n",
            "\n"
          ]
        }
      ]
    },
    {
      "cell_type": "code",
      "source": [
        "# Menampilkan beberapa baris pertama dari dataset\n",
        "df.show(10, truncate=False)"
      ],
      "metadata": {
        "colab": {
          "base_uri": "https://localhost:8080/"
        },
        "id": "IwEV5kC4iNw0",
        "outputId": "7153c1a6-6e90-4099-ba57-d63999f52671"
      },
      "execution_count": 34,
      "outputs": [
        {
          "output_type": "stream",
          "name": "stdout",
          "text": [
            "+---+---+----------------+------+\n",
            "|ID |Age|Name            |Gender|\n",
            "+---+---+----------------+------+\n",
            "|0  |100|Penelope Lewis  |female|\n",
            "|1  |101|David Anthony   |male  |\n",
            "|2  |102|Ida Shipp       |female|\n",
            "|3  |103|Joanna Moore    |female|\n",
            "|4  |104|Lisandra Ortiz  |female|\n",
            "|5  |105|David Simmons   |male  |\n",
            "|6  |106|Edward Hudson   |male  |\n",
            "|7  |107|Albert Jones    |male  |\n",
            "|8  |108|Leonard Cavender|male  |\n",
            "|9  |109|Everett Vadala  |male  |\n",
            "+---+---+----------------+------+\n",
            "only showing top 10 rows\n",
            "\n"
          ]
        }
      ]
    },
    {
      "cell_type": "code",
      "source": [
        "# Menghitung jumlah record yang ada di DataFrame\n",
        "jumlah_record = df.count()\n",
        "print(f\"Jumlah record: {jumlah_record}\")"
      ],
      "metadata": {
        "colab": {
          "base_uri": "https://localhost:8080/"
        },
        "id": "XVFM1akUiQP8",
        "outputId": "7242dc98-68ff-420f-a2a9-2fd7db4e364e"
      },
      "execution_count": 35,
      "outputs": [
        {
          "output_type": "stream",
          "name": "stdout",
          "text": [
            "Jumlah record: 100000\n"
          ]
        }
      ]
    },
    {
      "cell_type": "code",
      "source": [
        "# Melihat nama kolom\n",
        "df_columns = df.columns\n",
        "print(f\"Kolom: {df_columns}\")"
      ],
      "metadata": {
        "colab": {
          "base_uri": "https://localhost:8080/"
        },
        "id": "A_ZlqKo7iT5W",
        "outputId": "a2c8911b-4cbe-4045-c514-44a35d90ca56"
      },
      "execution_count": 36,
      "outputs": [
        {
          "output_type": "stream",
          "name": "stdout",
          "text": [
            "Kolom: ['ID', 'Age', 'Name', 'Gender']\n"
          ]
        }
      ]
    },
    {
      "cell_type": "code",
      "source": [
        "# Menampilkan ringkasan statistik dataset\n",
        "df.describe().show()"
      ],
      "metadata": {
        "colab": {
          "base_uri": "https://localhost:8080/"
        },
        "id": "YXpdIdGUiYA0",
        "outputId": "b478cf02-9a04-4803-9a8d-404a45688c70"
      },
      "execution_count": 37,
      "outputs": [
        {
          "output_type": "stream",
          "name": "stdout",
          "text": [
            "+-------+-----------------+-----------------+-------------+------+\n",
            "|summary|               ID|              Age|         Name|Gender|\n",
            "+-------+-----------------+-----------------+-------------+------+\n",
            "|  count|           100000|           100000|       100000| 98080|\n",
            "|   mean|          49999.5|          50099.5|         NULL|  NULL|\n",
            "| stddev|28867.65779668774|28867.65779668774|         NULL|  NULL|\n",
            "|    min|                0|              100|Aaron Addesso|female|\n",
            "|    max|            99999|           100099|  Zulma Biggs|  male|\n",
            "+-------+-----------------+-----------------+-------------+------+\n",
            "\n"
          ]
        }
      ]
    },
    {
      "cell_type": "markdown",
      "source": [
        "#Seleksi dan Filter Data"
      ],
      "metadata": {
        "id": "THo-X_07jh-_"
      }
    },
    {
      "cell_type": "code",
      "source": [
        "# Memilih kolom tertentu\n",
        "df_selected = df.select(\"Name\", \"Age\")\n",
        "df_selected.show(10, truncate=False)"
      ],
      "metadata": {
        "colab": {
          "base_uri": "https://localhost:8080/"
        },
        "id": "Iu3SeyUMjgCs",
        "outputId": "f320a719-81c0-4a6f-9782-3e006e697600"
      },
      "execution_count": 38,
      "outputs": [
        {
          "output_type": "stream",
          "name": "stdout",
          "text": [
            "+----------------+---+\n",
            "|Name            |Age|\n",
            "+----------------+---+\n",
            "|Penelope Lewis  |100|\n",
            "|David Anthony   |101|\n",
            "|Ida Shipp       |102|\n",
            "|Joanna Moore    |103|\n",
            "|Lisandra Ortiz  |104|\n",
            "|David Simmons   |105|\n",
            "|Edward Hudson   |106|\n",
            "|Albert Jones    |107|\n",
            "|Leonard Cavender|108|\n",
            "|Everett Vadala  |109|\n",
            "+----------------+---+\n",
            "only showing top 10 rows\n",
            "\n"
          ]
        }
      ]
    },
    {
      "cell_type": "code",
      "source": [
        "# Memfilter dataset untuk mendapatkan record di mana usia di atas 30\n",
        "filtered_df = df.filter(df.Age > 30)\n",
        "filtered_df.show(10, truncate=False)"
      ],
      "metadata": {
        "colab": {
          "base_uri": "https://localhost:8080/"
        },
        "id": "TIFtOlcvjmnv",
        "outputId": "189b5dec-f25f-498c-d017-2ead6f66f1fb"
      },
      "execution_count": 39,
      "outputs": [
        {
          "output_type": "stream",
          "name": "stdout",
          "text": [
            "+---+---+----------------+------+\n",
            "|ID |Age|Name            |Gender|\n",
            "+---+---+----------------+------+\n",
            "|0  |100|Penelope Lewis  |female|\n",
            "|1  |101|David Anthony   |male  |\n",
            "|2  |102|Ida Shipp       |female|\n",
            "|3  |103|Joanna Moore    |female|\n",
            "|4  |104|Lisandra Ortiz  |female|\n",
            "|5  |105|David Simmons   |male  |\n",
            "|6  |106|Edward Hudson   |male  |\n",
            "|7  |107|Albert Jones    |male  |\n",
            "|8  |108|Leonard Cavender|male  |\n",
            "|9  |109|Everett Vadala  |male  |\n",
            "+---+---+----------------+------+\n",
            "only showing top 10 rows\n",
            "\n"
          ]
        }
      ]
    },
    {
      "cell_type": "code",
      "source": [
        "# Menghapus kolom \"Gender\"\n",
        "df_dropped = df.drop(\"Gender\")\n",
        "df_dropped.show(10, truncate=False)"
      ],
      "metadata": {
        "colab": {
          "base_uri": "https://localhost:8080/"
        },
        "id": "owTlr7FVjtQg",
        "outputId": "88c94713-971c-4e8c-e473-5b26f2c8ded2"
      },
      "execution_count": 40,
      "outputs": [
        {
          "output_type": "stream",
          "name": "stdout",
          "text": [
            "+---+---+----------------+\n",
            "|ID |Age|Name            |\n",
            "+---+---+----------------+\n",
            "|0  |100|Penelope Lewis  |\n",
            "|1  |101|David Anthony   |\n",
            "|2  |102|Ida Shipp       |\n",
            "|3  |103|Joanna Moore    |\n",
            "|4  |104|Lisandra Ortiz  |\n",
            "|5  |105|David Simmons   |\n",
            "|6  |106|Edward Hudson   |\n",
            "|7  |107|Albert Jones    |\n",
            "|8  |108|Leonard Cavender|\n",
            "|9  |109|Everett Vadala  |\n",
            "+---+---+----------------+\n",
            "only showing top 10 rows\n",
            "\n"
          ]
        }
      ]
    },
    {
      "cell_type": "markdown",
      "source": [
        "#Operasi Pembersihan Data"
      ],
      "metadata": {
        "id": "HsOxy2lPjxL7"
      }
    },
    {
      "cell_type": "code",
      "source": [
        "# Menghapus nilai null dan menangani data yang hilang\n",
        "cleaned_df = df.na.drop()"
      ],
      "metadata": {
        "id": "YzCXRZj4jzkj"
      },
      "execution_count": 41,
      "outputs": []
    },
    {
      "cell_type": "code",
      "source": [
        "# Menggantikan nilai null pada kolom 'Age' dengan nilai rata-rata\n",
        "average_age = df.select(avg(\"Age\")).collect()[0][0]\n",
        "df_filled = df.na.fill({\"Age\": int(average_age)})"
      ],
      "metadata": {
        "id": "NW4UinJ9j4Ym"
      },
      "execution_count": 42,
      "outputs": []
    },
    {
      "cell_type": "markdown",
      "source": [
        "#Transformasi Data"
      ],
      "metadata": {
        "id": "cdyuLIJYj9qB"
      }
    },
    {
      "cell_type": "code",
      "source": [
        "# Menambahkan kolom baru bernama \"Category\" berdasarkan \"Age\"\n",
        "df_with_category = df_filled.withColumn(\"Category\", when(df_filled.Age < 18, \"Minor\")\n",
        "                                        .when((df_filled.Age >= 18) & (df_filled.Age <= 60), \"Adult\")\n",
        "                                        .otherwise(\"Senior\"))\n",
        "df_with_category.show(10, truncate=False)"
      ],
      "metadata": {
        "colab": {
          "base_uri": "https://localhost:8080/"
        },
        "id": "v3K0YDLrkATp",
        "outputId": "71dfc1fe-3d06-4e43-9d2b-350e35429b4a"
      },
      "execution_count": 43,
      "outputs": [
        {
          "output_type": "stream",
          "name": "stdout",
          "text": [
            "+---+---+----------------+------+--------+\n",
            "|ID |Age|Name            |Gender|Category|\n",
            "+---+---+----------------+------+--------+\n",
            "|0  |100|Penelope Lewis  |female|Senior  |\n",
            "|1  |101|David Anthony   |male  |Senior  |\n",
            "|2  |102|Ida Shipp       |female|Senior  |\n",
            "|3  |103|Joanna Moore    |female|Senior  |\n",
            "|4  |104|Lisandra Ortiz  |female|Senior  |\n",
            "|5  |105|David Simmons   |male  |Senior  |\n",
            "|6  |106|Edward Hudson   |male  |Senior  |\n",
            "|7  |107|Albert Jones    |male  |Senior  |\n",
            "|8  |108|Leonard Cavender|male  |Senior  |\n",
            "|9  |109|Everett Vadala  |male  |Senior  |\n",
            "+---+---+----------------+------+--------+\n",
            "only showing top 10 rows\n",
            "\n"
          ]
        }
      ]
    },
    {
      "cell_type": "code",
      "source": [
        "# Mengganti nama kolom\n",
        "renamed_df = df_with_category.withColumnRenamed(\"Age\", \"Umur\")\n",
        "renamed_df.show(10, truncate=False)"
      ],
      "metadata": {
        "colab": {
          "base_uri": "https://localhost:8080/"
        },
        "id": "krWK-pC2kGn6",
        "outputId": "23c90c4a-8372-4452-b2b1-be96d37b026a"
      },
      "execution_count": 47,
      "outputs": [
        {
          "output_type": "stream",
          "name": "stdout",
          "text": [
            "+---+----+----------------+------+--------+\n",
            "|ID |Umur|Name            |Gender|Category|\n",
            "+---+----+----------------+------+--------+\n",
            "|0  |100 |Penelope Lewis  |female|Senior  |\n",
            "|1  |101 |David Anthony   |male  |Senior  |\n",
            "|2  |102 |Ida Shipp       |female|Senior  |\n",
            "|3  |103 |Joanna Moore    |female|Senior  |\n",
            "|4  |104 |Lisandra Ortiz  |female|Senior  |\n",
            "|5  |105 |David Simmons   |male  |Senior  |\n",
            "|6  |106 |Edward Hudson   |male  |Senior  |\n",
            "|7  |107 |Albert Jones    |male  |Senior  |\n",
            "|8  |108 |Leonard Cavender|male  |Senior  |\n",
            "|9  |109 |Everett Vadala  |male  |Senior  |\n",
            "+---+----+----------------+------+--------+\n",
            "only showing top 10 rows\n",
            "\n"
          ]
        }
      ]
    },
    {
      "cell_type": "code",
      "source": [
        "# Menghapus record yang duplikat\n",
        "df_no_duplicates = renamed_df.dropDuplicates()\n",
        "df_no_duplicates.show(10, truncate=False)"
      ],
      "metadata": {
        "colab": {
          "base_uri": "https://localhost:8080/"
        },
        "id": "NoqTMDJFkL54",
        "outputId": "7dd67a82-3691-41de-e11b-e906e6b1f1d0"
      },
      "execution_count": 48,
      "outputs": [
        {
          "output_type": "stream",
          "name": "stdout",
          "text": [
            "+----+----+--------------------+------+--------+\n",
            "|ID  |Umur|Name                |Gender|Category|\n",
            "+----+----+--------------------+------+--------+\n",
            "|1426|1526|James Medina        |male  |Senior  |\n",
            "|1443|1543|Janice Mcdavid      |female|Senior  |\n",
            "|1728|1828|Ruth Breeden        |female|Senior  |\n",
            "|2030|2130|Eleanor Luongo      |female|Senior  |\n",
            "|2135|2235|Elizabeth Mckittrick|female|Senior  |\n",
            "|2346|2446|Karen Colgan        |female|Senior  |\n",
            "|2376|2476|Mary Williams       |female|Senior  |\n",
            "|2432|2532|Eloisa Hedrick      |female|Senior  |\n",
            "|2720|2820|James Mcgowen       |male  |Senior  |\n",
            "|2935|3035|Suzanne Yang        |female|Senior  |\n",
            "+----+----+--------------------+------+--------+\n",
            "only showing top 10 rows\n",
            "\n"
          ]
        }
      ]
    },
    {
      "cell_type": "markdown",
      "source": [
        "#Operasi Agregasi"
      ],
      "metadata": {
        "id": "HCYC0OKakQgL"
      }
    },
    {
      "cell_type": "code",
      "source": [
        "# Menghitung jumlah orang per negara\n",
        "grouped_df = df_with_category.groupBy(\"Category\").count()\n",
        "grouped_df.show(truncate=False)"
      ],
      "metadata": {
        "colab": {
          "base_uri": "https://localhost:8080/"
        },
        "id": "uCmwGZkdkSbX",
        "outputId": "2d6c5c0a-3f23-40bb-ea69-2c7b567b962b"
      },
      "execution_count": 49,
      "outputs": [
        {
          "output_type": "stream",
          "name": "stdout",
          "text": [
            "+--------+------+\n",
            "|Category|count |\n",
            "+--------+------+\n",
            "|Senior  |100000|\n",
            "+--------+------+\n",
            "\n"
          ]
        }
      ]
    },
    {
      "cell_type": "code",
      "source": [
        "# Melakukan agregasi menggunakan beberapa fungsi\n",
        "df_agg = df_with_category.groupBy(\"Category\").agg(\n",
        "    avg(\"Age\").alias(\"Rata_Rata_Usia\"),\n",
        "    count(\"Name\").alias(\"Jumlah_Orang\")\n",
        ")\n",
        "df_agg.show(truncate=False)"
      ],
      "metadata": {
        "colab": {
          "base_uri": "https://localhost:8080/"
        },
        "id": "lP3UqsPpkUl7",
        "outputId": "2c8496c0-96ca-4fad-8f99-8db296c6335d"
      },
      "execution_count": 50,
      "outputs": [
        {
          "output_type": "stream",
          "name": "stdout",
          "text": [
            "+--------+--------------+------------+\n",
            "|Category|Rata_Rata_Usia|Jumlah_Orang|\n",
            "+--------+--------------+------------+\n",
            "|Senior  |50099.5       |100000      |\n",
            "+--------+--------------+------------+\n",
            "\n"
          ]
        }
      ]
    },
    {
      "cell_type": "markdown",
      "source": [
        "#Menggabungkan DataFrame"
      ],
      "metadata": {
        "id": "g8NdFPhrkir7"
      }
    },
    {
      "cell_type": "code",
      "source": [
        "# Membuat DataFrame sampel untuk digabungkan\n",
        "data_tambahan = [(\"Penelope Lewis\", \"Engineer\"), (\"Karen Colgan\", \"Doctor\"), (\"Suzanne Yang\", \"Teacher\")]\n",
        "skema_tambahan = StructType([\n",
        "    StructField(\"Name\", StringType(), True),\n",
        "    StructField(\"Occupation\", StringType(), True)\n",
        "])\n",
        "extra_df = spark.createDataFrame(data_tambahan, skema_tambahan)"
      ],
      "metadata": {
        "id": "2Whf9y7AklsG"
      },
      "execution_count": 53,
      "outputs": []
    },
    {
      "cell_type": "code",
      "source": [
        "# Melakukan join inner pada \"Name\"\n",
        "joined_df = df_with_category.join(extra_df, on=\"Name\", how=\"inner\")\n",
        "joined_df.show(truncate=False)"
      ],
      "metadata": {
        "colab": {
          "base_uri": "https://localhost:8080/"
        },
        "id": "XymwqrPykorP",
        "outputId": "becf632d-0325-4f85-db8b-470ebe235e93"
      },
      "execution_count": 54,
      "outputs": [
        {
          "output_type": "stream",
          "name": "stdout",
          "text": [
            "+--------------+----+----+------+--------+----------+\n",
            "|Name          |ID  |Age |Gender|Category|Occupation|\n",
            "+--------------+----+----+------+--------+----------+\n",
            "|Penelope Lewis|0   |100 |female|Senior  |Engineer  |\n",
            "|Karen Colgan  |2346|2446|female|Senior  |Doctor    |\n",
            "|Suzanne Yang  |2935|3035|female|Senior  |Teacher   |\n",
            "+--------------+----+----+------+--------+----------+\n",
            "\n"
          ]
        }
      ]
    },
    {
      "cell_type": "markdown",
      "source": [
        "#Operasi SQL"
      ],
      "metadata": {
        "id": "Dp3tJEHIm8Qb"
      }
    },
    {
      "cell_type": "code",
      "source": [
        "# Mendaftarkan DataFrame sebagai Tampilan Sementara SQL\n",
        "df_with_category.createOrReplaceTempView(\"people_view\")"
      ],
      "metadata": {
        "id": "CfzCh0mkm543"
      },
      "execution_count": 55,
      "outputs": []
    },
    {
      "cell_type": "code",
      "source": [
        "# Menjalankan query SQL pada tampilan yang terdaftar\n",
        "sql_result = spark.sql(\"SELECT Name, Age FROM people_view WHERE Age > 30\")\n",
        "sql_result.show(truncate=False)"
      ],
      "metadata": {
        "colab": {
          "base_uri": "https://localhost:8080/"
        },
        "id": "Im6nwHyzm_7K",
        "outputId": "f2cdb3ae-5347-4aef-c9ff-f5488d631d89"
      },
      "execution_count": 56,
      "outputs": [
        {
          "output_type": "stream",
          "name": "stdout",
          "text": [
            "+-----------------+---+\n",
            "|Name             |Age|\n",
            "+-----------------+---+\n",
            "|Penelope Lewis   |100|\n",
            "|David Anthony    |101|\n",
            "|Ida Shipp        |102|\n",
            "|Joanna Moore     |103|\n",
            "|Lisandra Ortiz   |104|\n",
            "|David Simmons    |105|\n",
            "|Edward Hudson    |106|\n",
            "|Albert Jones     |107|\n",
            "|Leonard Cavender |108|\n",
            "|Everett Vadala   |109|\n",
            "|Freddie Claridge |110|\n",
            "|Annabelle Rosseau|111|\n",
            "|Eulah Emanuel    |112|\n",
            "|Shaun Love       |113|\n",
            "|Alejandro Brennan|114|\n",
            "|Robert Mcreynolds|115|\n",
            "|Carla Spickard   |116|\n",
            "|Florence Eberhart|117|\n",
            "|Tina Gaskins     |118|\n",
            "|Florence Mulhern |119|\n",
            "+-----------------+---+\n",
            "only showing top 20 rows\n",
            "\n"
          ]
        }
      ]
    },
    {
      "cell_type": "markdown",
      "source": [
        "#Menyimpan DataFrame ke Berbagai Format"
      ],
      "metadata": {
        "id": "fHIke-kXnG02"
      }
    },
    {
      "cell_type": "code",
      "source": [
        "# Menyimpan DataFrame ke dalam format CSV\n",
        "output_csv_path = \"/content/cleaned_people_dataset.csv\"\n",
        "df_with_category.write.csv(output_csv_path, header=True)"
      ],
      "metadata": {
        "id": "tSi6v02CnJ3c"
      },
      "execution_count": 57,
      "outputs": []
    },
    {
      "cell_type": "code",
      "source": [
        "# Menyimpan DataFrame ke dalam format Parquet\n",
        "output_parquet_path = \"/content/cleaned_people_dataset.parquet\"\n",
        "df_with_category.write.parquet(output_parquet_path)"
      ],
      "metadata": {
        "id": "IRNxGPHWnPTq"
      },
      "execution_count": 58,
      "outputs": []
    },
    {
      "cell_type": "code",
      "source": [
        "# Menyimpan DataFrame ke dalam format JSON\n",
        "output_json_path = \"/content/cleaned_people_dataset.json\"\n",
        "df_with_category.write.json(output_json_path)"
      ],
      "metadata": {
        "id": "ktdcIkJZnUS6"
      },
      "execution_count": 59,
      "outputs": []
    }
  ]
}