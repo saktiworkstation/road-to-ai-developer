{
  "nbformat": 4,
  "nbformat_minor": 0,
  "metadata": {
    "colab": {
      "provenance": [],
      "authorship_tag": "ABX9TyOHoXxQU0ikLGFTPw2kvKlm",
      "include_colab_link": true
    },
    "kernelspec": {
      "name": "python3",
      "display_name": "Python 3"
    },
    "language_info": {
      "name": "python"
    }
  },
  "cells": [
    {
      "cell_type": "markdown",
      "metadata": {
        "id": "view-in-github",
        "colab_type": "text"
      },
      "source": [
        "<a href=\"https://colab.research.google.com/github/saktiworkstation/road-to-ai-developer/blob/main/Dummy_Korelasi_Keluarga_Pendidikan.ipynb\" target=\"_parent\"><img src=\"https://colab.research.google.com/assets/colab-badge.svg\" alt=\"Open In Colab\"/></a>"
      ]
    },
    {
      "cell_type": "code",
      "execution_count": 1,
      "metadata": {
        "id": "Dnn7LKOqiQxS"
      },
      "outputs": [],
      "source": [
        "import pandas as pd\n",
        "import numpy as np\n",
        "import random"
      ]
    },
    {
      "cell_type": "code",
      "source": [
        "# Menentukan jumlah data dummy\n",
        "data_size = 1000"
      ],
      "metadata": {
        "id": "oKFwZ3gciWJr"
      },
      "execution_count": 2,
      "outputs": []
    },
    {
      "cell_type": "code",
      "source": [
        "# Membuat data acak untuk setiap kolom\n",
        "data = {\n",
        "    'Family_ID': [f'FAM-{i+1:04d}' for i in range(data_size)],\n",
        "    'Parent_Education_Level': [random.choice(['SD', 'SMP', 'SMA', 'Diploma', 'Sarjana', 'Magister']) for _ in range(data_size)],\n",
        "    'Family_Income': np.random.randint(1000000, 20000000, data_size),\n",
        "    'Number_of_Children': np.random.randint(1, 5, data_size),\n",
        "    'Home_Environment': [random.choice(['Supportive', 'Neutral', 'Unsupportive']) for _ in range(data_size)],\n",
        "    'Parental_Involvement': [random.choice(['High', 'Moderate', 'Low']) for _ in range(data_size)],\n",
        "    'Access_to_Internet': [random.choice(['Yes', 'No']) for _ in range(data_size)],\n",
        "    'Child_Age': np.random.randint(6, 18, data_size),\n",
        "    'Child_Education_Level': [random.choice(['SD', 'SMP', 'SMA']) for _ in range(data_size)],\n",
        "    'Academic_Performance': [random.choice(['Excellent', 'Good', 'Average', 'Below Average', 'Poor']) for _ in range(data_size)],\n",
        "    'Extracurricular_Activities': [random.choice(['Yes', 'No']) for _ in range(data_size)],\n",
        "}"
      ],
      "metadata": {
        "id": "sjfg5L4ZiXps"
      },
      "execution_count": 3,
      "outputs": []
    },
    {
      "cell_type": "code",
      "source": [
        "# Mengonversi data menjadi DataFrame\n",
        "df = pd.DataFrame(data)"
      ],
      "metadata": {
        "id": "2F7v6BoGiZDW"
      },
      "execution_count": 4,
      "outputs": []
    },
    {
      "cell_type": "code",
      "source": [
        "# Menyimpan data ke dalam file CSV\n",
        "df.to_csv('data_korelasi_keluarga_pendidikan.csv', index=False)\n",
        "\n",
        "print(\"File CSV 'data_korelasi_keluarga_pendidikan.csv' telah dibuat.\")"
      ],
      "metadata": {
        "colab": {
          "base_uri": "https://localhost:8080/"
        },
        "id": "U9n9sFyEialI",
        "outputId": "3121354b-70d8-4931-97d3-a5aa34f4ae02"
      },
      "execution_count": 5,
      "outputs": [
        {
          "output_type": "stream",
          "name": "stdout",
          "text": [
            "File CSV 'data_korelasi_keluarga_pendidikan.csv' telah dibuat.\n"
          ]
        }
      ]
    }
  ]
}