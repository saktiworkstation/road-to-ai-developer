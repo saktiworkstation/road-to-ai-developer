{
  "nbformat": 4,
  "nbformat_minor": 0,
  "metadata": {
    "colab": {
      "provenance": [],
      "authorship_tag": "ABX9TyNccapiQfGeOzjxWQRohsdc",
      "include_colab_link": true
    },
    "kernelspec": {
      "name": "python3",
      "display_name": "Python 3"
    },
    "language_info": {
      "name": "python"
    }
  },
  "cells": [
    {
      "cell_type": "markdown",
      "metadata": {
        "id": "view-in-github",
        "colab_type": "text"
      },
      "source": [
        "<a href=\"https://colab.research.google.com/github/saktiworkstation/road-to-ai-developer/blob/main/Pyspark_Join.ipynb\" target=\"_parent\"><img src=\"https://colab.research.google.com/assets/colab-badge.svg\" alt=\"Open In Colab\"/></a>"
      ]
    },
    {
      "cell_type": "code",
      "source": [
        "!pip install pyspark"
      ],
      "metadata": {
        "colab": {
          "base_uri": "https://localhost:8080/"
        },
        "id": "XP3OrJUNNKpG",
        "outputId": "e984b887-acfc-45ee-ccd2-1c4baa0690d0"
      },
      "execution_count": 5,
      "outputs": [
        {
          "output_type": "stream",
          "name": "stdout",
          "text": [
            "Collecting pyspark\n",
            "  Downloading pyspark-3.5.3.tar.gz (317.3 MB)\n",
            "\u001b[2K     \u001b[90m━━━━━━━━━━━━━━━━━━━━━━━━━━━━━━━━━━━━━━━━\u001b[0m \u001b[32m317.3/317.3 MB\u001b[0m \u001b[31m4.8 MB/s\u001b[0m eta \u001b[36m0:00:00\u001b[0m\n",
            "\u001b[?25h  Preparing metadata (setup.py) ... \u001b[?25l\u001b[?25hdone\n",
            "Requirement already satisfied: py4j==0.10.9.7 in /usr/local/lib/python3.10/dist-packages (from pyspark) (0.10.9.7)\n",
            "Building wheels for collected packages: pyspark\n",
            "  Building wheel for pyspark (setup.py) ... \u001b[?25l\u001b[?25hdone\n",
            "  Created wheel for pyspark: filename=pyspark-3.5.3-py2.py3-none-any.whl size=317840625 sha256=39b0924b8c9db6533989d9f9e15041642cec54f4c6bca4651e9c57bc7ceca518\n",
            "  Stored in directory: /root/.cache/pip/wheels/1b/3a/92/28b93e2fbfdbb07509ca4d6f50c5e407f48dce4ddbda69a4ab\n",
            "Successfully built pyspark\n",
            "Installing collected packages: pyspark\n",
            "Successfully installed pyspark-3.5.3\n"
          ]
        }
      ]
    },
    {
      "cell_type": "markdown",
      "source": [
        "# Materi\n",
        "# Sakti Kusumaa Aji | 22.11.4677"
      ],
      "metadata": {
        "id": "Icq_fI1NR0oZ"
      }
    },
    {
      "cell_type": "code",
      "source": [
        "from pyspark.sql import SparkSession\n",
        "from pyspark.sql.functions import col\n",
        "\n",
        "# Buat Spark session\n",
        "spark = SparkSession.builder.master(\"local\").appName(\"Dataset pesawat\").getOrCreate()"
      ],
      "metadata": {
        "id": "OOYIZkBsNhPw"
      },
      "execution_count": 12,
      "outputs": []
    },
    {
      "cell_type": "code",
      "source": [
        "# Load dataset dari file CSV menggunakan spark.read.csv dan pastikan header diakui\n",
        "airport = spark.read.csv(\"/content/airports.csv\", header=True, inferSchema=True)\n",
        "flights = spark.read.csv(\"/content/flights_small.csv\", header=True, inferSchema=True)\n",
        "planes = spark.read.csv(\"/content/planes.csv\", header=True, inferSchema=True)"
      ],
      "metadata": {
        "id": "p3NSv2wNMF3Y"
      },
      "execution_count": 10,
      "outputs": []
    },
    {
      "cell_type": "code",
      "source": [
        "# Tampilkan 5 baris pertama dari tiap dataset dengan lebih rapi\n",
        "print(\"Airport Dataset:\")\n",
        "airport.show(5, truncate=False)\n",
        "\n",
        "print(\"Flights Dataset:\")\n",
        "flights.show(5, truncate=False)\n",
        "\n",
        "print(\"Planes Dataset:\")\n",
        "planes.show(5, truncate=False)"
      ],
      "metadata": {
        "colab": {
          "base_uri": "https://localhost:8080/"
        },
        "id": "_VviLHAFMhR-",
        "outputId": "0922f937-ac19-4708-8638-a904bdf5f235"
      },
      "execution_count": 11,
      "outputs": [
        {
          "output_type": "stream",
          "name": "stdout",
          "text": [
            "Airport Dataset:\n",
            "+---+-----------------------------+----------+-----------+----+---+---+\n",
            "|faa|name                         |lat       |lon        |alt |tz |dst|\n",
            "+---+-----------------------------+----------+-----------+----+---+---+\n",
            "|04G|Lansdowne Airport            |41.1304722|-80.6195833|1044|-5 |A  |\n",
            "|06A|Moton Field Municipal Airport|32.4605722|-85.6800278|264 |-5 |A  |\n",
            "|06C|Schaumburg Regional          |41.9893408|-88.1012428|801 |-6 |A  |\n",
            "|06N|Randall Airport              |41.431912 |-74.3915611|523 |-5 |A  |\n",
            "|09J|Jekyll Island Airport        |31.0744722|-81.4277778|11  |-4 |A  |\n",
            "+---+-----------------------------+----------+-----------+----+---+---+\n",
            "only showing top 5 rows\n",
            "\n",
            "Flights Dataset:\n",
            "+----+-----+---+--------+---------+--------+---------+-------+-------+------+------+----+--------+--------+----+------+\n",
            "|year|month|day|dep_time|dep_delay|arr_time|arr_delay|carrier|tailnum|flight|origin|dest|air_time|distance|hour|minute|\n",
            "+----+-----+---+--------+---------+--------+---------+-------+-------+------+------+----+--------+--------+----+------+\n",
            "|2014|12   |8  |658     |-7       |935     |-5       |VX     |N846VA |1780  |SEA   |LAX |132     |954     |6   |58    |\n",
            "|2014|1    |22 |1040    |5        |1505    |5        |AS     |N559AS |851   |SEA   |HNL |360     |2677    |10  |40    |\n",
            "|2014|3    |9  |1443    |-2       |1652    |2        |VX     |N847VA |755   |SEA   |SFO |111     |679     |14  |43    |\n",
            "|2014|4    |9  |1705    |45       |1839    |34       |WN     |N360SW |344   |PDX   |SJC |83      |569     |17  |5     |\n",
            "|2014|3    |9  |754     |-1       |1015    |1        |AS     |N612AS |522   |SEA   |BUR |127     |937     |7   |54    |\n",
            "+----+-----+---+--------+---------+--------+---------+-------+-------+------+------+----+--------+--------+----+------+\n",
            "only showing top 5 rows\n",
            "\n",
            "Planes Dataset:\n",
            "+-------+----+-----------------------+----------------+--------+-------+-----+-----+---------+\n",
            "|tailnum|year|type                   |manufacturer    |model   |engines|seats|speed|engine   |\n",
            "+-------+----+-----------------------+----------------+--------+-------+-----+-----+---------+\n",
            "|N102UW |1998|Fixed wing multi engine|AIRBUS INDUSTRIE|A320-214|2      |182  |NA   |Turbo-fan|\n",
            "|N103US |1999|Fixed wing multi engine|AIRBUS INDUSTRIE|A320-214|2      |182  |NA   |Turbo-fan|\n",
            "|N104UW |1999|Fixed wing multi engine|AIRBUS INDUSTRIE|A320-214|2      |182  |NA   |Turbo-fan|\n",
            "|N105UW |1999|Fixed wing multi engine|AIRBUS INDUSTRIE|A320-214|2      |182  |NA   |Turbo-fan|\n",
            "|N107US |1999|Fixed wing multi engine|AIRBUS INDUSTRIE|A320-214|2      |182  |NA   |Turbo-fan|\n",
            "+-------+----+-----------------------+----------------+--------+-------+-----+-----+---------+\n",
            "only showing top 5 rows\n",
            "\n"
          ]
        }
      ]
    },
    {
      "cell_type": "code",
      "source": [
        "# Inner Join antara airport dan flights berdasarkan kolom origin dari flights dan faa dari airport\n",
        "inner_join_df = flights.join(airport, flights.origin == airport.faa, how='inner')\n",
        "\n",
        "print(\"Inner Join:\")\n",
        "inner_join_df.show(5, truncate=False)"
      ],
      "metadata": {
        "colab": {
          "base_uri": "https://localhost:8080/"
        },
        "id": "SEYWRBItQ4pb",
        "outputId": "bcb1ad96-e12e-4157-fe72-5c7eb7f61aef"
      },
      "execution_count": 14,
      "outputs": [
        {
          "output_type": "stream",
          "name": "stdout",
          "text": [
            "Inner Join:\n",
            "+----+-----+---+--------+---------+--------+---------+-------+-------+------+------+----+--------+--------+----+------+---+-------------------+---------+-----------+---+---+---+\n",
            "|year|month|day|dep_time|dep_delay|arr_time|arr_delay|carrier|tailnum|flight|origin|dest|air_time|distance|hour|minute|faa|name               |lat      |lon        |alt|tz |dst|\n",
            "+----+-----+---+--------+---------+--------+---------+-------+-------+------+------+----+--------+--------+----+------+---+-------------------+---------+-----------+---+---+---+\n",
            "|2014|12   |8  |658     |-7       |935     |-5       |VX     |N846VA |1780  |SEA   |LAX |132     |954     |6   |58    |SEA|Seattle Tacoma Intl|47.449   |-122.309306|433|-8 |A  |\n",
            "|2014|1    |22 |1040    |5        |1505    |5        |AS     |N559AS |851   |SEA   |HNL |360     |2677    |10  |40    |SEA|Seattle Tacoma Intl|47.449   |-122.309306|433|-8 |A  |\n",
            "|2014|3    |9  |1443    |-2       |1652    |2        |VX     |N847VA |755   |SEA   |SFO |111     |679     |14  |43    |SEA|Seattle Tacoma Intl|47.449   |-122.309306|433|-8 |A  |\n",
            "|2014|4    |9  |1705    |45       |1839    |34       |WN     |N360SW |344   |PDX   |SJC |83      |569     |17  |5     |PDX|Portland Intl      |45.588722|-122.5975  |30 |-8 |A  |\n",
            "|2014|3    |9  |754     |-1       |1015    |1        |AS     |N612AS |522   |SEA   |BUR |127     |937     |7   |54    |SEA|Seattle Tacoma Intl|47.449   |-122.309306|433|-8 |A  |\n",
            "+----+-----+---+--------+---------+--------+---------+-------+-------+------+------+----+--------+--------+----+------+---+-------------------+---------+-----------+---+---+---+\n",
            "only showing top 5 rows\n",
            "\n"
          ]
        }
      ]
    },
    {
      "cell_type": "code",
      "source": [
        "# Filtering: Menampilkan flight yang memiliki delay lebih dari 0\n",
        "inner_filter_df = inner_join_df.filter(col(\"dep_delay\") > 0)\n",
        "print(\"Inner Join with Filter (dep_delay > 0):\")\n",
        "inner_filter_df.show(5, truncate=False)"
      ],
      "metadata": {
        "colab": {
          "base_uri": "https://localhost:8080/"
        },
        "id": "pXKpUr5eQ8eW",
        "outputId": "885e1d30-31fe-4aca-e8eb-961ed0d0ca86"
      },
      "execution_count": 16,
      "outputs": [
        {
          "output_type": "stream",
          "name": "stdout",
          "text": [
            "Inner Join with Filter (dep_delay > 0):\n",
            "+----+-----+---+--------+---------+--------+---------+-------+-------+------+------+----+--------+--------+----+------+---+-------------------+---------+-----------+---+---+---+\n",
            "|year|month|day|dep_time|dep_delay|arr_time|arr_delay|carrier|tailnum|flight|origin|dest|air_time|distance|hour|minute|faa|name               |lat      |lon        |alt|tz |dst|\n",
            "+----+-----+---+--------+---------+--------+---------+-------+-------+------+------+----+--------+--------+----+------+---+-------------------+---------+-----------+---+---+---+\n",
            "|2014|1    |22 |1040    |5        |1505    |5        |AS     |N559AS |851   |SEA   |HNL |360     |2677    |10  |40    |SEA|Seattle Tacoma Intl|47.449   |-122.309306|433|-8 |A  |\n",
            "|2014|4    |9  |1705    |45       |1839    |34       |WN     |N360SW |344   |PDX   |SJC |83      |569     |17  |5     |PDX|Portland Intl      |45.588722|-122.5975  |30 |-8 |A  |\n",
            "|2014|1    |15 |1037    |7        |1352    |2        |WN     |N646SW |48    |PDX   |DEN |121     |991     |10  |37    |PDX|Portland Intl      |45.588722|-122.5975  |30 |-8 |A  |\n",
            "|2014|7    |2  |847     |42       |1041    |51       |WN     |N422WN |1520  |PDX   |OAK |90      |543     |8   |47    |PDX|Portland Intl      |45.588722|-122.5975  |30 |-8 |A  |\n",
            "|2014|10   |30 |811     |21       |1038    |29       |AS     |N433AS |608   |SEA   |LAS |127     |867     |8   |11    |SEA|Seattle Tacoma Intl|47.449   |-122.309306|433|-8 |A  |\n",
            "+----+-----+---+--------+---------+--------+---------+-------+-------+------+------+----+--------+--------+----+------+---+-------------------+---------+-----------+---+---+---+\n",
            "only showing top 5 rows\n",
            "\n"
          ]
        }
      ]
    },
    {
      "cell_type": "code",
      "source": [
        "# Left Join antara airport dan flights\n",
        "left_join_df = flights.join(airport, flights.origin == airport.faa, how='left')\n",
        "print(\"Left Join:\")\n",
        "left_join_df.show(5, truncate=False)"
      ],
      "metadata": {
        "colab": {
          "base_uri": "https://localhost:8080/"
        },
        "id": "q8Fz1nphRLp6",
        "outputId": "c94d0049-301a-44cd-b944-d6a42b6677db"
      },
      "execution_count": 17,
      "outputs": [
        {
          "output_type": "stream",
          "name": "stdout",
          "text": [
            "Left Join:\n",
            "+----+-----+---+--------+---------+--------+---------+-------+-------+------+------+----+--------+--------+----+------+---+-------------------+---------+-----------+---+---+---+\n",
            "|year|month|day|dep_time|dep_delay|arr_time|arr_delay|carrier|tailnum|flight|origin|dest|air_time|distance|hour|minute|faa|name               |lat      |lon        |alt|tz |dst|\n",
            "+----+-----+---+--------+---------+--------+---------+-------+-------+------+------+----+--------+--------+----+------+---+-------------------+---------+-----------+---+---+---+\n",
            "|2014|12   |8  |658     |-7       |935     |-5       |VX     |N846VA |1780  |SEA   |LAX |132     |954     |6   |58    |SEA|Seattle Tacoma Intl|47.449   |-122.309306|433|-8 |A  |\n",
            "|2014|1    |22 |1040    |5        |1505    |5        |AS     |N559AS |851   |SEA   |HNL |360     |2677    |10  |40    |SEA|Seattle Tacoma Intl|47.449   |-122.309306|433|-8 |A  |\n",
            "|2014|3    |9  |1443    |-2       |1652    |2        |VX     |N847VA |755   |SEA   |SFO |111     |679     |14  |43    |SEA|Seattle Tacoma Intl|47.449   |-122.309306|433|-8 |A  |\n",
            "|2014|4    |9  |1705    |45       |1839    |34       |WN     |N360SW |344   |PDX   |SJC |83      |569     |17  |5     |PDX|Portland Intl      |45.588722|-122.5975  |30 |-8 |A  |\n",
            "|2014|3    |9  |754     |-1       |1015    |1        |AS     |N612AS |522   |SEA   |BUR |127     |937     |7   |54    |SEA|Seattle Tacoma Intl|47.449   |-122.309306|433|-8 |A  |\n",
            "+----+-----+---+--------+---------+--------+---------+-------+-------+------+------+----+--------+--------+----+------+---+-------------------+---------+-----------+---+---+---+\n",
            "only showing top 5 rows\n",
            "\n"
          ]
        }
      ]
    },
    {
      "cell_type": "code",
      "source": [
        "# Filtering: Menampilkan flight yang memiliki dep_delay di antara -5 dan 10, air_time lebih dari 100, dan ketinggian alt di bawah 1000\n",
        "left_filter_df = left_join_df.filter((col(\"dep_delay\").between(-5, 10)) & (col(\"air_time\") > 100) & (col(\"alt\") < 1000))\n",
        "print(\"Left Join with Complex Filter (dep_delay between -5 and 10, air_time > 100, alt < 1000):\")\n",
        "left_filter_df.show(5, truncate=False)"
      ],
      "metadata": {
        "colab": {
          "base_uri": "https://localhost:8080/"
        },
        "id": "F_JqH6XyRSXf",
        "outputId": "06ccab6f-efe4-422b-b2ee-77bab59ef1dd"
      },
      "execution_count": 18,
      "outputs": [
        {
          "output_type": "stream",
          "name": "stdout",
          "text": [
            "Left Join with Complex Filter (dep_delay between -5 and 10, air_time > 100, alt < 1000):\n",
            "+----+-----+---+--------+---------+--------+---------+-------+-------+------+------+----+--------+--------+----+------+---+-------------------+---------+-----------+---+---+---+\n",
            "|year|month|day|dep_time|dep_delay|arr_time|arr_delay|carrier|tailnum|flight|origin|dest|air_time|distance|hour|minute|faa|name               |lat      |lon        |alt|tz |dst|\n",
            "+----+-----+---+--------+---------+--------+---------+-------+-------+------+------+----+--------+--------+----+------+---+-------------------+---------+-----------+---+---+---+\n",
            "|2014|1    |22 |1040    |5        |1505    |5        |AS     |N559AS |851   |SEA   |HNL |360     |2677    |10  |40    |SEA|Seattle Tacoma Intl|47.449   |-122.309306|433|-8 |A  |\n",
            "|2014|3    |9  |1443    |-2       |1652    |2        |VX     |N847VA |755   |SEA   |SFO |111     |679     |14  |43    |SEA|Seattle Tacoma Intl|47.449   |-122.309306|433|-8 |A  |\n",
            "|2014|3    |9  |754     |-1       |1015    |1        |AS     |N612AS |522   |SEA   |BUR |127     |937     |7   |54    |SEA|Seattle Tacoma Intl|47.449   |-122.309306|433|-8 |A  |\n",
            "|2014|1    |15 |1037    |7        |1352    |2        |WN     |N646SW |48    |PDX   |DEN |121     |991     |10  |37    |PDX|Portland Intl      |45.588722|-122.5975  |30 |-8 |A  |\n",
            "|2014|4    |19 |1236    |-4       |1508    |-7       |AS     |N309AS |490   |SEA   |SAN |135     |1050    |12  |36    |SEA|Seattle Tacoma Intl|47.449   |-122.309306|433|-8 |A  |\n",
            "+----+-----+---+--------+---------+--------+---------+-------+-------+------+------+----+--------+--------+----+------+---+-------------------+---------+-----------+---+---+---+\n",
            "only showing top 5 rows\n",
            "\n"
          ]
        }
      ]
    },
    {
      "cell_type": "code",
      "source": [
        "# Right Join antara airport dan flights\n",
        "right_join_df = flights.join(airport, flights.origin == airport.faa, how='right')\n",
        "print(\"Right Join:\")\n",
        "right_join_df.show(5, truncate=False)"
      ],
      "metadata": {
        "colab": {
          "base_uri": "https://localhost:8080/"
        },
        "id": "xmELR4aHRXWG",
        "outputId": "296964c8-2339-401e-b970-30251d15a501"
      },
      "execution_count": 19,
      "outputs": [
        {
          "output_type": "stream",
          "name": "stdout",
          "text": [
            "Right Join:\n",
            "+----+-----+----+--------+---------+--------+---------+-------+-------+------+------+----+--------+--------+----+------+---+-----------------------------+----------+-----------+----+---+---+\n",
            "|year|month|day |dep_time|dep_delay|arr_time|arr_delay|carrier|tailnum|flight|origin|dest|air_time|distance|hour|minute|faa|name                         |lat       |lon        |alt |tz |dst|\n",
            "+----+-----+----+--------+---------+--------+---------+-------+-------+------+------+----+--------+--------+----+------+---+-----------------------------+----------+-----------+----+---+---+\n",
            "|NULL|NULL |NULL|NULL    |NULL     |NULL    |NULL     |NULL   |NULL   |NULL  |NULL  |NULL|NULL    |NULL    |NULL|NULL  |04G|Lansdowne Airport            |41.1304722|-80.6195833|1044|-5 |A  |\n",
            "|NULL|NULL |NULL|NULL    |NULL     |NULL    |NULL     |NULL   |NULL   |NULL  |NULL  |NULL|NULL    |NULL    |NULL|NULL  |06A|Moton Field Municipal Airport|32.4605722|-85.6800278|264 |-5 |A  |\n",
            "|NULL|NULL |NULL|NULL    |NULL     |NULL    |NULL     |NULL   |NULL   |NULL  |NULL  |NULL|NULL    |NULL    |NULL|NULL  |06C|Schaumburg Regional          |41.9893408|-88.1012428|801 |-6 |A  |\n",
            "|NULL|NULL |NULL|NULL    |NULL     |NULL    |NULL     |NULL   |NULL   |NULL  |NULL  |NULL|NULL    |NULL    |NULL|NULL  |06N|Randall Airport              |41.431912 |-74.3915611|523 |-5 |A  |\n",
            "|NULL|NULL |NULL|NULL    |NULL     |NULL    |NULL     |NULL   |NULL   |NULL  |NULL  |NULL|NULL    |NULL    |NULL|NULL  |09J|Jekyll Island Airport        |31.0744722|-81.4277778|11  |-4 |A  |\n",
            "+----+-----+----+--------+---------+--------+---------+-------+-------+------+------+----+--------+--------+----+------+---+-----------------------------+----------+-----------+----+---+---+\n",
            "only showing top 5 rows\n",
            "\n"
          ]
        }
      ]
    },
    {
      "cell_type": "code",
      "source": [
        "# Filtering: Menampilkan flight yang memiliki alt lebih dari 500 (ketinggian)\n",
        "right_filter_df = right_join_df.filter(col(\"alt\") > 500)\n",
        "print(\"Right Join with Filter (alt > 500):\")\n",
        "right_filter_df.show(5, truncate=False)"
      ],
      "metadata": {
        "colab": {
          "base_uri": "https://localhost:8080/"
        },
        "id": "JLtjYqMsRaQ7",
        "outputId": "68f90b86-81bf-4068-eb7b-32cde274c6f2"
      },
      "execution_count": 22,
      "outputs": [
        {
          "output_type": "stream",
          "name": "stdout",
          "text": [
            "Right Join with Filter (alt > 500):\n",
            "+----+-----+----+--------+---------+--------+---------+-------+-------+------+------+----+--------+--------+----+------+---+------------------------------+----------+-----------+----+---+---+\n",
            "|year|month|day |dep_time|dep_delay|arr_time|arr_delay|carrier|tailnum|flight|origin|dest|air_time|distance|hour|minute|faa|name                          |lat       |lon        |alt |tz |dst|\n",
            "+----+-----+----+--------+---------+--------+---------+-------+-------+------+------+----+--------+--------+----+------+---+------------------------------+----------+-----------+----+---+---+\n",
            "|NULL|NULL |NULL|NULL    |NULL     |NULL    |NULL     |NULL   |NULL   |NULL  |NULL  |NULL|NULL    |NULL    |NULL|NULL  |04G|Lansdowne Airport             |41.1304722|-80.6195833|1044|-5 |A  |\n",
            "|NULL|NULL |NULL|NULL    |NULL     |NULL    |NULL     |NULL   |NULL   |NULL  |NULL  |NULL|NULL    |NULL    |NULL|NULL  |06C|Schaumburg Regional           |41.9893408|-88.1012428|801 |-6 |A  |\n",
            "|NULL|NULL |NULL|NULL    |NULL     |NULL    |NULL     |NULL   |NULL   |NULL  |NULL  |NULL|NULL    |NULL    |NULL|NULL  |06N|Randall Airport               |41.431912 |-74.3915611|523 |-5 |A  |\n",
            "|NULL|NULL |NULL|NULL    |NULL     |NULL    |NULL     |NULL   |NULL   |NULL  |NULL  |NULL|NULL    |NULL    |NULL|NULL  |0A9|Elizabethton Municipal Airport|36.3712222|-82.1734167|1593|-4 |A  |\n",
            "|NULL|NULL |NULL|NULL    |NULL     |NULL    |NULL     |NULL   |NULL   |NULL  |NULL  |NULL|NULL    |NULL    |NULL|NULL  |0G6|Williams County Airport       |41.4673056|-84.5067778|730 |-5 |A  |\n",
            "+----+-----+----+--------+---------+--------+---------+-------+-------+------+------+----+--------+--------+----+------+---+------------------------------+----------+-----------+----+---+---+\n",
            "only showing top 5 rows\n",
            "\n"
          ]
        }
      ]
    },
    {
      "cell_type": "code",
      "source": [
        "# Full Outer Join antara airport dan flights\n",
        "outer_join_df = flights.join(airport, flights.origin == airport.faa, how='outer')\n",
        "print(\"Full Outer Join:\")\n",
        "outer_join_df.show(5, truncate=False)"
      ],
      "metadata": {
        "colab": {
          "base_uri": "https://localhost:8080/"
        },
        "id": "P3cIgLtLRszN",
        "outputId": "eade489a-ba88-405a-ae13-02f3fb47b35f"
      },
      "execution_count": 23,
      "outputs": [
        {
          "output_type": "stream",
          "name": "stdout",
          "text": [
            "Full Outer Join:\n",
            "+----+-----+----+--------+---------+--------+---------+-------+-------+------+------+----+--------+--------+----+------+---+-----------------------------+----------+-----------+----+---+---+\n",
            "|year|month|day |dep_time|dep_delay|arr_time|arr_delay|carrier|tailnum|flight|origin|dest|air_time|distance|hour|minute|faa|name                         |lat       |lon        |alt |tz |dst|\n",
            "+----+-----+----+--------+---------+--------+---------+-------+-------+------+------+----+--------+--------+----+------+---+-----------------------------+----------+-----------+----+---+---+\n",
            "|NULL|NULL |NULL|NULL    |NULL     |NULL    |NULL     |NULL   |NULL   |NULL  |NULL  |NULL|NULL    |NULL    |NULL|NULL  |04G|Lansdowne Airport            |41.1304722|-80.6195833|1044|-5 |A  |\n",
            "|NULL|NULL |NULL|NULL    |NULL     |NULL    |NULL     |NULL   |NULL   |NULL  |NULL  |NULL|NULL    |NULL    |NULL|NULL  |06A|Moton Field Municipal Airport|32.4605722|-85.6800278|264 |-5 |A  |\n",
            "|NULL|NULL |NULL|NULL    |NULL     |NULL    |NULL     |NULL   |NULL   |NULL  |NULL  |NULL|NULL    |NULL    |NULL|NULL  |06C|Schaumburg Regional          |41.9893408|-88.1012428|801 |-6 |A  |\n",
            "|NULL|NULL |NULL|NULL    |NULL     |NULL    |NULL     |NULL   |NULL   |NULL  |NULL  |NULL|NULL    |NULL    |NULL|NULL  |06N|Randall Airport              |41.431912 |-74.3915611|523 |-5 |A  |\n",
            "|NULL|NULL |NULL|NULL    |NULL     |NULL    |NULL     |NULL   |NULL   |NULL  |NULL  |NULL|NULL    |NULL    |NULL|NULL  |09J|Jekyll Island Airport        |31.0744722|-81.4277778|11  |-4 |A  |\n",
            "+----+-----+----+--------+---------+--------+---------+-------+-------+------+------+----+--------+--------+----+------+---+-----------------------------+----------+-----------+----+---+---+\n",
            "only showing top 5 rows\n",
            "\n"
          ]
        }
      ]
    },
    {
      "cell_type": "code",
      "source": [
        "# Filtering: Menampilkan flight yang memiliki arrival delay (arr_delay) lebih dari 10\n",
        "outer_filter_df = outer_join_df.filter(col(\"arr_delay\") > 10)\n",
        "print(\"Full Outer Join with Filter (arr_delay > 10):\")\n",
        "outer_filter_df.show(5, truncate=False)"
      ],
      "metadata": {
        "colab": {
          "base_uri": "https://localhost:8080/"
        },
        "id": "q3Z4sprlRu8_",
        "outputId": "765757f9-78bf-4e6b-b3bc-01dffab16545"
      },
      "execution_count": 24,
      "outputs": [
        {
          "output_type": "stream",
          "name": "stdout",
          "text": [
            "Full Outer Join with Filter (arr_delay > 10):\n",
            "+----+-----+---+--------+---------+--------+---------+-------+-------+------+------+----+--------+--------+----+------+---+-------------------+---------+-----------+---+---+---+\n",
            "|year|month|day|dep_time|dep_delay|arr_time|arr_delay|carrier|tailnum|flight|origin|dest|air_time|distance|hour|minute|faa|name               |lat      |lon        |alt|tz |dst|\n",
            "+----+-----+---+--------+---------+--------+---------+-------+-------+------+------+----+--------+--------+----+------+---+-------------------+---------+-----------+---+---+---+\n",
            "|2014|4    |9  |1705    |45       |1839    |34       |WN     |N360SW |344   |PDX   |SJC |83      |569     |17  |5     |PDX|Portland Intl      |45.588722|-122.5975  |30 |-8 |A  |\n",
            "|2014|7    |2  |847     |42       |1041    |51       |WN     |N422WN |1520  |PDX   |OAK |90      |543     |8   |47    |PDX|Portland Intl      |45.588722|-122.5975  |30 |-8 |A  |\n",
            "|2014|10   |30 |811     |21       |1038    |29       |AS     |N433AS |608   |SEA   |LAS |127     |867     |8   |11    |SEA|Seattle Tacoma Intl|47.449   |-122.309306|433|-8 |A  |\n",
            "|2014|10   |31 |1314    |89       |1544    |111      |AS     |N713AS |306   |SEA   |SFO |129     |679     |13  |14    |SEA|Seattle Tacoma Intl|47.449   |-122.309306|433|-8 |A  |\n",
            "|2014|12   |17 |2015    |50       |2150    |41       |AS     |N626AS |368   |SEA   |SMF |76      |605     |20  |15    |SEA|Seattle Tacoma Intl|47.449   |-122.309306|433|-8 |A  |\n",
            "+----+-----+---+--------+---------+--------+---------+-------+-------+------+------+----+--------+--------+----+------+---+-------------------+---------+-----------+---+---+---+\n",
            "only showing top 5 rows\n",
            "\n"
          ]
        }
      ]
    },
    {
      "cell_type": "code",
      "source": [
        "# Cross Join antara airport dan planes\n",
        "cross_join_df = airport.crossJoin(planes)\n",
        "print(\"Cross Join:\")\n",
        "cross_join_df.show(5, truncate=False)"
      ],
      "metadata": {
        "colab": {
          "base_uri": "https://localhost:8080/"
        },
        "id": "L3aLiAmyRxWv",
        "outputId": "6321aa71-0839-42ce-b5ed-f44eeb645138"
      },
      "execution_count": 25,
      "outputs": [
        {
          "output_type": "stream",
          "name": "stdout",
          "text": [
            "Cross Join:\n",
            "+---+-----------------------------+----------+-----------+----+---+---+-------+----+-----------------------+----------------+--------+-------+-----+-----+---------+\n",
            "|faa|name                         |lat       |lon        |alt |tz |dst|tailnum|year|type                   |manufacturer    |model   |engines|seats|speed|engine   |\n",
            "+---+-----------------------------+----------+-----------+----+---+---+-------+----+-----------------------+----------------+--------+-------+-----+-----+---------+\n",
            "|04G|Lansdowne Airport            |41.1304722|-80.6195833|1044|-5 |A  |N102UW |1998|Fixed wing multi engine|AIRBUS INDUSTRIE|A320-214|2      |182  |NA   |Turbo-fan|\n",
            "|06A|Moton Field Municipal Airport|32.4605722|-85.6800278|264 |-5 |A  |N102UW |1998|Fixed wing multi engine|AIRBUS INDUSTRIE|A320-214|2      |182  |NA   |Turbo-fan|\n",
            "|06C|Schaumburg Regional          |41.9893408|-88.1012428|801 |-6 |A  |N102UW |1998|Fixed wing multi engine|AIRBUS INDUSTRIE|A320-214|2      |182  |NA   |Turbo-fan|\n",
            "|06N|Randall Airport              |41.431912 |-74.3915611|523 |-5 |A  |N102UW |1998|Fixed wing multi engine|AIRBUS INDUSTRIE|A320-214|2      |182  |NA   |Turbo-fan|\n",
            "|09J|Jekyll Island Airport        |31.0744722|-81.4277778|11  |-4 |A  |N102UW |1998|Fixed wing multi engine|AIRBUS INDUSTRIE|A320-214|2      |182  |NA   |Turbo-fan|\n",
            "+---+-----------------------------+----------+-----------+----+---+---+-------+----+-----------------------+----------------+--------+-------+-----+-----+---------+\n",
            "only showing top 5 rows\n",
            "\n"
          ]
        }
      ]
    },
    {
      "cell_type": "code",
      "source": [
        "# Filtering: Menampilkan data pesawat yang memiliki lebih dari 2 mesin (engines)\n",
        "cross_filter_df = cross_join_df.filter(col(\"engines\") > 2)\n",
        "print(\"Cross Join with Filter (engines > 2):\")\n",
        "cross_filter_df.show(5, truncate=False)"
      ],
      "metadata": {
        "colab": {
          "base_uri": "https://localhost:8080/"
        },
        "id": "hAf9LgRPRy_R",
        "outputId": "4880b59e-8ce9-4bd9-9858-58ddb1e895d5"
      },
      "execution_count": 26,
      "outputs": [
        {
          "output_type": "stream",
          "name": "stdout",
          "text": [
            "Cross Join with Filter (engines > 2):\n",
            "+---+-----------------------------+----------+-----------+----+---+---+-------+----+-----------------------+------------+-------+-------+-----+-----+---------+\n",
            "|faa|name                         |lat       |lon        |alt |tz |dst|tailnum|year|type                   |manufacturer|model  |engines|seats|speed|engine   |\n",
            "+---+-----------------------------+----------+-----------+----+---+---+-------+----+-----------------------+------------+-------+-------+-----+-----+---------+\n",
            "|04G|Lansdowne Airport            |41.1304722|-80.6195833|1044|-5 |A  |N675NW |2002|Fixed wing multi engine|BOEING      |747-451|4      |450  |NA   |Turbo-jet|\n",
            "|06A|Moton Field Municipal Airport|32.4605722|-85.6800278|264 |-5 |A  |N675NW |2002|Fixed wing multi engine|BOEING      |747-451|4      |450  |NA   |Turbo-jet|\n",
            "|06C|Schaumburg Regional          |41.9893408|-88.1012428|801 |-6 |A  |N675NW |2002|Fixed wing multi engine|BOEING      |747-451|4      |450  |NA   |Turbo-jet|\n",
            "|06N|Randall Airport              |41.431912 |-74.3915611|523 |-5 |A  |N675NW |2002|Fixed wing multi engine|BOEING      |747-451|4      |450  |NA   |Turbo-jet|\n",
            "|09J|Jekyll Island Airport        |31.0744722|-81.4277778|11  |-4 |A  |N675NW |2002|Fixed wing multi engine|BOEING      |747-451|4      |450  |NA   |Turbo-jet|\n",
            "+---+-----------------------------+----------+-----------+----+---+---+-------+----+-----------------------+------------+-------+-------+-----+-----+---------+\n",
            "only showing top 5 rows\n",
            "\n"
          ]
        }
      ]
    },
    {
      "cell_type": "markdown",
      "source": [
        "# Studi Kasus"
      ],
      "metadata": {
        "id": "e6BaG_Q-SIQU"
      }
    },
    {
      "cell_type": "code",
      "source": [
        "# Inner Join antara flights dan planes berdasarkan kolom 'year'\n",
        "flights_with_planes = flights.join(planes, flights.year == planes.year, how='inner')\n",
        "flights_with_planes.show(5, truncate=False)"
      ],
      "metadata": {
        "colab": {
          "base_uri": "https://localhost:8080/"
        },
        "id": "YWvH5ALUSKZG",
        "outputId": "d5f75691-ced7-4842-d84b-b8dec6216892"
      },
      "execution_count": 39,
      "outputs": [
        {
          "output_type": "stream",
          "name": "stdout",
          "text": [
            "+----+-----+---+--------+---------+--------+---------+-------+-------+------+------+----+--------+--------+----+------+-------+----+-----------------------+------------+--------+-------+-----+-----+---------+\n",
            "|year|month|day|dep_time|dep_delay|arr_time|arr_delay|carrier|tailnum|flight|origin|dest|air_time|distance|hour|minute|tailnum|year|type                   |manufacturer|model   |engines|seats|speed|engine   |\n",
            "+----+-----+---+--------+---------+--------+---------+-------+-------+------+------+----+--------+--------+----+------+-------+----+-----------------------+------------+--------+-------+-----+-----+---------+\n",
            "|2014|12   |8  |658     |-7       |935     |-5       |VX     |N846VA |1780  |SEA   |LAX |132     |954     |6   |58    |N914UY |2014|Fixed wing multi engine|AIRBUS      |A321-231|2      |379  |NA   |Turbo-fan|\n",
            "|2014|12   |8  |658     |-7       |935     |-5       |VX     |N846VA |1780  |SEA   |LAX |132     |954     |6   |58    |N913US |2014|Fixed wing multi engine|AIRBUS      |A321-231|2      |379  |NA   |Turbo-fan|\n",
            "|2014|12   |8  |658     |-7       |935     |-5       |VX     |N846VA |1780  |SEA   |LAX |132     |954     |6   |58    |N912UY |2014|Fixed wing multi engine|AIRBUS      |A321-231|2      |379  |NA   |Turbo-fan|\n",
            "|2014|12   |8  |658     |-7       |935     |-5       |VX     |N846VA |1780  |SEA   |LAX |132     |954     |6   |58    |N8652B |2014|Fixed wing multi engine|BOEING      |737-8H4 |2      |140  |NA   |Turbo-fan|\n",
            "|2014|12   |8  |658     |-7       |935     |-5       |VX     |N846VA |1780  |SEA   |LAX |132     |954     |6   |58    |N8651A |2014|Fixed wing multi engine|BOEING      |737-8H4 |2      |140  |NA   |Turbo-fan|\n",
            "+----+-----+---+--------+---------+--------+---------+-------+-------+------+------+----+--------+--------+----+------+-------+----+-----------------------+------------+--------+-------+-----+-----+---------+\n",
            "only showing top 5 rows\n",
            "\n"
          ]
        }
      ]
    },
    {
      "cell_type": "code",
      "source": [
        "# dep_time, arr_time, origin, dan dest dengan filter dep_time < 1000 dan origin = 'PDX'\n",
        "filtered_flights = flights_with_planes.select(\"dep_time\", \"arr_time\", \"origin\", \"dest\").filter((col(\"dep_time\") < 1000) & (col(\"origin\") == 'PDX'))\n",
        "filtered_flights.show()"
      ],
      "metadata": {
        "colab": {
          "base_uri": "https://localhost:8080/"
        },
        "id": "PU0_24iQSp0H",
        "outputId": "311b93a7-cabf-4ebc-cca4-df88a3ca0332"
      },
      "execution_count": 32,
      "outputs": [
        {
          "output_type": "stream",
          "name": "stdout",
          "text": [
            "+--------+--------+------+----+\n",
            "|dep_time|arr_time|origin|dest|\n",
            "+--------+--------+------+----+\n",
            "|     847|    1041|   PDX| OAK|\n",
            "|     847|    1041|   PDX| OAK|\n",
            "|     847|    1041|   PDX| OAK|\n",
            "|     847|    1041|   PDX| OAK|\n",
            "|     847|    1041|   PDX| OAK|\n",
            "|     847|    1041|   PDX| OAK|\n",
            "|     847|    1041|   PDX| OAK|\n",
            "|     847|    1041|   PDX| OAK|\n",
            "|     847|    1041|   PDX| OAK|\n",
            "|     847|    1041|   PDX| OAK|\n",
            "|     847|    1041|   PDX| OAK|\n",
            "|     847|    1041|   PDX| OAK|\n",
            "|     847|    1041|   PDX| OAK|\n",
            "|     847|    1041|   PDX| OAK|\n",
            "|     847|    1041|   PDX| OAK|\n",
            "|     847|    1041|   PDX| OAK|\n",
            "|     847|    1041|   PDX| OAK|\n",
            "|     847|    1041|   PDX| OAK|\n",
            "|     847|    1041|   PDX| OAK|\n",
            "|     847|    1041|   PDX| OAK|\n",
            "+--------+--------+------+----+\n",
            "only showing top 20 rows\n",
            "\n"
          ]
        }
      ]
    },
    {
      "cell_type": "code",
      "source": [
        "# Inner Join antara flights dan planes berdasarkan kolom 'tailnum'\n",
        "flights_with_planes = flights.join(planes, flights.tailnum == planes.tailnum, how='inner')\n",
        "\n",
        "# Menghitung rata-rata waktu penerbangan (air_time) untuk setiap model pesawat (model)\n",
        "avg_airtime_by_model = flights_with_planes.groupBy(\"model\").agg({\"air_time\": \"avg\"}).withColumnRenamed(\"avg(air_time)\", \"average_air_time\")\n",
        "\n",
        "# Tampilkan rata-rata air_time per model dengan hasil yang benar\n",
        "avg_airtime_by_model.filter(col(\"average_air_time\").isNotNull()).show(truncate=False)\n"
      ],
      "metadata": {
        "colab": {
          "base_uri": "https://localhost:8080/"
        },
        "id": "qh3e4_IbSwx5",
        "outputId": "b526d593-2625-4a0d-c839-5768e997487a"
      },
      "execution_count": 36,
      "outputs": [
        {
          "output_type": "stream",
          "name": "stdout",
          "text": [
            "+-----------+------------------+\n",
            "|model      |average_air_time  |\n",
            "+-----------+------------------+\n",
            "|737-76Q    |116.2             |\n",
            "|737-3A4    |135.0             |\n",
            "|EMB-120ER  |33.92946058091286 |\n",
            "|757-2S7    |129.0             |\n",
            "|A321-231   |200.9777777777778 |\n",
            "|737-705    |209.5             |\n",
            "|737-924    |196.33333333333334|\n",
            "|421C       |199.33333333333334|\n",
            "|A320-211   |127.12280701754386|\n",
            "|A320-232   |183.10310965630114|\n",
            "|A319-112   |128.06024096385542|\n",
            "|EMB-120    |34.78260869565217 |\n",
            "|737-824    |171.17222222222222|\n",
            "|A330-223   |230.5             |\n",
            "|CL-600-2D24|87.31192660550458 |\n",
            "|757-223    |250.375           |\n",
            "|757-232    |159.64864864864865|\n",
            "|A320-214   |135.2829457364341 |\n",
            "|737-301    |84.0              |\n",
            "|737-932ER  |204.63924050632912|\n",
            "+-----------+------------------+\n",
            "only showing top 20 rows\n",
            "\n"
          ]
        }
      ]
    },
    {
      "cell_type": "code",
      "source": [
        "# Menghitung rata-rata keterlambatan kedatangan (arr_delay) untuk setiap maskapai (carrier) dan urutkan descending\n",
        "avg_arr_delay_by_carrier = flights.groupBy(\"carrier\").agg({\"arr_delay\": \"avg\"}).orderBy(col(\"avg(arr_delay)\").desc())\n",
        "avg_arr_delay_by_carrier.show()"
      ],
      "metadata": {
        "colab": {
          "base_uri": "https://localhost:8080/"
        },
        "id": "Oat2PC-FSz9D",
        "outputId": "185e3fe7-28b8-482f-b35c-9e4e4321a240"
      },
      "execution_count": 30,
      "outputs": [
        {
          "output_type": "stream",
          "name": "stdout",
          "text": [
            "+-------+-------------------+\n",
            "|carrier|     avg(arr_delay)|\n",
            "+-------+-------------------+\n",
            "|     AA|   6.51890756302521|\n",
            "|     WN|   6.04985549132948|\n",
            "|     F9|  5.392265193370166|\n",
            "|     UA|  3.217516843118383|\n",
            "|     B6| 2.6291079812206575|\n",
            "|     HA| 2.2816901408450705|\n",
            "|     OO| 1.9260533104041273|\n",
            "|     VX|  1.564516129032258|\n",
            "|     DL| 1.3955431754874652|\n",
            "|     AS| 0.6234420578095996|\n",
            "|     US|-1.4835164835164836|\n",
            "+-------+-------------------+\n",
            "\n"
          ]
        }
      ]
    }
  ]
}