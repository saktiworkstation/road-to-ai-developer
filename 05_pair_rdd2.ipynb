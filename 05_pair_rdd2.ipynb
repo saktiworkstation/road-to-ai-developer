{
  "cells": [
    {
      "cell_type": "markdown",
      "metadata": {
        "id": "view-in-github",
        "colab_type": "text"
      },
      "source": [
        "<a href=\"https://colab.research.google.com/github/saktiworkstation/road-to-ai-developer/blob/main/05_pair_rdd2.ipynb\" target=\"_parent\"><img src=\"https://colab.research.google.com/assets/colab-badge.svg\" alt=\"Open In Colab\"/></a>"
      ]
    },
    {
      "cell_type": "code",
      "source": [
        "!pip install pyspark"
      ],
      "metadata": {
        "colab": {
          "base_uri": "https://localhost:8080/"
        },
        "id": "KpmtUu2J2jMy",
        "outputId": "f6171936-05af-4f82-8a68-ba231aad2c18"
      },
      "execution_count": 2,
      "outputs": [
        {
          "output_type": "stream",
          "name": "stdout",
          "text": [
            "Requirement already satisfied: pyspark in /usr/local/lib/python3.10/dist-packages (3.5.3)\n",
            "Requirement already satisfied: py4j==0.10.9.7 in /usr/local/lib/python3.10/dist-packages (from pyspark) (0.10.9.7)\n"
          ]
        }
      ]
    },
    {
      "cell_type": "markdown",
      "metadata": {
        "id": "uBiqkyL8y3Xv"
      },
      "source": [
        "# Pair RDDs in PySpark"
      ]
    },
    {
      "cell_type": "code",
      "execution_count": 3,
      "metadata": {
        "id": "w5_TxeV9y3X3"
      },
      "outputs": [],
      "source": [
        "from pyspark.sql import SparkSession\n",
        "spark = SparkSession.builder.getOrCreate()\n",
        "sc = spark.sparkContext"
      ]
    },
    {
      "cell_type": "markdown",
      "metadata": {
        "id": "OikPvl1My3X6"
      },
      "source": [
        "### ReduceBkey and collect"
      ]
    },
    {
      "cell_type": "code",
      "execution_count": 4,
      "metadata": {
        "colab": {
          "base_uri": "https://localhost:8080/"
        },
        "id": "t5IxS9L_y3X7",
        "outputId": "2d1008d5-5e66-4828-b2ab-ee1e229d9226"
      },
      "outputs": [
        {
          "output_type": "stream",
          "name": "stdout",
          "text": [
            "Key 4 has 5 Counts\n",
            "Key 1 has 2 Counts\n",
            "Key 3 has 10 Counts\n"
          ]
        },
        {
          "output_type": "execute_result",
          "data": {
            "text/plain": [
              "[(4, 5), (1, 2), (3, 10)]"
            ]
          },
          "metadata": {},
          "execution_count": 4
        }
      ],
      "source": [
        "\n",
        "Rdd = sc.parallelize([(1,2),(3,4),(3,6),(4,5)])\n",
        "\n",
        "Rdd_Reduced = Rdd.reduceByKey(lambda x, y: x+y)\n",
        "\n",
        "# Tampilkan output menggunakan iterasi\n",
        "for num in Rdd_Reduced.collect():\n",
        "    print(\"Key {} has {} Counts\".format(num[0], num[1]))\n",
        "\n",
        "Rdd_Reduced.collect()"
      ]
    },
    {
      "cell_type": "markdown",
      "metadata": {
        "id": "hn9mYcI4y3X-"
      },
      "source": [
        "### SortByKey and Collect"
      ]
    },
    {
      "cell_type": "code",
      "execution_count": 5,
      "metadata": {
        "colab": {
          "base_uri": "https://localhost:8080/"
        },
        "id": "rUG7SoU9y3X-",
        "outputId": "377def33-57e7-4595-99c9-7818d072824c"
      },
      "outputs": [
        {
          "output_type": "stream",
          "name": "stdout",
          "text": [
            "Key 1 has 2 Counts\n",
            "Key 3 has 10 Counts\n",
            "Key 4 has 5 Counts\n"
          ]
        }
      ],
      "source": [
        "# Urutkan reduced RDD\n",
        "Rdd_Reduced_Sort = Rdd_Reduced.sortByKey(ascending=True)\n",
        "\n",
        "for num in Rdd_Reduced_Sort.collect():\n",
        "  print(\"Key {} has {} Counts\".format(num[0], num[1]))"
      ]
    },
    {
      "cell_type": "markdown",
      "metadata": {
        "id": "aQtWcwbyy3X_"
      },
      "source": [
        "### CountingBykeys"
      ]
    },
    {
      "cell_type": "code",
      "execution_count": 6,
      "metadata": {
        "colab": {
          "base_uri": "https://localhost:8080/"
        },
        "id": "BHVPi2Ahy3YA",
        "outputId": "ba6996fc-b5e3-4856-a868-8302fa2d4b0a"
      },
      "outputs": [
        {
          "output_type": "stream",
          "name": "stdout",
          "text": [
            "The type of total is <class 'collections.defaultdict'>\n",
            "key 1 has 1 counts\n",
            "key 3 has 2 counts\n",
            "key 4 has 1 counts\n"
          ]
        }
      ],
      "source": [
        "# Hitung unique key\n",
        "total = Rdd.countByKey()\n",
        "\n",
        "print(\"The type of total is\", type(total))\n",
        "\n",
        "for k, v in total.items():\n",
        "    print(\"key\", k, \"has\", v, \"counts\")"
      ]
    },
    {
      "cell_type": "markdown",
      "metadata": {
        "id": "1z71m736y3YA"
      },
      "source": [
        "### Create a base RDD and transform it"
      ]
    },
    {
      "cell_type": "code",
      "execution_count": 11,
      "metadata": {
        "id": "D2wPAg9ey3YB"
      },
      "outputs": [],
      "source": [
        "file_path = '/content/Complete_Shakespeare2.txt'"
      ]
    },
    {
      "cell_type": "code",
      "execution_count": 12,
      "metadata": {
        "colab": {
          "base_uri": "https://localhost:8080/"
        },
        "id": "Ya3pQYNRy3YC",
        "outputId": "27141234-63d1-4927-cd79-f658063c1a06"
      },
      "outputs": [
        {
          "output_type": "stream",
          "name": "stdout",
          "text": [
            "Total number of words in splitRDD: 128576\n"
          ]
        }
      ],
      "source": [
        "baseRDD = sc.textFile(file_path)\n",
        "\n",
        "splitRDD = baseRDD.flatMap(lambda x: x.split())\n",
        "\n",
        "print(\"Total number of words in splitRDD:\", splitRDD.count())"
      ]
    },
    {
      "cell_type": "markdown",
      "metadata": {
        "id": "OxYOFZyyy3YD"
      },
      "source": [
        "### Remove stop words and reduce the dataset"
      ]
    },
    {
      "cell_type": "code",
      "execution_count": 13,
      "metadata": {
        "colab": {
          "base_uri": "https://localhost:8080/"
        },
        "id": "-KpOTTzLy3YE",
        "outputId": "d151559e-44fb-47cf-bd93-cc07d83499f9"
      },
      "outputs": [
        {
          "output_type": "stream",
          "name": "stderr",
          "text": [
            "[nltk_data] Downloading package stopwords to /root/nltk_data...\n",
            "[nltk_data]   Unzipping corpora/stopwords.zip.\n"
          ]
        }
      ],
      "source": [
        "import nltk\n",
        "from nltk.corpus import stopwords\n",
        "nltk.download('stopwords')\n",
        "stop_words = stopwords.words('english')"
      ]
    },
    {
      "cell_type": "code",
      "execution_count": 14,
      "metadata": {
        "id": "Di091W9vy3YF"
      },
      "outputs": [],
      "source": [
        "# Ubah ke lowercase dan abaikan stop_words\n",
        "splitRDD_no_stop = splitRDD.filter(lambda x: x.lower() not in stop_words)\n",
        "\n",
        "# Buat tuple dari setiap kata\n",
        "splitRDD_no_stop_words = splitRDD_no_stop.map(lambda w: (w, 1))\n",
        "\n",
        "resultRDD = splitRDD_no_stop_words.reduceByKey(lambda x, y: x + y)"
      ]
    },
    {
      "cell_type": "markdown",
      "metadata": {
        "id": "7Z8Wxc_6y3YH"
      },
      "source": [
        "### Print word frequencies"
      ]
    },
    {
      "cell_type": "code",
      "execution_count": 16,
      "metadata": {
        "colab": {
          "base_uri": "https://localhost:8080/"
        },
        "id": "1WWqYwUCy3YJ",
        "outputId": "f5b3a52b-af40-4c69-f492-0899ae46c2aa"
      },
      "outputs": [
        {
          "output_type": "stream",
          "name": "stdout",
          "text": [
            "('Project', 9)\n",
            "('EBook', 1)\n",
            "('Shakespeare', 12)\n",
            "('use', 38)\n",
            "('anyone', 1)\n",
            "('anywhere', 1)\n",
            "('restrictions', 1)\n",
            "('whatsoever.', 1)\n",
            "('may', 162)\n",
            "('it,', 74)\n"
          ]
        }
      ],
      "source": [
        "for word in resultRDD.take(10):\n",
        "\tprint(word)\n",
        "\n",
        "# Tukar key dan value\n",
        "resultRDD_swap = resultRDD.map(lambda x: (x[1], x[0]))\n",
        "\n",
        "resultRDD_swap_sort = resultRDD_swap.sortByKey(ascending=False)"
      ]
    },
    {
      "cell_type": "code",
      "execution_count": 17,
      "metadata": {
        "colab": {
          "base_uri": "https://localhost:8080/"
        },
        "id": "wzspyXTuy3YK",
        "outputId": "ee8692c1-ef09-4b54-e0aa-9718f3b5d59c"
      },
      "outputs": [
        {
          "output_type": "stream",
          "name": "stdout",
          "text": [
            "thou,650\n",
            "thy,574\n",
            "shall,393\n",
            "would,311\n",
            "good,295\n",
            "thee,286\n",
            "love,273\n",
            "Enter,269\n",
            "th',254\n",
            "make,225\n"
          ]
        }
      ],
      "source": [
        "for word in resultRDD_swap_sort.take(10):\n",
        "\tprint(\"{},{}\". format(word[1], word[0]))"
      ]
    }
  ],
  "metadata": {
    "kernelspec": {
      "display_name": "Python 3.7.6 ('base')",
      "language": "python",
      "name": "python3"
    },
    "language_info": {
      "codemirror_mode": {
        "name": "ipython",
        "version": 3
      },
      "file_extension": ".py",
      "mimetype": "text/x-python",
      "name": "python",
      "nbconvert_exporter": "python",
      "pygments_lexer": "ipython3",
      "version": "3.7.6"
    },
    "orig_nbformat": 4,
    "vscode": {
      "interpreter": {
        "hash": "5bc067213193d7d391907c464a8e66c6ece1a82666c1d2406921e2c8deb6cf3c"
      }
    },
    "colab": {
      "provenance": [],
      "include_colab_link": true
    }
  },
  "nbformat": 4,
  "nbformat_minor": 0
}