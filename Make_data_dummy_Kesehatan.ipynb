{
  "nbformat": 4,
  "nbformat_minor": 0,
  "metadata": {
    "colab": {
      "provenance": [],
      "authorship_tag": "ABX9TyPNXGNc+kzavIb7s4d8Gz9+",
      "include_colab_link": true
    },
    "kernelspec": {
      "name": "python3",
      "display_name": "Python 3"
    },
    "language_info": {
      "name": "python"
    }
  },
  "cells": [
    {
      "cell_type": "markdown",
      "metadata": {
        "id": "view-in-github",
        "colab_type": "text"
      },
      "source": [
        "<a href=\"https://colab.research.google.com/github/saktiworkstation/road-to-ai-developer/blob/main/Make_data_dummy_Kesehatan.ipynb\" target=\"_parent\"><img src=\"https://colab.research.google.com/assets/colab-badge.svg\" alt=\"Open In Colab\"/></a>"
      ]
    },
    {
      "cell_type": "code",
      "execution_count": 1,
      "metadata": {
        "id": "o1jK0CLTa1b6"
      },
      "outputs": [],
      "source": [
        "import pandas as pd\n",
        "import numpy as np\n",
        "import random"
      ]
    },
    {
      "cell_type": "code",
      "source": [
        "# Menentukan jumlah data dummy\n",
        "data_size = 1000"
      ],
      "metadata": {
        "id": "koacTTWza9hC"
      },
      "execution_count": 2,
      "outputs": []
    },
    {
      "cell_type": "code",
      "source": [
        "# Membuat data acak untuk setiap kolom\n",
        "data = {\n",
        "    'Patient_ID': [f'PAT-{i+1:04d}' for i in range(data_size)],\n",
        "    'Name': [random.choice(['Agus', 'Budi', 'Citra', 'Dewi', 'Eka', 'Fajar', 'Gina', 'Hadi']) for _ in range(data_size)],\n",
        "    'Age': np.random.randint(1, 100, data_size),\n",
        "    'Gender': [random.choice(['Male', 'Female']) for _ in range(data_size)],\n",
        "    'Blood_Pressure': [f'{np.random.randint(90, 180)}/{np.random.randint(60, 120)}' for _ in range(data_size)],\n",
        "    'Heart_Rate': np.random.randint(60, 120, data_size),\n",
        "    'Height_cm': np.random.randint(140, 200, data_size),\n",
        "    'Weight_kg': np.random.randint(40, 120, data_size),\n",
        "    'Diagnosis': [random.choice(['Healthy', 'Diabetes', 'Hypertension', 'Flu', 'Asthma', 'Heart Disease']) for _ in range(data_size)],\n",
        "    'Visit_Date': pd.to_datetime('2024-01-01') + pd.to_timedelta(np.random.randint(0, 365, data_size), unit='D'),\n",
        "}"
      ],
      "metadata": {
        "id": "BrSNveo-a_eC"
      },
      "execution_count": 3,
      "outputs": []
    },
    {
      "cell_type": "code",
      "source": [
        "# Mengonversi data menjadi DataFrame\n",
        "df = pd.DataFrame(data)"
      ],
      "metadata": {
        "id": "XleEGcF1bA_A"
      },
      "execution_count": 4,
      "outputs": []
    },
    {
      "cell_type": "code",
      "source": [
        "# Menyimpan data ke dalam file CSV\n",
        "df.to_csv('data_kesehatan_dummy.csv', index=False)\n",
        "\n",
        "print(\"File CSV 'data_kesehatan_dummy.csv' telah dibuat.\")"
      ],
      "metadata": {
        "colab": {
          "base_uri": "https://localhost:8080/"
        },
        "id": "JqXkJlJUbCW7",
        "outputId": "541c0b7e-3e0a-4b70-f275-6f1a18e96bdd"
      },
      "execution_count": 5,
      "outputs": [
        {
          "output_type": "stream",
          "name": "stdout",
          "text": [
            "File CSV 'data_kesehatan_dummy.csv' telah dibuat.\n"
          ]
        }
      ]
    }
  ]
}