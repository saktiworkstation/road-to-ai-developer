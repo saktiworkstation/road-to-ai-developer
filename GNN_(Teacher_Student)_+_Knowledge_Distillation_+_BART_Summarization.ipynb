{
  "nbformat": 4,
  "nbformat_minor": 0,
  "metadata": {
    "colab": {
      "provenance": [],
      "authorship_tag": "ABX9TyNUqIAsM96KyhkLWr+caNrn",
      "include_colab_link": true
    },
    "kernelspec": {
      "name": "python3",
      "display_name": "Python 3"
    },
    "language_info": {
      "name": "python"
    }
  },
  "cells": [
    {
      "cell_type": "markdown",
      "metadata": {
        "id": "view-in-github",
        "colab_type": "text"
      },
      "source": [
        "<a href=\"https://colab.research.google.com/github/saktiworkstation/road-to-ai-developer/blob/main/GNN_(Teacher_Student)_%2B_Knowledge_Distillation_%2B_BART_Summarization.ipynb\" target=\"_parent\"><img src=\"https://colab.research.google.com/assets/colab-badge.svg\" alt=\"Open In Colab\"/></a>"
      ]
    },
    {
      "cell_type": "code",
      "execution_count": 1,
      "metadata": {
        "colab": {
          "base_uri": "https://localhost:8080/"
        },
        "id": "BdXwxetXjXWp",
        "outputId": "8070e991-9e1d-45ca-9cdb-60edad8c5f49"
      },
      "outputs": [
        {
          "output_type": "stream",
          "name": "stdout",
          "text": [
            "Collecting torch-geometric\n",
            "  Downloading torch_geometric-2.6.1-py3-none-any.whl.metadata (63 kB)\n",
            "\u001b[?25l     \u001b[90m━━━━━━━━━━━━━━━━━━━━━━━━━━━━━━━━━━━━━━━━\u001b[0m \u001b[32m0.0/63.1 kB\u001b[0m \u001b[31m?\u001b[0m eta \u001b[36m-:--:--\u001b[0m\r\u001b[2K     \u001b[90m━━━━━━━━━━━━━━━━━━━━━━━━━━━━━━━━━━━━━━━━\u001b[0m \u001b[32m63.1/63.1 kB\u001b[0m \u001b[31m2.9 MB/s\u001b[0m eta \u001b[36m0:00:00\u001b[0m\n",
            "\u001b[?25hRequirement already satisfied: aiohttp in /usr/local/lib/python3.10/dist-packages (from torch-geometric) (3.11.11)\n",
            "Requirement already satisfied: fsspec in /usr/local/lib/python3.10/dist-packages (from torch-geometric) (2024.10.0)\n",
            "Requirement already satisfied: jinja2 in /usr/local/lib/python3.10/dist-packages (from torch-geometric) (3.1.5)\n",
            "Requirement already satisfied: numpy in /usr/local/lib/python3.10/dist-packages (from torch-geometric) (1.26.4)\n",
            "Requirement already satisfied: psutil>=5.8.0 in /usr/local/lib/python3.10/dist-packages (from torch-geometric) (5.9.5)\n",
            "Requirement already satisfied: pyparsing in /usr/local/lib/python3.10/dist-packages (from torch-geometric) (3.2.1)\n",
            "Requirement already satisfied: requests in /usr/local/lib/python3.10/dist-packages (from torch-geometric) (2.32.3)\n",
            "Requirement already satisfied: tqdm in /usr/local/lib/python3.10/dist-packages (from torch-geometric) (4.67.1)\n",
            "Requirement already satisfied: aiohappyeyeballs>=2.3.0 in /usr/local/lib/python3.10/dist-packages (from aiohttp->torch-geometric) (2.4.4)\n",
            "Requirement already satisfied: aiosignal>=1.1.2 in /usr/local/lib/python3.10/dist-packages (from aiohttp->torch-geometric) (1.3.2)\n",
            "Requirement already satisfied: async-timeout<6.0,>=4.0 in /usr/local/lib/python3.10/dist-packages (from aiohttp->torch-geometric) (4.0.3)\n",
            "Requirement already satisfied: attrs>=17.3.0 in /usr/local/lib/python3.10/dist-packages (from aiohttp->torch-geometric) (24.3.0)\n",
            "Requirement already satisfied: frozenlist>=1.1.1 in /usr/local/lib/python3.10/dist-packages (from aiohttp->torch-geometric) (1.5.0)\n",
            "Requirement already satisfied: multidict<7.0,>=4.5 in /usr/local/lib/python3.10/dist-packages (from aiohttp->torch-geometric) (6.1.0)\n",
            "Requirement already satisfied: propcache>=0.2.0 in /usr/local/lib/python3.10/dist-packages (from aiohttp->torch-geometric) (0.2.1)\n",
            "Requirement already satisfied: yarl<2.0,>=1.17.0 in /usr/local/lib/python3.10/dist-packages (from aiohttp->torch-geometric) (1.18.3)\n",
            "Requirement already satisfied: MarkupSafe>=2.0 in /usr/local/lib/python3.10/dist-packages (from jinja2->torch-geometric) (3.0.2)\n",
            "Requirement already satisfied: charset-normalizer<4,>=2 in /usr/local/lib/python3.10/dist-packages (from requests->torch-geometric) (3.4.1)\n",
            "Requirement already satisfied: idna<4,>=2.5 in /usr/local/lib/python3.10/dist-packages (from requests->torch-geometric) (3.10)\n",
            "Requirement already satisfied: urllib3<3,>=1.21.1 in /usr/local/lib/python3.10/dist-packages (from requests->torch-geometric) (2.3.0)\n",
            "Requirement already satisfied: certifi>=2017.4.17 in /usr/local/lib/python3.10/dist-packages (from requests->torch-geometric) (2024.12.14)\n",
            "Requirement already satisfied: typing-extensions>=4.1.0 in /usr/local/lib/python3.10/dist-packages (from multidict<7.0,>=4.5->aiohttp->torch-geometric) (4.12.2)\n",
            "Downloading torch_geometric-2.6.1-py3-none-any.whl (1.1 MB)\n",
            "\u001b[2K   \u001b[90m━━━━━━━━━━━━━━━━━━━━━━━━━━━━━━━━━━━━━━━━\u001b[0m \u001b[32m1.1/1.1 MB\u001b[0m \u001b[31m26.2 MB/s\u001b[0m eta \u001b[36m0:00:00\u001b[0m\n",
            "\u001b[?25hInstalling collected packages: torch-geometric\n",
            "Successfully installed torch-geometric-2.6.1\n",
            "Requirement already satisfied: transformers in /usr/local/lib/python3.10/dist-packages (4.47.1)\n",
            "Requirement already satisfied: sentencepiece in /usr/local/lib/python3.10/dist-packages (0.2.0)\n",
            "Requirement already satisfied: filelock in /usr/local/lib/python3.10/dist-packages (from transformers) (3.16.1)\n",
            "Requirement already satisfied: huggingface-hub<1.0,>=0.24.0 in /usr/local/lib/python3.10/dist-packages (from transformers) (0.27.1)\n",
            "Requirement already satisfied: numpy>=1.17 in /usr/local/lib/python3.10/dist-packages (from transformers) (1.26.4)\n",
            "Requirement already satisfied: packaging>=20.0 in /usr/local/lib/python3.10/dist-packages (from transformers) (24.2)\n",
            "Requirement already satisfied: pyyaml>=5.1 in /usr/local/lib/python3.10/dist-packages (from transformers) (6.0.2)\n",
            "Requirement already satisfied: regex!=2019.12.17 in /usr/local/lib/python3.10/dist-packages (from transformers) (2024.11.6)\n",
            "Requirement already satisfied: requests in /usr/local/lib/python3.10/dist-packages (from transformers) (2.32.3)\n",
            "Requirement already satisfied: tokenizers<0.22,>=0.21 in /usr/local/lib/python3.10/dist-packages (from transformers) (0.21.0)\n",
            "Requirement already satisfied: safetensors>=0.4.1 in /usr/local/lib/python3.10/dist-packages (from transformers) (0.5.1)\n",
            "Requirement already satisfied: tqdm>=4.27 in /usr/local/lib/python3.10/dist-packages (from transformers) (4.67.1)\n",
            "Requirement already satisfied: fsspec>=2023.5.0 in /usr/local/lib/python3.10/dist-packages (from huggingface-hub<1.0,>=0.24.0->transformers) (2024.10.0)\n",
            "Requirement already satisfied: typing-extensions>=3.7.4.3 in /usr/local/lib/python3.10/dist-packages (from huggingface-hub<1.0,>=0.24.0->transformers) (4.12.2)\n",
            "Requirement already satisfied: charset-normalizer<4,>=2 in /usr/local/lib/python3.10/dist-packages (from requests->transformers) (3.4.1)\n",
            "Requirement already satisfied: idna<4,>=2.5 in /usr/local/lib/python3.10/dist-packages (from requests->transformers) (3.10)\n",
            "Requirement already satisfied: urllib3<3,>=1.21.1 in /usr/local/lib/python3.10/dist-packages (from requests->transformers) (2.3.0)\n",
            "Requirement already satisfied: certifi>=2017.4.17 in /usr/local/lib/python3.10/dist-packages (from requests->transformers) (2024.12.14)\n"
          ]
        }
      ],
      "source": [
        "!pip install torch-geometric\n",
        "!pip install transformers sentencepiece"
      ]
    },
    {
      "cell_type": "code",
      "source": [
        "import torch\n",
        "import torch.nn.functional as F\n",
        "from torch_geometric.datasets import Planetoid\n",
        "from torch_geometric.nn import GCNConv\n",
        "\n",
        "from transformers import BartForConditionalGeneration, BartTokenizer"
      ],
      "metadata": {
        "id": "cRLW1ALyjij_"
      },
      "execution_count": 2,
      "outputs": []
    },
    {
      "cell_type": "code",
      "source": [
        "dataset_name = 'CiteSeer'\n",
        "dataset = Planetoid(root='data/CiteSeer', name=dataset_name)\n",
        "\n",
        "data = dataset[0]"
      ],
      "metadata": {
        "colab": {
          "base_uri": "https://localhost:8080/"
        },
        "id": "VotPpjx_jlMQ",
        "outputId": "80a1ef22-0b70-40a9-fea8-73d2233582fe"
      },
      "execution_count": 3,
      "outputs": [
        {
          "output_type": "stream",
          "name": "stderr",
          "text": [
            "Downloading https://github.com/kimiyoung/planetoid/raw/master/data/ind.citeseer.x\n",
            "Downloading https://github.com/kimiyoung/planetoid/raw/master/data/ind.citeseer.tx\n",
            "Downloading https://github.com/kimiyoung/planetoid/raw/master/data/ind.citeseer.allx\n",
            "Downloading https://github.com/kimiyoung/planetoid/raw/master/data/ind.citeseer.y\n",
            "Downloading https://github.com/kimiyoung/planetoid/raw/master/data/ind.citeseer.ty\n",
            "Downloading https://github.com/kimiyoung/planetoid/raw/master/data/ind.citeseer.ally\n",
            "Downloading https://github.com/kimiyoung/planetoid/raw/master/data/ind.citeseer.graph\n",
            "Downloading https://github.com/kimiyoung/planetoid/raw/master/data/ind.citeseer.test.index\n",
            "Processing...\n",
            "Done!\n"
          ]
        }
      ]
    },
    {
      "cell_type": "code",
      "source": [
        "device = torch.device('cuda' if torch.cuda.is_available() else 'cpu')\n",
        "data = data.to(device)"
      ],
      "metadata": {
        "id": "wd3Dn9k-kCbT"
      },
      "execution_count": 5,
      "outputs": []
    },
    {
      "cell_type": "code",
      "source": [
        "print(\"===== INFORMASI DATASET =====\")\n",
        "print(f\"Nama Dataset      : {dataset_name}\")\n",
        "print(f\"Jumlah Graph      : {len(dataset)}\")\n",
        "print(f\"Jumlah Fitur      : {dataset.num_features}\")\n",
        "print(f\"Jumlah Kelas      : {dataset.num_classes}\")\n",
        "print(f\"Jumlah Node       : {data.num_nodes}\")\n",
        "print(f\"Jumlah Edge       : {data.num_edges}\")\n",
        "print(f\"Average Node Degree : {data.num_edges / data.num_nodes:.2f}\")\n",
        "print(f\"Jumlah Training Nodes : {data.train_mask.sum().item()}\")\n",
        "print(f\"Jumlah Validation Nodes : {data.val_mask.sum().item()}\")\n",
        "print(f\"Jumlah Test Nodes : {data.test_mask.sum().item()}\\n\")"
      ],
      "metadata": {
        "colab": {
          "base_uri": "https://localhost:8080/"
        },
        "id": "nSfNjvzZj86l",
        "outputId": "c3bc2b15-313d-4db0-9aab-5ae6d3d734d9"
      },
      "execution_count": 4,
      "outputs": [
        {
          "output_type": "stream",
          "name": "stdout",
          "text": [
            "===== INFORMASI DATASET =====\n",
            "Nama Dataset      : CiteSeer\n",
            "Jumlah Graph      : 1\n",
            "Jumlah Fitur      : 3703\n",
            "Jumlah Kelas      : 6\n",
            "Jumlah Node       : 3327\n",
            "Jumlah Edge       : 9104\n",
            "Average Node Degree : 2.74\n",
            "Jumlah Training Nodes : 120\n",
            "Jumlah Validation Nodes : 500\n",
            "Jumlah Test Nodes : 1000\n",
            "\n"
          ]
        }
      ]
    },
    {
      "cell_type": "code",
      "source": [
        "labels = data.y\n",
        "unique_labels, counts_labels = torch.unique(labels, return_counts=True)\n",
        "print(\"\\n=== DISTRIBUSI KELAS ===\")\n",
        "for lab, count in zip(unique_labels, counts_labels):\n",
        "    print(f\"Kelas {lab.item()}: {count.item()} node\")\n",
        "\n",
        "print(\"\\n=== EDGE SAMPLE ===\")\n",
        "print(data.edge_index[:, :10])"
      ],
      "metadata": {
        "colab": {
          "base_uri": "https://localhost:8080/"
        },
        "id": "4mw-w3YMkHiF",
        "outputId": "8f520b63-a293-4679-ce18-8c2b2fa89521"
      },
      "execution_count": 6,
      "outputs": [
        {
          "output_type": "stream",
          "name": "stdout",
          "text": [
            "\n",
            "=== DISTRIBUSI KELAS ===\n",
            "Kelas 0: 264 node\n",
            "Kelas 1: 590 node\n",
            "Kelas 2: 668 node\n",
            "Kelas 3: 701 node\n",
            "Kelas 4: 596 node\n",
            "Kelas 5: 508 node\n",
            "\n",
            "=== EDGE SAMPLE ===\n",
            "tensor([[ 628,  158,  486, 1097, 2919, 2933, 3285, 1431, 3219,  467],\n",
            "        [   0,    1,    1,    1,    1,    1,    2,    3,    3,    4]])\n"
          ]
        }
      ]
    },
    {
      "cell_type": "code",
      "source": [
        "import matplotlib.pyplot as plt\n",
        "import networkx as nx\n",
        "\n",
        "sub_node_count = 500\n",
        "sub_edge_mask = (data.edge_index[0] < sub_node_count) & (data.edge_index[1] < sub_node_count)\n",
        "sub_edge_index = data.edge_index[:, sub_edge_mask]\n",
        "\n",
        "sub_G = nx.Graph()\n",
        "sub_edges = list(zip(sub_edge_index[0].tolist(), sub_edge_index[1].tolist()))\n",
        "sub_G.add_edges_from(sub_edges)\n",
        "\n",
        "plt.figure(figsize=(8, 6))\n",
        "nx.draw(sub_G, node_size=50)\n",
        "plt.title(\"Sub-graph Visualisasi (500 Node Pertama)\")\n",
        "plt.show()"
      ],
      "metadata": {
        "colab": {
          "base_uri": "https://localhost:8080/",
          "height": 659
        },
        "id": "fl5h8AI9kJkW",
        "outputId": "89e2f135-c557-4eff-b99c-da16ecab49ba"
      },
      "execution_count": 7,
      "outputs": [
        {
          "output_type": "display_data",
          "data": {
            "text/plain": [
              "<Figure size 800x600 with 1 Axes>"
            ],
            "image/png": "[encoded data removed]"
          },
          "metadata": {}
        }
      ]
    },
    {
      "cell_type": "markdown",
      "source": [
        "# Model GCN"
      ],
      "metadata": {
        "id": "WPewUuUUkNMB"
      }
    },
    {
      "cell_type": "markdown",
      "source": [
        "**Teacher GNN (5 Lapisan GCN)**"
      ],
      "metadata": {
        "id": "Trfyl8L4ku6n"
      }
    },
    {
      "cell_type": "code",
      "source": [
        "class TeacherGCN(torch.nn.Module):\n",
        "    def __init__(self, in_channels, hidden_channels, out_channels):\n",
        "        super(TeacherGCN, self).__init__()\n",
        "        self.conv1 = GCNConv(in_channels, hidden_channels)\n",
        "        self.conv2 = GCNConv(hidden_channels, hidden_channels)\n",
        "        self.conv3 = GCNConv(hidden_channels, out_channels)\n",
        "\n",
        "    def forward(self, x, edge_index):\n",
        "        x = self.conv1(x, edge_index)\n",
        "        x = F.relu(x)\n",
        "        x = self.conv2(x, edge_index)\n",
        "        x = F.relu(x)\n",
        "        x = F.dropout(x, p=0.5, training=self.training)\n",
        "        x = self.conv3(x, edge_index)\n",
        "        return x  # logits (belum softmax)"
      ],
      "metadata": {
        "id": "EUfLoX_hkUpW"
      },
      "execution_count": 13,
      "outputs": []
    },
    {
      "cell_type": "markdown",
      "source": [
        "**Student GNN (2 Lapisan GCN)**"
      ],
      "metadata": {
        "id": "rrYzQuK4la18"
      }
    },
    {
      "cell_type": "code",
      "source": [
        "class StudentGCN(torch.nn.Module):\n",
        "    def __init__(self, in_channels, hidden_channels, out_channels):\n",
        "        super(StudentGCN, self).__init__()\n",
        "        self.conv1 = GCNConv(in_channels, hidden_channels)\n",
        "        self.conv2 = GCNConv(hidden_channels, out_channels)\n",
        "\n",
        "    def forward(self, x, edge_index):\n",
        "        x = self.conv1(x, edge_index)\n",
        "        x = F.relu(x)\n",
        "        x = F.dropout(x, p=0.5, training=self.training)\n",
        "        x = self.conv2(x, edge_index)\n",
        "        return x  # logits (belum softmax)"
      ],
      "metadata": {
        "id": "TSy21IFblYNW"
      },
      "execution_count": 14,
      "outputs": []
    },
    {
      "cell_type": "markdown",
      "source": [
        "# TRAINING & EVALUATION"
      ],
      "metadata": {
        "id": "e19HYTTRleGF"
      }
    },
    {
      "cell_type": "code",
      "source": [
        "def evaluate(model, data):\n",
        "    model.eval()\n",
        "    logits = model(data.x, data.edge_index)\n",
        "    preds = logits.argmax(dim=1)\n",
        "\n",
        "    accs = []\n",
        "    for mask_name, mask in zip(\n",
        "        [\"Train\", \"Validation\", \"Test\"],\n",
        "        [data.train_mask, data.val_mask, data.test_mask]\n",
        "    ):\n",
        "        correct = preds[mask].eq(data.y[mask]).sum().item()\n",
        "        acc = correct / mask.sum().item()\n",
        "        accs.append(acc)\n",
        "    return accs  # [train_acc, val_acc, test_acc]"
      ],
      "metadata": {
        "id": "FEoM8ERclb_q"
      },
      "execution_count": 15,
      "outputs": []
    },
    {
      "cell_type": "markdown",
      "source": [
        "**TRAIN TEACHER**"
      ],
      "metadata": {
        "id": "8MnhxxNLlmWd"
      }
    },
    {
      "cell_type": "code",
      "source": [
        "teacher_model = TeacherGCN(\n",
        "    in_channels=dataset.num_features,\n",
        "    hidden_channels=64,\n",
        "    out_channels=dataset.num_classes\n",
        ").to(device)\n",
        "\n",
        "teacher_optimizer = torch.optim.Adam(teacher_model.parameters(), lr=0.01, weight_decay=5e-4)\n",
        "\n",
        "def train_teacher(model, data, optimizer):\n",
        "    model.train()\n",
        "    optimizer.zero_grad()\n",
        "    logits = model(data.x, data.edge_index)\n",
        "    loss = F.cross_entropy(logits[data.train_mask], data.y[data.train_mask])\n",
        "    loss.backward()\n",
        "    optimizer.step()\n",
        "    return loss.item()\n",
        "\n",
        "print(\"===== TRAINING TEACHER GCN =====\")\n",
        "for epoch in range(1, 101):  # atur ae jumlah epoch sesuai kebutuhan\n",
        "    loss_t = train_teacher(teacher_model, data, teacher_optimizer)\n",
        "    if epoch % 20 == 0:\n",
        "        train_acc_t, val_acc_t, test_acc_t = evaluate(teacher_model, data)\n",
        "        print(f\"Epoch: {epoch:03d}, Loss: {loss_t:.4f}, \"\n",
        "              f\"Train Acc: {train_acc_t:.4f}, Val Acc: {val_acc_t:.4f}, Test Acc: {test_acc_t:.4f}\")"
      ],
      "metadata": {
        "colab": {
          "base_uri": "https://localhost:8080/"
        },
        "id": "5LJjNDHflrLy",
        "outputId": "29c3c54a-b889-48fb-8503-c3a567f5dc73"
      },
      "execution_count": 16,
      "outputs": [
        {
          "output_type": "stream",
          "name": "stdout",
          "text": [
            "===== TRAINING TEACHER GCN =====\n",
            "Epoch: 020, Loss: 0.0207, Train Acc: 0.9917, Val Acc: 0.6300, Test Acc: 0.6230\n",
            "Epoch: 040, Loss: 0.0044, Train Acc: 1.0000, Val Acc: 0.6720, Test Acc: 0.6480\n",
            "Epoch: 060, Loss: 0.0073, Train Acc: 1.0000, Val Acc: 0.6820, Test Acc: 0.6570\n",
            "Epoch: 080, Loss: 0.0088, Train Acc: 1.0000, Val Acc: 0.6660, Test Acc: 0.6550\n",
            "Epoch: 100, Loss: 0.0038, Train Acc: 1.0000, Val Acc: 0.6560, Test Acc: 0.6210\n"
          ]
        }
      ]
    },
    {
      "cell_type": "code",
      "source": [
        "train_acc_t, val_acc_t, test_acc_t = evaluate(teacher_model, data)\n",
        "print(\"\\n===== HASIL AKHIR TEACHER =====\")\n",
        "print(f\"Train Acc: {train_acc_t:.4f}\")\n",
        "print(f\"Val Acc  : {val_acc_t:.4f}\")\n",
        "print(f\"Test Acc : {test_acc_t:.4f}\\n\")"
      ],
      "metadata": {
        "colab": {
          "base_uri": "https://localhost:8080/"
        },
        "id": "7I4crDRblwbs",
        "outputId": "41a700ee-3b88-4297-b3f1-4c14c0b522b0"
      },
      "execution_count": 17,
      "outputs": [
        {
          "output_type": "stream",
          "name": "stdout",
          "text": [
            "\n",
            "===== HASIL AKHIR TEACHER =====\n",
            "Train Acc: 1.0000\n",
            "Val Acc  : 0.6560\n",
            "Test Acc : 0.6210\n",
            "\n"
          ]
        }
      ]
    },
    {
      "cell_type": "markdown",
      "source": [
        "**KNOWLEDGE DISTILLATION**"
      ],
      "metadata": {
        "id": "u9DqRR-jmClM"
      }
    },
    {
      "cell_type": "code",
      "source": [
        "def distillation_loss(student_logits, teacher_logits, labels, mask, alpha=0.5, temperature=2.0):\n",
        "    \"\"\"\n",
        "    student_logits: output logits dari student\n",
        "    teacher_logits: output logits dari teacher\n",
        "    labels        : label ground-truth\n",
        "    mask          : node mask (train set)\n",
        "    alpha         : rasio campuran CE dan KL\n",
        "    temperature   : faktor skala temperatur\n",
        "\n",
        "    Return gabungan CrossEntropy (hard label) + KL Divergence (soft label).\n",
        "    \"\"\"\n",
        "    # Hard label loss (CE)\n",
        "    ce_loss = F.cross_entropy(student_logits[mask], labels[mask])\n",
        "\n",
        "    # Soft label loss (KL Divergence) dengan temperature\n",
        "    student_probs = F.log_softmax(student_logits[mask] / temperature, dim=1)\n",
        "    teacher_probs = F.softmax(teacher_logits[mask] / temperature, dim=1)\n",
        "    kl_div = F.kl_div(student_probs, teacher_probs, reduction=\"batchmean\") * (temperature**2)\n",
        "\n",
        "    loss = alpha * ce_loss + (1 - alpha) * kl_div\n",
        "    return loss"
      ],
      "metadata": {
        "id": "w_4ryp8bmHWM"
      },
      "execution_count": 18,
      "outputs": []
    },
    {
      "cell_type": "code",
      "source": [
        "student_model = StudentGCN(\n",
        "    in_channels=dataset.num_features,\n",
        "    hidden_channels=32,  # lebih kecil dari teacher\n",
        "    out_channels=dataset.num_classes\n",
        ").to(device)\n",
        "\n",
        "student_optimizer = torch.optim.Adam(student_model.parameters(), lr=0.01, weight_decay=5e-4)"
      ],
      "metadata": {
        "id": "HvUxXI7UmKRn"
      },
      "execution_count": 19,
      "outputs": []
    },
    {
      "cell_type": "code",
      "source": [
        "def train_student_distill(teacher, student, data, optimizer, alpha=0.5, temperature=2.0):\n",
        "    student.train()\n",
        "    teacher.eval()  # teacher tidak di-train\n",
        "\n",
        "    optimizer.zero_grad()\n",
        "    with torch.no_grad():\n",
        "        teacher_logits = teacher(data.x, data.edge_index)\n",
        "\n",
        "    student_logits = student(data.x, data.edge_index)\n",
        "    loss = distillation_loss(\n",
        "        student_logits, teacher_logits, data.y, data.train_mask,\n",
        "        alpha=alpha, temperature=temperature\n",
        "    )\n",
        "    loss.backward()\n",
        "    optimizer.step()\n",
        "    return loss.item()\n",
        "\n",
        "print(\"===== DISTILLATION: TRAIN STUDENT GCN =====\")\n",
        "for epoch in range(1, 101):  # Atur jumlah epoch sesuai kebutuhan\n",
        "    loss_s = train_student_distill(teacher_model, student_model, data, student_optimizer,\n",
        "                                   alpha=0.5, temperature=2.0)\n",
        "    if epoch % 20 == 0:\n",
        "        train_acc_s, val_acc_s, test_acc_s = evaluate(student_model, data)\n",
        "        print(f\"Epoch: {epoch:03d}, Loss: {loss_s:.4f}, \"\n",
        "              f\"Train Acc: {train_acc_s:.4f}, Val Acc: {val_acc_s:.4f}, Test Acc: {test_acc_s:.4f}\")"
      ],
      "metadata": {
        "colab": {
          "base_uri": "https://localhost:8080/"
        },
        "id": "oi_bWDLumOMO",
        "outputId": "6559e0b3-6621-4ff1-ad8b-268da80577d3"
      },
      "execution_count": 20,
      "outputs": [
        {
          "output_type": "stream",
          "name": "stdout",
          "text": [
            "===== DISTILLATION: TRAIN STUDENT GCN =====\n",
            "Epoch: 020, Loss: 0.1790, Train Acc: 1.0000, Val Acc: 0.6680, Test Acc: 0.6730\n",
            "Epoch: 040, Loss: 0.0918, Train Acc: 1.0000, Val Acc: 0.6520, Test Acc: 0.6740\n",
            "Epoch: 060, Loss: 0.0886, Train Acc: 1.0000, Val Acc: 0.6820, Test Acc: 0.6680\n",
            "Epoch: 080, Loss: 0.0745, Train Acc: 1.0000, Val Acc: 0.6800, Test Acc: 0.6690\n",
            "Epoch: 100, Loss: 0.0817, Train Acc: 1.0000, Val Acc: 0.6820, Test Acc: 0.6750\n"
          ]
        }
      ]
    },
    {
      "cell_type": "code",
      "source": [
        "train_acc_s, val_acc_s, test_acc_s = evaluate(student_model, data)\n",
        "print(\"\\n===== HASIL AKHIR STUDENT (DISTILLED) =====\")\n",
        "print(f\"Train Acc: {train_acc_s:.4f}\")\n",
        "print(f\"Val Acc  : {val_acc_s:.4f}\")\n",
        "print(f\"Test Acc : {test_acc_s:.4f}\\n\")"
      ],
      "metadata": {
        "id": "VGpKKfF6mQKy"
      },
      "execution_count": null,
      "outputs": []
    },
    {
      "cell_type": "markdown",
      "source": [
        "# INTEGRASI LLM (HASIL) - BART"
      ],
      "metadata": {
        "id": "FCu3HXQ7mVvP"
      }
    },
    {
      "cell_type": "code",
      "source": [
        "model_name = \"facebook/bart-large-cnn\"\n",
        "bart_tokenizer = BartTokenizer.from_pretrained(model_name)\n",
        "bart_model = BartForConditionalGeneration.from_pretrained(model_name).to(device)\n",
        "\n",
        "def generate_summary_bart(teacher_scores, student_scores):\n",
        "    (train_t, val_t, test_t) = teacher_scores\n",
        "    (train_s, val_s, test_s) = student_scores\n",
        "\n",
        "    # Prompt ringkasan\n",
        "    prompt_text = (\n",
        "        f\"Saya baru saja melatih dua model GNN pada dataset CiteSeer: \"\n",
        "        f\"Teacher (3 lapisan) dan Student (2 lapisan) dengan teknik knowledge distillation.\\n\\n\"\n",
        "        f\"Hasil akhir Teacher GNN:\\n\"\n",
        "        f\"- Akurasi Train: {train_t:.2f}\\n\"\n",
        "        f\"- Akurasi Val  : {val_t:.2f}\\n\"\n",
        "        f\"- Akurasi Test : {test_t:.2f}\\n\\n\"\n",
        "        f\"Setelah distillation, Student GNN mencapai:\\n\"\n",
        "        f\"- Akurasi Train: {train_s:.2f}\\n\"\n",
        "        f\"- Akurasi Val  : {val_s:.2f}\\n\"\n",
        "        f\"- Akurasi Test : {test_s:.2f}\\n\\n\"\n",
        "        f\"Ribgkas hasil tersebut secara singkat:\"\n",
        "    )\n",
        "\n",
        "    # Encode prompt\n",
        "    inputs = bart_tokenizer([prompt_text], max_length=1024, return_tensors='pt').to(device)\n",
        "\n",
        "    # Generate summary\n",
        "    summary_ids = bart_model.generate(\n",
        "        inputs[\"input_ids\"],\n",
        "        num_beams=4,\n",
        "        max_length=900,\n",
        "        early_stopping=True,\n",
        "        no_repeat_ngram_size=2\n",
        "    )\n",
        "    summary = bart_tokenizer.decode(summary_ids[0], skip_special_tokens=True)\n",
        "    return summary"
      ],
      "metadata": {
        "id": "0Cc6lvFjmUnY"
      },
      "execution_count": 33,
      "outputs": []
    },
    {
      "cell_type": "code",
      "source": [
        "teacher_scores = (train_acc_t, val_acc_t, test_acc_t)\n",
        "student_scores = (train_acc_s, val_acc_s, test_acc_s)\n",
        "summary_result = generate_summary_bart(teacher_scores, student_scores)"
      ],
      "metadata": {
        "colab": {
          "base_uri": "https://localhost:8080/"
        },
        "id": "L4bp_URpmoZe",
        "outputId": "9d393c04-2fac-470a-aba3-131c7335eb17"
      },
      "execution_count": 34,
      "outputs": [
        {
          "output_type": "stream",
          "name": "stderr",
          "text": [
            "Truncation was not explicitly activated but `max_length` is provided a specific value, please use `truncation=True` to explicitly truncate examples to max length. Defaulting to 'longest_first' truncation strategy. If you encode pairs of sequences (GLUE-style) with the tokenizer you can select this strategy more precisely by providing a specific strategy to `truncation`.\n"
          ]
        }
      ]
    },
    {
      "cell_type": "code",
      "source": [
        "print(\"===== RINGKASAN LLM (BART) =====\")\n",
        "print(summary_result)"
      ],
      "metadata": {
        "colab": {
          "base_uri": "https://localhost:8080/"
        },
        "id": "S6ExsxDempyp",
        "outputId": "141e9231-2b11-437e-aadb-c8b1a632d489"
      },
      "execution_count": 35,
      "outputs": [
        {
          "output_type": "stream",
          "name": "stdout",
          "text": [
            "===== RINGKASAN LLM (BART) =====\n",
            "Saya baru saja melatih dua model GNN pada dataset CiteSeer. Teacher (3 lapisan) dan Student (2 lapisans) dengan teknik knowledge distillation. Hasil hasil tersebut secara singkat:\n"
          ]
        }
      ]
    }
  ]
}