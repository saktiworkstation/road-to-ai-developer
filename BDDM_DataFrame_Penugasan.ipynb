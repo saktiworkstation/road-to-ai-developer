{
  "nbformat": 4,
  "nbformat_minor": 0,
  "metadata": {
    "colab": {
      "provenance": [],
      "authorship_tag": "ABX9TyPvnz5nUZO7+eW9OJQ5qtVw",
      "include_colab_link": true
    },
    "kernelspec": {
      "name": "python3",
      "display_name": "Python 3"
    },
    "language_info": {
      "name": "python"
    }
  },
  "cells": [
    {
      "cell_type": "markdown",
      "metadata": {
        "id": "view-in-github",
        "colab_type": "text"
      },
      "source": [
        "<a href=\"https://colab.research.google.com/github/saktiworkstation/road-to-ai-developer/blob/main/BDDM_DataFrame_Penugasan.ipynb\" target=\"_parent\"><img src=\"https://colab.research.google.com/assets/colab-badge.svg\" alt=\"Open In Colab\"/></a>"
      ]
    },
    {
      "cell_type": "markdown",
      "source": [
        "# Praktikum\n",
        "# 22.11.4677_Sakti Kusuma Aji_P2\n"
      ],
      "metadata": {
        "id": "I4K_kvS1PLNE"
      }
    },
    {
      "cell_type": "markdown",
      "source": [
        "**List**"
      ],
      "metadata": {
        "id": "Tl3PkurpPmMR"
      }
    },
    {
      "cell_type": "code",
      "source": [
        "import pandas as pd"
      ],
      "metadata": {
        "id": "8JB2RH5pS4KP"
      },
      "execution_count": 23,
      "outputs": []
    },
    {
      "cell_type": "code",
      "source": [
        "# Contoh sederhana pembuatan list pada bahasa pemrograman python\n",
        "list1 = ['BigData & Data Mining', 'BigData & Predictive Analytic', 2022, 2022]\n",
        "list2 = [1, 2, 3, 4, 5]\n",
        "list3 = [\"a\", \"b\", \"c\", \"d\"]"
      ],
      "metadata": {
        "id": "gqwkrSYmPKxw"
      },
      "execution_count": 24,
      "outputs": []
    },
    {
      "cell_type": "code",
      "source": [
        "# Cara mengakses nilai di dalam list Python\n",
        "print(\"list1[0]: \", list1[0])\n",
        "print(\"list2[1:5]: \", list2[1:5])"
      ],
      "metadata": {
        "colab": {
          "base_uri": "https://localhost:8080/"
        },
        "id": "fePz6jb5PqOH",
        "outputId": "7d35d1c1-10e4-48dc-d020-8951282aa259"
      },
      "execution_count": 25,
      "outputs": [
        {
          "output_type": "stream",
          "name": "stdout",
          "text": [
            "list1[0]:  BigData & Data Mining\n",
            "list2[1:5]:  [2, 3, 4, 5]\n"
          ]
        }
      ]
    },
    {
      "cell_type": "code",
      "source": [
        "# Tampilkan data pada list3 urutan ke-3 sebanyak 2 data\n",
        "print(\"list3[2:4]: \", list3[2:4])"
      ],
      "metadata": {
        "colab": {
          "base_uri": "https://localhost:8080/"
        },
        "id": "mwfHweirPtGO",
        "outputId": "55f1dd26-2513-45c1-84ec-0f5df282f494"
      },
      "execution_count": 26,
      "outputs": [
        {
          "output_type": "stream",
          "name": "stdout",
          "text": [
            "list3[2:4]:  ['c', 'd']\n"
          ]
        }
      ]
    },
    {
      "cell_type": "code",
      "source": [
        "# Upload file dataset garments_worker_productivity.csv pada direktori /content\n",
        "df_garment = pd.read_csv('/content/garments_worker_productivity.csv')\n",
        "df_garment.head()"
      ],
      "metadata": {
        "colab": {
          "base_uri": "https://localhost:8080/",
          "height": 226
        },
        "id": "i3zzC-FLPuwQ",
        "outputId": "aca895a0-426f-4236-9c45-7e1489228409"
      },
      "execution_count": 27,
      "outputs": [
        {
          "output_type": "execute_result",
          "data": {
            "text/plain": [
              "       date   quarter  department       day  team  targeted_productivity  \\\n",
              "0  1/1/2015  Quarter1      sweing  Thursday     8                   0.80   \n",
              "1  1/1/2015  Quarter1  finishing   Thursday     1                   0.75   \n",
              "2  1/1/2015  Quarter1      sweing  Thursday    11                   0.80   \n",
              "3  1/1/2015  Quarter1      sweing  Thursday    12                   0.80   \n",
              "4  1/1/2015  Quarter1      sweing  Thursday     6                   0.80   \n",
              "\n",
              "     smv     wip  over_time  incentive  idle_time  idle_men  \\\n",
              "0  26.16  1108.0       7080         98        0.0         0   \n",
              "1   3.94     NaN        960          0        0.0         0   \n",
              "2  11.41   968.0       3660         50        0.0         0   \n",
              "3  11.41   968.0       3660         50        0.0         0   \n",
              "4  25.90  1170.0       1920         50        0.0         0   \n",
              "\n",
              "   no_of_style_change  no_of_workers  actual_productivity  \n",
              "0                   0           59.0             0.940725  \n",
              "1                   0            8.0             0.886500  \n",
              "2                   0           30.5             0.800570  \n",
              "3                   0           30.5             0.800570  \n",
              "4                   0           56.0             0.800382  "
            ],
            "text/html": [
              "\n",
              "  <div id=\"df-524c3b38-a0c6-4768-8b8e-72ef7fc2d8e5\" class=\"colab-df-container\">\n",
              "    <div>\n",
              "<style scoped>\n",
              "    .dataframe tbody tr th:only-of-type {\n",
              "        vertical-align: middle;\n",
              "    }\n",
              "\n",
              "    .dataframe tbody tr th {\n",
              "        vertical-align: top;\n",
              "    }\n",
              "\n",
              "    .dataframe thead th {\n",
              "        text-align: right;\n",
              "    }\n",
              "</style>\n",
              "<table border=\"1\" class=\"dataframe\">\n",
              "  <thead>\n",
              "    <tr style=\"text-align: right;\">\n",
              "      <th></th>\n",
              "      <th>date</th>\n",
              "      <th>quarter</th>\n",
              "      <th>department</th>\n",
              "      <th>day</th>\n",
              "      <th>team</th>\n",
              "      <th>targeted_productivity</th>\n",
              "      <th>smv</th>\n",
              "      <th>wip</th>\n",
              "      <th>over_time</th>\n",
              "      <th>incentive</th>\n",
              "      <th>idle_time</th>\n",
              "      <th>idle_men</th>\n",
              "      <th>no_of_style_change</th>\n",
              "      <th>no_of_workers</th>\n",
              "      <th>actual_productivity</th>\n",
              "    </tr>\n",
              "  </thead>\n",
              "  <tbody>\n",
              "    <tr>\n",
              "      <th>0</th>\n",
              "      <td>1/1/2015</td>\n",
              "      <td>Quarter1</td>\n",
              "      <td>sweing</td>\n",
              "      <td>Thursday</td>\n",
              "      <td>8</td>\n",
              "      <td>0.80</td>\n",
              "      <td>26.16</td>\n",
              "      <td>1108.0</td>\n",
              "      <td>7080</td>\n",
              "      <td>98</td>\n",
              "      <td>0.0</td>\n",
              "      <td>0</td>\n",
              "      <td>0</td>\n",
              "      <td>59.0</td>\n",
              "      <td>0.940725</td>\n",
              "    </tr>\n",
              "    <tr>\n",
              "      <th>1</th>\n",
              "      <td>1/1/2015</td>\n",
              "      <td>Quarter1</td>\n",
              "      <td>finishing</td>\n",
              "      <td>Thursday</td>\n",
              "      <td>1</td>\n",
              "      <td>0.75</td>\n",
              "      <td>3.94</td>\n",
              "      <td>NaN</td>\n",
              "      <td>960</td>\n",
              "      <td>0</td>\n",
              "      <td>0.0</td>\n",
              "      <td>0</td>\n",
              "      <td>0</td>\n",
              "      <td>8.0</td>\n",
              "      <td>0.886500</td>\n",
              "    </tr>\n",
              "    <tr>\n",
              "      <th>2</th>\n",
              "      <td>1/1/2015</td>\n",
              "      <td>Quarter1</td>\n",
              "      <td>sweing</td>\n",
              "      <td>Thursday</td>\n",
              "      <td>11</td>\n",
              "      <td>0.80</td>\n",
              "      <td>11.41</td>\n",
              "      <td>968.0</td>\n",
              "      <td>3660</td>\n",
              "      <td>50</td>\n",
              "      <td>0.0</td>\n",
              "      <td>0</td>\n",
              "      <td>0</td>\n",
              "      <td>30.5</td>\n",
              "      <td>0.800570</td>\n",
              "    </tr>\n",
              "    <tr>\n",
              "      <th>3</th>\n",
              "      <td>1/1/2015</td>\n",
              "      <td>Quarter1</td>\n",
              "      <td>sweing</td>\n",
              "      <td>Thursday</td>\n",
              "      <td>12</td>\n",
              "      <td>0.80</td>\n",
              "      <td>11.41</td>\n",
              "      <td>968.0</td>\n",
              "      <td>3660</td>\n",
              "      <td>50</td>\n",
              "      <td>0.0</td>\n",
              "      <td>0</td>\n",
              "      <td>0</td>\n",
              "      <td>30.5</td>\n",
              "      <td>0.800570</td>\n",
              "    </tr>\n",
              "    <tr>\n",
              "      <th>4</th>\n",
              "      <td>1/1/2015</td>\n",
              "      <td>Quarter1</td>\n",
              "      <td>sweing</td>\n",
              "      <td>Thursday</td>\n",
              "      <td>6</td>\n",
              "      <td>0.80</td>\n",
              "      <td>25.90</td>\n",
              "      <td>1170.0</td>\n",
              "      <td>1920</td>\n",
              "      <td>50</td>\n",
              "      <td>0.0</td>\n",
              "      <td>0</td>\n",
              "      <td>0</td>\n",
              "      <td>56.0</td>\n",
              "      <td>0.800382</td>\n",
              "    </tr>\n",
              "  </tbody>\n",
              "</table>\n",
              "</div>\n",
              "    <div class=\"colab-df-buttons\">\n",
              "\n",
              "  <div class=\"colab-df-container\">\n",
              "    <button class=\"colab-df-convert\" onclick=\"convertToInteractive('df-524c3b38-a0c6-4768-8b8e-72ef7fc2d8e5')\"\n",
              "            title=\"Convert this dataframe to an interactive table.\"\n",
              "            style=\"display:none;\">\n",
              "\n",
              "  <svg xmlns=\"http://www.w3.org/2000/svg\" height=\"24px\" viewBox=\"0 -960 960 960\">\n",
              "    <path d=\"M120-120v-720h720v720H120Zm60-500h600v-160H180v160Zm220 220h160v-160H400v160Zm0 220h160v-160H400v160ZM180-400h160v-160H180v160Zm440 0h160v-160H620v160ZM180-180h160v-160H180v160Zm440 0h160v-160H620v160Z\"/>\n",
              "  </svg>\n",
              "    </button>\n",
              "\n",
              "  <style>\n",
              "    .colab-df-container {\n",
              "      display:flex;\n",
              "      gap: 12px;\n",
              "    }\n",
              "\n",
              "    .colab-df-convert {\n",
              "      background-color: #E8F0FE;\n",
              "      border: none;\n",
              "      border-radius: 50%;\n",
              "      cursor: pointer;\n",
              "      display: none;\n",
              "      fill: #1967D2;\n",
              "      height: 32px;\n",
              "      padding: 0 0 0 0;\n",
              "      width: 32px;\n",
              "    }\n",
              "\n",
              "    .colab-df-convert:hover {\n",
              "      background-color: #E2EBFA;\n",
              "      box-shadow: 0px 1px 2px rgba(60, 64, 67, 0.3), 0px 1px 3px 1px rgba(60, 64, 67, 0.15);\n",
              "      fill: #174EA6;\n",
              "    }\n",
              "\n",
              "    .colab-df-buttons div {\n",
              "      margin-bottom: 4px;\n",
              "    }\n",
              "\n",
              "    [theme=dark] .colab-df-convert {\n",
              "      background-color: #3B4455;\n",
              "      fill: #D2E3FC;\n",
              "    }\n",
              "\n",
              "    [theme=dark] .colab-df-convert:hover {\n",
              "      background-color: #434B5C;\n",
              "      box-shadow: 0px 1px 3px 1px rgba(0, 0, 0, 0.15);\n",
              "      filter: drop-shadow(0px 1px 2px rgba(0, 0, 0, 0.3));\n",
              "      fill: #FFFFFF;\n",
              "    }\n",
              "  </style>\n",
              "\n",
              "    <script>\n",
              "      const buttonEl =\n",
              "        document.querySelector('#df-524c3b38-a0c6-4768-8b8e-72ef7fc2d8e5 button.colab-df-convert');\n",
              "      buttonEl.style.display =\n",
              "        google.colab.kernel.accessAllowed ? 'block' : 'none';\n",
              "\n",
              "      async function convertToInteractive(key) {\n",
              "        const element = document.querySelector('#df-524c3b38-a0c6-4768-8b8e-72ef7fc2d8e5');\n",
              "        const dataTable =\n",
              "          await google.colab.kernel.invokeFunction('convertToInteractive',\n",
              "                                                    [key], {});\n",
              "        if (!dataTable) return;\n",
              "\n",
              "        const docLinkHtml = 'Like what you see? Visit the ' +\n",
              "          '<a target=\"_blank\" href=https://colab.research.google.com/notebooks/data_table.ipynb>data table notebook</a>'\n",
              "          + ' to learn more about interactive tables.';\n",
              "        element.innerHTML = '';\n",
              "        dataTable['output_type'] = 'display_data';\n",
              "        await google.colab.output.renderOutput(dataTable, element);\n",
              "        const docLink = document.createElement('div');\n",
              "        docLink.innerHTML = docLinkHtml;\n",
              "        element.appendChild(docLink);\n",
              "      }\n",
              "    </script>\n",
              "  </div>\n",
              "\n",
              "\n",
              "<div id=\"df-2c832c50-a5a3-41a5-8f50-d071ca19d8a1\">\n",
              "  <button class=\"colab-df-quickchart\" onclick=\"quickchart('df-2c832c50-a5a3-41a5-8f50-d071ca19d8a1')\"\n",
              "            title=\"Suggest charts\"\n",
              "            style=\"display:none;\">\n",
              "\n",
              "<svg xmlns=\"http://www.w3.org/2000/svg\" height=\"24px\"viewBox=\"0 0 24 24\"\n",
              "     width=\"24px\">\n",
              "    <g>\n",
              "        <path d=\"M19 3H5c-1.1 0-2 .9-2 2v14c0 1.1.9 2 2 2h14c1.1 0 2-.9 2-2V5c0-1.1-.9-2-2-2zM9 17H7v-7h2v7zm4 0h-2V7h2v10zm4 0h-2v-4h2v4z\"/>\n",
              "    </g>\n",
              "</svg>\n",
              "  </button>\n",
              "\n",
              "<style>\n",
              "  .colab-df-quickchart {\n",
              "      --bg-color: #E8F0FE;\n",
              "      --fill-color: #1967D2;\n",
              "      --hover-bg-color: #E2EBFA;\n",
              "      --hover-fill-color: #174EA6;\n",
              "      --disabled-fill-color: #AAA;\n",
              "      --disabled-bg-color: #DDD;\n",
              "  }\n",
              "\n",
              "  [theme=dark] .colab-df-quickchart {\n",
              "      --bg-color: #3B4455;\n",
              "      --fill-color: #D2E3FC;\n",
              "      --hover-bg-color: #434B5C;\n",
              "      --hover-fill-color: #FFFFFF;\n",
              "      --disabled-bg-color: #3B4455;\n",
              "      --disabled-fill-color: #666;\n",
              "  }\n",
              "\n",
              "  .colab-df-quickchart {\n",
              "    background-color: var(--bg-color);\n",
              "    border: none;\n",
              "    border-radius: 50%;\n",
              "    cursor: pointer;\n",
              "    display: none;\n",
              "    fill: var(--fill-color);\n",
              "    height: 32px;\n",
              "    padding: 0;\n",
              "    width: 32px;\n",
              "  }\n",
              "\n",
              "  .colab-df-quickchart:hover {\n",
              "    background-color: var(--hover-bg-color);\n",
              "    box-shadow: 0 1px 2px rgba(60, 64, 67, 0.3), 0 1px 3px 1px rgba(60, 64, 67, 0.15);\n",
              "    fill: var(--button-hover-fill-color);\n",
              "  }\n",
              "\n",
              "  .colab-df-quickchart-complete:disabled,\n",
              "  .colab-df-quickchart-complete:disabled:hover {\n",
              "    background-color: var(--disabled-bg-color);\n",
              "    fill: var(--disabled-fill-color);\n",
              "    box-shadow: none;\n",
              "  }\n",
              "\n",
              "  .colab-df-spinner {\n",
              "    border: 2px solid var(--fill-color);\n",
              "    border-color: transparent;\n",
              "    border-bottom-color: var(--fill-color);\n",
              "    animation:\n",
              "      spin 1s steps(1) infinite;\n",
              "  }\n",
              "\n",
              "  @keyframes spin {\n",
              "    0% {\n",
              "      border-color: transparent;\n",
              "      border-bottom-color: var(--fill-color);\n",
              "      border-left-color: var(--fill-color);\n",
              "    }\n",
              "    20% {\n",
              "      border-color: transparent;\n",
              "      border-left-color: var(--fill-color);\n",
              "      border-top-color: var(--fill-color);\n",
              "    }\n",
              "    30% {\n",
              "      border-color: transparent;\n",
              "      border-left-color: var(--fill-color);\n",
              "      border-top-color: var(--fill-color);\n",
              "      border-right-color: var(--fill-color);\n",
              "    }\n",
              "    40% {\n",
              "      border-color: transparent;\n",
              "      border-right-color: var(--fill-color);\n",
              "      border-top-color: var(--fill-color);\n",
              "    }\n",
              "    60% {\n",
              "      border-color: transparent;\n",
              "      border-right-color: var(--fill-color);\n",
              "    }\n",
              "    80% {\n",
              "      border-color: transparent;\n",
              "      border-right-color: var(--fill-color);\n",
              "      border-bottom-color: var(--fill-color);\n",
              "    }\n",
              "    90% {\n",
              "      border-color: transparent;\n",
              "      border-bottom-color: var(--fill-color);\n",
              "    }\n",
              "  }\n",
              "</style>\n",
              "\n",
              "  <script>\n",
              "    async function quickchart(key) {\n",
              "      const quickchartButtonEl =\n",
              "        document.querySelector('#' + key + ' button');\n",
              "      quickchartButtonEl.disabled = true;  // To prevent multiple clicks.\n",
              "      quickchartButtonEl.classList.add('colab-df-spinner');\n",
              "      try {\n",
              "        const charts = await google.colab.kernel.invokeFunction(\n",
              "            'suggestCharts', [key], {});\n",
              "      } catch (error) {\n",
              "        console.error('Error during call to suggestCharts:', error);\n",
              "      }\n",
              "      quickchartButtonEl.classList.remove('colab-df-spinner');\n",
              "      quickchartButtonEl.classList.add('colab-df-quickchart-complete');\n",
              "    }\n",
              "    (() => {\n",
              "      let quickchartButtonEl =\n",
              "        document.querySelector('#df-2c832c50-a5a3-41a5-8f50-d071ca19d8a1 button');\n",
              "      quickchartButtonEl.style.display =\n",
              "        google.colab.kernel.accessAllowed ? 'block' : 'none';\n",
              "    })();\n",
              "  </script>\n",
              "</div>\n",
              "\n",
              "    </div>\n",
              "  </div>\n"
            ],
            "application/vnd.google.colaboratory.intrinsic+json": {
              "type": "dataframe",
              "variable_name": "df_garment",
              "summary": "{\n  \"name\": \"df_garment\",\n  \"rows\": 1197,\n  \"fields\": [\n    {\n      \"column\": \"date\",\n      \"properties\": {\n        \"dtype\": \"object\",\n        \"num_unique_values\": 59,\n        \"samples\": [\n          \"1/1/2015\",\n          \"1/7/2015\",\n          \"2/10/2015\"\n        ],\n        \"semantic_type\": \"\",\n        \"description\": \"\"\n      }\n    },\n    {\n      \"column\": \"quarter\",\n      \"properties\": {\n        \"dtype\": \"category\",\n        \"num_unique_values\": 5,\n        \"samples\": [\n          \"Quarter2\",\n          \"Quarter5\",\n          \"Quarter3\"\n        ],\n        \"semantic_type\": \"\",\n        \"description\": \"\"\n      }\n    },\n    {\n      \"column\": \"department\",\n      \"properties\": {\n        \"dtype\": \"category\",\n        \"num_unique_values\": 3,\n        \"samples\": [\n          \"sweing\",\n          \"finishing \",\n          \"finishing\"\n        ],\n        \"semantic_type\": \"\",\n        \"description\": \"\"\n      }\n    },\n    {\n      \"column\": \"day\",\n      \"properties\": {\n        \"dtype\": \"category\",\n        \"num_unique_values\": 6,\n        \"samples\": [\n          \"Thursday\",\n          \"Saturday\",\n          \"Wednesday\"\n        ],\n        \"semantic_type\": \"\",\n        \"description\": \"\"\n      }\n    },\n    {\n      \"column\": \"team\",\n      \"properties\": {\n        \"dtype\": \"number\",\n        \"std\": 3,\n        \"min\": 1,\n        \"max\": 12,\n        \"num_unique_values\": 12,\n        \"samples\": [\n          5,\n          10,\n          8\n        ],\n        \"semantic_type\": \"\",\n        \"description\": \"\"\n      }\n    },\n    {\n      \"column\": \"targeted_productivity\",\n      \"properties\": {\n        \"dtype\": \"number\",\n        \"std\": 0.09789096325790547,\n        \"min\": 0.07,\n        \"max\": 0.8,\n        \"num_unique_values\": 9,\n        \"samples\": [\n          0.07,\n          0.75,\n          0.35\n        ],\n        \"semantic_type\": \"\",\n        \"description\": \"\"\n      }\n    },\n    {\n      \"column\": \"smv\",\n      \"properties\": {\n        \"dtype\": \"number\",\n        \"std\": 10.943219199514315,\n        \"min\": 2.9,\n        \"max\": 54.56,\n        \"num_unique_values\": 70,\n        \"samples\": [\n          14.61,\n          26.16,\n          30.1\n        ],\n        \"semantic_type\": \"\",\n        \"description\": \"\"\n      }\n    },\n    {\n      \"column\": \"wip\",\n      \"properties\": {\n        \"dtype\": \"number\",\n        \"std\": 1837.455001105635,\n        \"min\": 7.0,\n        \"max\": 23122.0,\n        \"num_unique_values\": 548,\n        \"samples\": [\n          1287.0,\n          970.0,\n          958.0\n        ],\n        \"semantic_type\": \"\",\n        \"description\": \"\"\n      }\n    },\n    {\n      \"column\": \"over_time\",\n      \"properties\": {\n        \"dtype\": \"number\",\n        \"std\": 3348,\n        \"min\": 0,\n        \"max\": 25920,\n        \"num_unique_values\": 143,\n        \"samples\": [\n          5820,\n          6780,\n          7470\n        ],\n        \"semantic_type\": \"\",\n        \"description\": \"\"\n      }\n    },\n    {\n      \"column\": \"incentive\",\n      \"properties\": {\n        \"dtype\": \"number\",\n        \"std\": 160,\n        \"min\": 0,\n        \"max\": 3600,\n        \"num_unique_values\": 48,\n        \"samples\": [\n          55,\n          65,\n          81\n        ],\n        \"semantic_type\": \"\",\n        \"description\": \"\"\n      }\n    },\n    {\n      \"column\": \"idle_time\",\n      \"properties\": {\n        \"dtype\": \"number\",\n        \"std\": 12.709756518546563,\n        \"min\": 0.0,\n        \"max\": 300.0,\n        \"num_unique_values\": 12,\n        \"samples\": [\n          4.0,\n          3.5,\n          0.0\n        ],\n        \"semantic_type\": \"\",\n        \"description\": \"\"\n      }\n    },\n    {\n      \"column\": \"idle_men\",\n      \"properties\": {\n        \"dtype\": \"number\",\n        \"std\": 3,\n        \"min\": 0,\n        \"max\": 45,\n        \"num_unique_values\": 10,\n        \"samples\": [\n          25,\n          10,\n          30\n        ],\n        \"semantic_type\": \"\",\n        \"description\": \"\"\n      }\n    },\n    {\n      \"column\": \"no_of_style_change\",\n      \"properties\": {\n        \"dtype\": \"number\",\n        \"std\": 0,\n        \"min\": 0,\n        \"max\": 2,\n        \"num_unique_values\": 3,\n        \"samples\": [\n          0,\n          1,\n          2\n        ],\n        \"semantic_type\": \"\",\n        \"description\": \"\"\n      }\n    },\n    {\n      \"column\": \"no_of_workers\",\n      \"properties\": {\n        \"dtype\": \"number\",\n        \"std\": 22.19768668225043,\n        \"min\": 2.0,\n        \"max\": 89.0,\n        \"num_unique_values\": 61,\n        \"samples\": [\n          59.0,\n          55.0,\n          26.0\n        ],\n        \"semantic_type\": \"\",\n        \"description\": \"\"\n      }\n    },\n    {\n      \"column\": \"actual_productivity\",\n      \"properties\": {\n        \"dtype\": \"number\",\n        \"std\": 0.1744879035093953,\n        \"min\": 0.233705476,\n        \"max\": 1.1204375,\n        \"num_unique_values\": 879,\n        \"samples\": [\n          0.750031447,\n          0.750031898,\n          0.927291667\n        ],\n        \"semantic_type\": \"\",\n        \"description\": \"\"\n      }\n    }\n  ]\n}"
            }
          },
          "metadata": {},
          "execution_count": 27
        }
      ]
    },
    {
      "cell_type": "code",
      "source": [
        "# Ambil data 'no_of_workers' dari dataframe dan simpan dalam list\n",
        "list_dari_df = []\n",
        "for row in range(len(df_garment)):\n",
        "    list_dari_df.append(df_garment['no_of_workers'][row])\n",
        "\n",
        "print(list_dari_df)"
      ],
      "metadata": {
        "colab": {
          "base_uri": "https://localhost:8080/"
        },
        "id": "mM2jtBalPxZ9",
        "outputId": "1c060d69-ba10-4dac-a124-28a551ba7d77"
      },
      "execution_count": 28,
      "outputs": [
        {
          "output_type": "stream",
          "name": "stdout",
          "text": [
            "[59.0, 8.0, 30.5, 30.5, 56.0, 56.0, 8.0, 57.5, 55.0, 57.5, 57.5, 54.0, 30.5, 8.0, 8.0, 18.0, 8.0, 60.0, 12.0, 20.0, 17.0, 8.0, 8.0, 8.0, 56.5, 54.5, 59.0, 59.0, 29.5, 31.5, 56.0, 56.0, 54.0, 8.0, 55.0, 8.0, 60.0, 57.5, 8.0, 8.0, 8.0, 8.0, 8.0, 31.0, 20.0, 59.0, 56.5, 56.5, 55.5, 59.0, 55.5, 31.0, 8.0, 18.0, 54.0, 55.0, 57.5, 8.0, 8.0, 58.0, 8.0, 8.0, 10.0, 16.0, 8.0, 59.0, 8.0, 8.0, 56.5, 56.5, 59.0, 55.0, 32.0, 32.0, 57.5, 57.5, 8.0, 8.0, 58.5, 55.0, 8.0, 8.0, 58.0, 18.0, 8.0, 10.0, 15.0, 8.0, 59.0, 59.0, 8.0, 8.0, 57.5, 57.5, 55.0, 31.5, 56.5, 56.5, 31.5, 58.5, 55.0, 8.0, 58.0, 8.0, 8.0, 8.0, 59.0, 59.0, 56.5, 15.0, 18.0, 8.0, 8.0, 8.0, 57.5, 57.5, 30.5, 55.0, 31.5, 56.5, 58.5, 58.0, 8.0, 10.0, 55.0, 8.0, 8.0, 20.0, 59.0, 8.0, 59.0, 58.5, 56.5, 56.5, 8.0, 8.0, 58.5, 55.0, 31.5, 30.5, 58.5, 8.0, 8.0, 12.0, 8.0, 5.0, 54.0, 57.0, 8.0, 12.0, 20.0, 8.0, 59.0, 56.5, 56.5, 8.0, 8.0, 8.0, 58.0, 57.5, 31.5, 30.5, 59.0, 58.5, 56.0, 53.0, 8.0, 8.0, 56.0, 8.0, 8.0, 20.0, 59.0, 8.0, 8.0, 59.0, 56.5, 56.5, 8.0, 8.0, 30.5, 31.5, 58.5, 58.5, 55.0, 8.0, 8.0, 8.0, 53.0, 8.0, 8.0, 58.0, 57.0, 8.0, 18.0, 10.0, 8.0, 8.0, 59.0, 59.0, 56.5, 56.5, 8.0, 8.0, 55.0, 31.5, 31.5, 58.5, 8.0, 58.5, 59.0, 53.0, 8.0, 8.0, 51.5, 8.0, 12.0, 2.0, 20.0, 9.0, 8.0, 59.0, 59.0, 57.0, 56.5, 8.0, 8.0, 31.5, 31.5, 58.5, 55.0, 8.0, 8.0, 8.0, 53.0, 58.0, 56.5, 56.5, 7.0, 8.0, 56.5, 8.0, 15.0, 8.0, 59.0, 56.5, 8.0, 7.0, 31.5, 31.5, 59.0, 58.0, 8.0, 57.0, 56.5, 55.0, 8.0, 57.0, 8.0, 20.0, 19.0, 8.0, 8.0, 8.0, 59.0, 56.5, 56.5, 59.0, 31.5, 31.5, 58.0, 8.0, 56.5, 56.0, 8.0, 56.5, 55.0, 54.5, 15.0, 10.0, 8.0, 8.0, 10.0, 30.5, 31.5, 56.5, 56.5, 59.0, 59.0, 56.5, 56.5, 8.0, 8.0, 54.0, 56.5, 56.0, 5.0, 58.0, 7.0, 8.0, 12.0, 10.0, 30.5, 56.5, 56.5, 59.0, 56.5, 56.0, 8.0, 31.5, 56.5, 57.0, 56.5, 8.0, 58.0, 10.0, 57.5, 8.0, 28.0, 10.0, 8.0, 31.0, 56.5, 59.0, 8.0, 56.5, 57.0, 56.5, 56.0, 57.0, 8.0, 58.0, 57.0, 56.5, 8.0, 8.0, 34.0, 8.0, 31.0, 56.5, 59.0, 57.0, 56.0, 57.0, 57.0, 10.0, 57.0, 57.0, 8.0, 34.0, 56.0, 15.0, 20.0, 17.0, 56.0, 89.0, 8.0, 56.5, 57.0, 56.0, 8.0, 58.0, 57.0, 57.0, 57.0, 34.0, 8.0, 58.0, 8.0, 56.0, 9.0, 10.0, 14.0, 56.0, 57.0, 32.0, 56.0, 57.0, 57.0, 15.0, 58.0, 57.0, 15.0, 25.0, 25.0, 8.0, 34.0, 57.0, 56.5, 58.0, 20.0, 8.0, 9.0, 15.0, 10.0, 9.0, 57.0, 57.0, 10.0, 8.0, 12.0, 9.0, 57.0, 56.0, 32.0, 57.0, 34.0, 57.0, 58.0, 12.0, 56.5, 58.0, 8.0, 8.0, 52.0, 8.0, 17.0, 8.0, 8.0, 9.0, 19.0, 12.0, 57.0, 58.5, 58.5, 57.5, 32.0, 56.0, 14.0, 56.5, 34.0, 58.0, 58.0, 9.0, 57.0, 52.0, 4.0, 10.0, 21.0, 12.0, 15.0, 10.0, 10.0, 56.5, 32.0, 57.0, 57.0, 58.0, 56.0, 9.0, 58.0, 58.0, 34.0, 8.0, 52.0, 57.0, 57.0, 57.0, 12.0, 12.0, 12.0, 56.0, 12.0, 56.5, 8.0, 9.0, 8.0, 58.0, 10.0, 10.0, 58.0, 34.0, 52.0, 32.0, 8.0, 58.0, 54.0, 57.0, 57.0, 15.0, 10.0, 15.0, 56.0, 58.0, 10.0, 58.0, 56.5, 9.0, 58.0, 35.0, 12.0, 8.0, 54.0, 52.0, 32.0, 8.0, 55.0, 8.0, 57.0, 10.0, 57.0, 57.5, 56.0, 10.0, 8.0, 8.0, 10.0, 10.0, 58.0, 58.0, 59.0, 10.0, 35.0, 9.0, 51.0, 33.0, 8.0, 55.0, 58.0, 57.0, 10.0, 8.0, 10.0, 10.0, 15.0, 2.0, 9.0, 2.0, 10.0, 8.0, 5.0, 10.0, 56.0, 57.5, 57.0, 58.0, 35.0, 59.0, 54.0, 33.0, 56.0, 54.0, 8.0, 57.5, 58.5, 19.0, 57.0, 10.0, 18.0, 10.0, 56.0, 58.5, 12.0, 58.0, 35.0, 9.0, 54.0, 33.0, 55.0, 56.0, 10.0, 58.5, 8.0, 58.5, 57.0, 56.0, 10.0, 12.0, 35.0, 56.5, 58.0, 9.0, 54.0, 33.0, 8.0, 19.0, 58.0, 56.0, 10.0, 55.0, 20.0, 57.5, 56.0, 10.0, 8.0, 57.0, 58.0, 11.0, 56.5, 35.0, 9.0, 58.0, 54.0, 33.5, 55.5, 56.0, 12.0, 8.0, 58.0, 57.5, 57.0, 56.0, 18.0, 10.0, 25.0, 57.5, 34.0, 58.0, 8.0, 8.0, 33.0, 58.0, 53.0, 57.0, 9.0, 58.5, 8.0, 55.5, 56.5, 57.5, 56.0, 22.0, 57.0, 8.0, 9.0, 10.0, 12.0, 34.0, 58.0, 8.0, 26.0, 33.0, 58.0, 58.0, 53.0, 57.0, 25.0, 58.0, 57.0, 57.0, 56.0, 9.0, 10.0, 8.0, 34.0, 58.0, 8.0, 33.0, 27.0, 10.0, 58.0, 57.0, 59.0, 8.0, 57.0, 57.5, 12.0, 56.0, 56.5, 56.0, 10.0, 9.0, 18.0, 15.0, 34.0, 58.0, 33.0, 27.0, 58.5, 8.0, 8.0, 56.5, 58.0, 57.0, 18.0, 10.0, 56.0, 57.0, 57.0, 8.0, 34.0, 57.0, 58.0, 57.0, 54.0, 15.0, 58.0, 8.0, 34.0, 58.0, 58.0, 9.0, 9.0, 18.0, 56.0, 57.0, 57.0, 57.0, 12.0, 58.0, 34.0, 15.0, 34.0, 54.0, 58.0, 8.0, 58.0, 8.0, 8.0, 58.0, 58.0, 15.0, 9.0, 57.5, 57.0, 12.0, 18.0, 2.0, 56.0, 34.0, 34.0, 58.0, 59.5, 58.0, 59.5, 12.0, 58.0, 8.0, 57.0, 52.0, 57.0, 15.0, 57.5, 9.0, 34.0, 12.0, 59.0, 33.0, 12.0, 8.0, 59.0, 18.0, 2.0, 59.0, 55.0, 58.0, 59.0, 50.0, 58.0, 57.0, 15.0, 20.0, 9.0, 34.0, 57.0, 12.0, 59.0, 59.0, 8.0, 60.0, 60.0, 55.0, 34.0, 58.0, 8.0, 8.0, 8.0, 8.0, 57.0, 9.0, 34.0, 2.0, 59.5, 10.0, 59.0, 59.0, 34.0, 53.0, 8.0, 8.0, 59.5, 58.0, 57.5, 20.0, 54.0, 57.0, 10.0, 9.0, 8.0, 58.0, 59.0, 34.0, 8.0, 33.0, 58.0, 15.0, 59.0, 10.0, 59.0, 54.0, 44.0, 54.0, 15.0, 57.0, 8.0, 10.0, 9.0, 34.0, 15.0, 33.0, 58.0, 8.0, 59.0, 56.0, 58.0, 8.0, 59.0, 51.0, 58.0, 8.0, 15.0, 56.0, 49.0, 10.0, 12.0, 12.0, 56.0, 58.0, 59.0, 34.0, 57.0, 33.0, 59.0, 8.0, 58.0, 51.0, 8.0, 8.0, 8.0, 8.0, 57.0, 47.0, 8.0, 57.0, 12.0, 34.0, 57.0, 58.5, 59.5, 18.0, 33.0, 10.0, 15.0, 58.0, 58.0, 57.0, 8.0, 8.0, 51.0, 8.0, 59.0, 9.0, 57.0, 48.0, 15.0, 8.0, 20.0, 12.0, 34.0, 59.0, 10.0, 10.0, 33.0, 12.0, 57.0, 57.0, 58.0, 57.0, 58.0, 50.0, 58.0, 8.0, 60.0, 8.0, 20.0, 8.0, 9.0, 18.0, 34.0, 59.0, 59.0, 58.0, 33.0, 58.0, 58.0, 57.0, 58.0, 50.0, 50.0, 8.0, 8.0, 8.0, 8.0, 15.0, 12.0, 34.0, 60.0, 59.0, 8.0, 59.0, 33.0, 57.0, 60.0, 15.0, 15.0, 59.0, 58.0, 52.0, 8.0, 53.0, 8.0, 42.0, 52.0, 9.0, 20.0, 15.0, 10.0, 59.0, 34.0, 59.0, 33.0, 57.0, 58.0, 58.0, 58.0, 52.0, 8.0, 8.0, 59.0, 42.0, 8.0, 8.0, 8.0, 15.0, 18.0, 59.0, 57.0, 34.0, 8.0, 33.0, 57.0, 52.0, 58.0, 52.0, 58.0, 9.0, 8.0, 59.0, 57.0, 8.0, 8.0, 55.0, 8.0, 8.0, 15.0, 18.0, 58.0, 34.0, 59.0, 8.0, 57.0, 33.0, 58.0, 52.0, 51.0, 58.0, 9.0, 8.0, 57.0, 57.0, 58.0, 8.0, 8.0, 8.0, 8.0, 25.0, 8.0, 34.0, 57.0, 33.0, 57.0, 52.0, 56.0, 52.0, 57.0, 58.0, 57.0, 8.0, 8.0, 57.0, 8.0, 58.0, 8.0, 8.0, 8.0, 10.0, 24.0, 8.0, 57.0, 34.0, 10.0, 57.0, 57.0, 59.0, 8.0, 33.0, 57.0, 52.0, 57.0, 56.0, 51.0, 8.0, 9.0, 8.0, 8.0, 10.0, 15.0, 56.0, 58.0, 34.0, 57.0, 59.0, 58.0, 57.0, 52.0, 33.0, 8.0, 57.0, 51.0, 9.0, 15.0, 8.0, 8.0, 8.0, 8.0, 8.0, 45.0, 10.0, 8.0, 9.0, 8.0, 8.0, 8.0, 56.0, 34.0, 57.0, 59.0, 58.0, 58.0, 52.0, 58.0, 53.0, 20.0, 8.0, 8.0, 57.0, 46.0, 33.0, 22.0, 8.0, 10.0, 9.0, 8.0, 8.0, 15.0, 56.0, 57.0, 34.0, 58.0, 52.0, 59.0, 58.0, 50.0, 46.0, 8.0, 59.0, 39.0, 9.0, 34.0, 58.0, 25.0, 10.0, 58.0, 57.0, 58.0, 8.0, 51.0, 50.0, 8.0, 8.0, 8.0, 45.0, 15.0, 8.0, 39.0, 58.0, 12.0, 9.0, 9.0, 8.0, 8.0, 10.0, 8.0, 57.0, 58.0, 57.0, 34.0, 58.0, 8.0, 52.0, 50.0, 45.0, 38.0, 56.0, 59.0, 8.0, 8.0, 8.0, 8.0, 9.0, 12.0, 58.0, 59.0, 15.0, 58.0, 34.0, 58.0, 12.0, 8.0, 8.0, 52.0, 45.0, 50.0, 10.0, 38.0, 56.0, 59.0, 55.0, 8.0, 8.0, 9.0, 12.0, 59.0, 12.0, 8.0, 8.0, 59.0, 15.0, 34.0, 58.0, 58.0, 8.0, 50.0, 52.0, 8.0, 57.0, 38.0, 45.0, 59.0, 57.0, 8.0, 8.0, 8.0, 9.0, 10.0, 8.0, 8.0, 8.0, 34.0, 58.0, 58.0, 8.0, 12.0, 50.0, 52.0, 45.0, 59.0, 59.0, 58.0, 57.0, 38.0, 57.0, 8.0, 8.0, 8.0, 15.0, 6.0]\n"
          ]
        }
      ]
    },
    {
      "cell_type": "markdown",
      "source": [
        "**Tuple**"
      ],
      "metadata": {
        "id": "bqVB5oQHQCyz"
      }
    },
    {
      "cell_type": "code",
      "source": [
        "#Contoh sederhana pembuatan tuple pada bahasa pemrograman python\n",
        "tup1 = ('BigData & Data Mining', 'BigData & Predictive Analytic', 2022, 2022)\n",
        "tup2 = (1, 2, 3, 4, 5 )\n",
        "tup3 = \"a\", \"b\", \"c\", \"d\"\n",
        "\n",
        "# Cara mengakses nilai tuple\n",
        "print (\"tup1[0]: \", tup1[0])\n",
        "print (\"tup2[1:5]: \", tup2[1:5])"
      ],
      "metadata": {
        "colab": {
          "base_uri": "https://localhost:8080/"
        },
        "id": "QibBfTq0QFnq",
        "outputId": "f610e095-b724-4fb1-ee59-df34bc28eca9"
      },
      "execution_count": 29,
      "outputs": [
        {
          "output_type": "stream",
          "name": "stdout",
          "text": [
            "tup1[0]:  BigData & Data Mining\n",
            "tup2[1:5]:  (2, 3, 4, 5)\n"
          ]
        }
      ]
    },
    {
      "cell_type": "markdown",
      "source": [
        "**Dictionary**"
      ],
      "metadata": {
        "id": "peMeGzm5QOQ0"
      }
    },
    {
      "cell_type": "code",
      "source": [
        "# Contoh cara membuat Dictionary pada Python\n",
        "dict = {'Name': 'Zara', 'Age': 20, 'Class': 'BigData1'}\n",
        "print(\"dict['Name']: \", dict['Name'])\n",
        "print(\"dict['Age']: \", dict['Age'])"
      ],
      "metadata": {
        "colab": {
          "base_uri": "https://localhost:8080/"
        },
        "id": "8XCuSQrYQQfq",
        "outputId": "71e4f25c-3a17-4c46-e59d-8d8870438521"
      },
      "execution_count": 30,
      "outputs": [
        {
          "output_type": "stream",
          "name": "stdout",
          "text": [
            "dict['Name']:  Zara\n",
            "dict['Age']:  20\n"
          ]
        }
      ]
    },
    {
      "cell_type": "code",
      "source": [
        "# Update dictionary python\n",
        "dict['Age'] = 8  # Mengubah entri yang sudah ada\n",
        "dict['University'] = \"Amikom\"  # Menambah entri baru"
      ],
      "metadata": {
        "id": "0a-owcl3SBID"
      },
      "execution_count": 31,
      "outputs": []
    },
    {
      "cell_type": "code",
      "source": [
        "# tampilkan hasil update\n",
        "print(\"dict['Age']: \", dict['Age'])\n",
        "print(\"dict['University']: \", dict['University'])"
      ],
      "metadata": {
        "colab": {
          "base_uri": "https://localhost:8080/"
        },
        "id": "MOVbs-lQSDGf",
        "outputId": "795c28f1-1660-4f60-e403-139b5ac1b363"
      },
      "execution_count": 32,
      "outputs": [
        {
          "output_type": "stream",
          "name": "stdout",
          "text": [
            "dict['Age']:  8\n",
            "dict['University']:  Amikom\n"
          ]
        }
      ]
    },
    {
      "cell_type": "code",
      "source": [
        "# print keseluruhan dictionary\n",
        "print('\\ndict :')\n",
        "print(dict)"
      ],
      "metadata": {
        "colab": {
          "base_uri": "https://localhost:8080/"
        },
        "id": "gYgakFZ9SFZC",
        "outputId": "de266b03-cb98-431a-d296-a1c531120feb"
      },
      "execution_count": 33,
      "outputs": [
        {
          "output_type": "stream",
          "name": "stdout",
          "text": [
            "\n",
            "dict :\n",
            "{'Name': 'Zara', 'Age': 8, 'Class': 'BigData1', 'University': 'Amikom'}\n"
          ]
        }
      ]
    },
    {
      "cell_type": "code",
      "source": [
        "# DataFrame dari Dictionary\n",
        "data = [\n",
        "    {'Name': 'Zara', 'Age': 20, 'Class': 'BigData1'},  # index ke-0\n",
        "    {'Name': 'lala', 'Age': 21, 'Class': 'BigData2'},  # index ke-1\n",
        "    {'Name': 'lili', 'Age': 22, 'Class': 'BigData3'}   # index ke-2\n",
        "]\n",
        "df = pd.DataFrame(data)\n",
        "df.head()"
      ],
      "metadata": {
        "colab": {
          "base_uri": "https://localhost:8080/",
          "height": 143
        },
        "id": "oZQsy_ETSIeS",
        "outputId": "c18c1c96-99d9-40ae-9131-eeb48a0fc0e5"
      },
      "execution_count": 34,
      "outputs": [
        {
          "output_type": "execute_result",
          "data": {
            "text/plain": [
              "   Name  Age     Class\n",
              "0  Zara   20  BigData1\n",
              "1  lala   21  BigData2\n",
              "2  lili   22  BigData3"
            ],
            "text/html": [
              "\n",
              "  <div id=\"df-d41e47d2-2b1e-4fb9-8d7b-b3bd542380b9\" class=\"colab-df-container\">\n",
              "    <div>\n",
              "<style scoped>\n",
              "    .dataframe tbody tr th:only-of-type {\n",
              "        vertical-align: middle;\n",
              "    }\n",
              "\n",
              "    .dataframe tbody tr th {\n",
              "        vertical-align: top;\n",
              "    }\n",
              "\n",
              "    .dataframe thead th {\n",
              "        text-align: right;\n",
              "    }\n",
              "</style>\n",
              "<table border=\"1\" class=\"dataframe\">\n",
              "  <thead>\n",
              "    <tr style=\"text-align: right;\">\n",
              "      <th></th>\n",
              "      <th>Name</th>\n",
              "      <th>Age</th>\n",
              "      <th>Class</th>\n",
              "    </tr>\n",
              "  </thead>\n",
              "  <tbody>\n",
              "    <tr>\n",
              "      <th>0</th>\n",
              "      <td>Zara</td>\n",
              "      <td>20</td>\n",
              "      <td>BigData1</td>\n",
              "    </tr>\n",
              "    <tr>\n",
              "      <th>1</th>\n",
              "      <td>lala</td>\n",
              "      <td>21</td>\n",
              "      <td>BigData2</td>\n",
              "    </tr>\n",
              "    <tr>\n",
              "      <th>2</th>\n",
              "      <td>lili</td>\n",
              "      <td>22</td>\n",
              "      <td>BigData3</td>\n",
              "    </tr>\n",
              "  </tbody>\n",
              "</table>\n",
              "</div>\n",
              "    <div class=\"colab-df-buttons\">\n",
              "\n",
              "  <div class=\"colab-df-container\">\n",
              "    <button class=\"colab-df-convert\" onclick=\"convertToInteractive('df-d41e47d2-2b1e-4fb9-8d7b-b3bd542380b9')\"\n",
              "            title=\"Convert this dataframe to an interactive table.\"\n",
              "            style=\"display:none;\">\n",
              "\n",
              "  <svg xmlns=\"http://www.w3.org/2000/svg\" height=\"24px\" viewBox=\"0 -960 960 960\">\n",
              "    <path d=\"M120-120v-720h720v720H120Zm60-500h600v-160H180v160Zm220 220h160v-160H400v160Zm0 220h160v-160H400v160ZM180-400h160v-160H180v160Zm440 0h160v-160H620v160ZM180-180h160v-160H180v160Zm440 0h160v-160H620v160Z\"/>\n",
              "  </svg>\n",
              "    </button>\n",
              "\n",
              "  <style>\n",
              "    .colab-df-container {\n",
              "      display:flex;\n",
              "      gap: 12px;\n",
              "    }\n",
              "\n",
              "    .colab-df-convert {\n",
              "      background-color: #E8F0FE;\n",
              "      border: none;\n",
              "      border-radius: 50%;\n",
              "      cursor: pointer;\n",
              "      display: none;\n",
              "      fill: #1967D2;\n",
              "      height: 32px;\n",
              "      padding: 0 0 0 0;\n",
              "      width: 32px;\n",
              "    }\n",
              "\n",
              "    .colab-df-convert:hover {\n",
              "      background-color: #E2EBFA;\n",
              "      box-shadow: 0px 1px 2px rgba(60, 64, 67, 0.3), 0px 1px 3px 1px rgba(60, 64, 67, 0.15);\n",
              "      fill: #174EA6;\n",
              "    }\n",
              "\n",
              "    .colab-df-buttons div {\n",
              "      margin-bottom: 4px;\n",
              "    }\n",
              "\n",
              "    [theme=dark] .colab-df-convert {\n",
              "      background-color: #3B4455;\n",
              "      fill: #D2E3FC;\n",
              "    }\n",
              "\n",
              "    [theme=dark] .colab-df-convert:hover {\n",
              "      background-color: #434B5C;\n",
              "      box-shadow: 0px 1px 3px 1px rgba(0, 0, 0, 0.15);\n",
              "      filter: drop-shadow(0px 1px 2px rgba(0, 0, 0, 0.3));\n",
              "      fill: #FFFFFF;\n",
              "    }\n",
              "  </style>\n",
              "\n",
              "    <script>\n",
              "      const buttonEl =\n",
              "        document.querySelector('#df-d41e47d2-2b1e-4fb9-8d7b-b3bd542380b9 button.colab-df-convert');\n",
              "      buttonEl.style.display =\n",
              "        google.colab.kernel.accessAllowed ? 'block' : 'none';\n",
              "\n",
              "      async function convertToInteractive(key) {\n",
              "        const element = document.querySelector('#df-d41e47d2-2b1e-4fb9-8d7b-b3bd542380b9');\n",
              "        const dataTable =\n",
              "          await google.colab.kernel.invokeFunction('convertToInteractive',\n",
              "                                                    [key], {});\n",
              "        if (!dataTable) return;\n",
              "\n",
              "        const docLinkHtml = 'Like what you see? Visit the ' +\n",
              "          '<a target=\"_blank\" href=https://colab.research.google.com/notebooks/data_table.ipynb>data table notebook</a>'\n",
              "          + ' to learn more about interactive tables.';\n",
              "        element.innerHTML = '';\n",
              "        dataTable['output_type'] = 'display_data';\n",
              "        await google.colab.output.renderOutput(dataTable, element);\n",
              "        const docLink = document.createElement('div');\n",
              "        docLink.innerHTML = docLinkHtml;\n",
              "        element.appendChild(docLink);\n",
              "      }\n",
              "    </script>\n",
              "  </div>\n",
              "\n",
              "\n",
              "<div id=\"df-137086f6-1c35-4316-a752-ef0bc54deeff\">\n",
              "  <button class=\"colab-df-quickchart\" onclick=\"quickchart('df-137086f6-1c35-4316-a752-ef0bc54deeff')\"\n",
              "            title=\"Suggest charts\"\n",
              "            style=\"display:none;\">\n",
              "\n",
              "<svg xmlns=\"http://www.w3.org/2000/svg\" height=\"24px\"viewBox=\"0 0 24 24\"\n",
              "     width=\"24px\">\n",
              "    <g>\n",
              "        <path d=\"M19 3H5c-1.1 0-2 .9-2 2v14c0 1.1.9 2 2 2h14c1.1 0 2-.9 2-2V5c0-1.1-.9-2-2-2zM9 17H7v-7h2v7zm4 0h-2V7h2v10zm4 0h-2v-4h2v4z\"/>\n",
              "    </g>\n",
              "</svg>\n",
              "  </button>\n",
              "\n",
              "<style>\n",
              "  .colab-df-quickchart {\n",
              "      --bg-color: #E8F0FE;\n",
              "      --fill-color: #1967D2;\n",
              "      --hover-bg-color: #E2EBFA;\n",
              "      --hover-fill-color: #174EA6;\n",
              "      --disabled-fill-color: #AAA;\n",
              "      --disabled-bg-color: #DDD;\n",
              "  }\n",
              "\n",
              "  [theme=dark] .colab-df-quickchart {\n",
              "      --bg-color: #3B4455;\n",
              "      --fill-color: #D2E3FC;\n",
              "      --hover-bg-color: #434B5C;\n",
              "      --hover-fill-color: #FFFFFF;\n",
              "      --disabled-bg-color: #3B4455;\n",
              "      --disabled-fill-color: #666;\n",
              "  }\n",
              "\n",
              "  .colab-df-quickchart {\n",
              "    background-color: var(--bg-color);\n",
              "    border: none;\n",
              "    border-radius: 50%;\n",
              "    cursor: pointer;\n",
              "    display: none;\n",
              "    fill: var(--fill-color);\n",
              "    height: 32px;\n",
              "    padding: 0;\n",
              "    width: 32px;\n",
              "  }\n",
              "\n",
              "  .colab-df-quickchart:hover {\n",
              "    background-color: var(--hover-bg-color);\n",
              "    box-shadow: 0 1px 2px rgba(60, 64, 67, 0.3), 0 1px 3px 1px rgba(60, 64, 67, 0.15);\n",
              "    fill: var(--button-hover-fill-color);\n",
              "  }\n",
              "\n",
              "  .colab-df-quickchart-complete:disabled,\n",
              "  .colab-df-quickchart-complete:disabled:hover {\n",
              "    background-color: var(--disabled-bg-color);\n",
              "    fill: var(--disabled-fill-color);\n",
              "    box-shadow: none;\n",
              "  }\n",
              "\n",
              "  .colab-df-spinner {\n",
              "    border: 2px solid var(--fill-color);\n",
              "    border-color: transparent;\n",
              "    border-bottom-color: var(--fill-color);\n",
              "    animation:\n",
              "      spin 1s steps(1) infinite;\n",
              "  }\n",
              "\n",
              "  @keyframes spin {\n",
              "    0% {\n",
              "      border-color: transparent;\n",
              "      border-bottom-color: var(--fill-color);\n",
              "      border-left-color: var(--fill-color);\n",
              "    }\n",
              "    20% {\n",
              "      border-color: transparent;\n",
              "      border-left-color: var(--fill-color);\n",
              "      border-top-color: var(--fill-color);\n",
              "    }\n",
              "    30% {\n",
              "      border-color: transparent;\n",
              "      border-left-color: var(--fill-color);\n",
              "      border-top-color: var(--fill-color);\n",
              "      border-right-color: var(--fill-color);\n",
              "    }\n",
              "    40% {\n",
              "      border-color: transparent;\n",
              "      border-right-color: var(--fill-color);\n",
              "      border-top-color: var(--fill-color);\n",
              "    }\n",
              "    60% {\n",
              "      border-color: transparent;\n",
              "      border-right-color: var(--fill-color);\n",
              "    }\n",
              "    80% {\n",
              "      border-color: transparent;\n",
              "      border-right-color: var(--fill-color);\n",
              "      border-bottom-color: var(--fill-color);\n",
              "    }\n",
              "    90% {\n",
              "      border-color: transparent;\n",
              "      border-bottom-color: var(--fill-color);\n",
              "    }\n",
              "  }\n",
              "</style>\n",
              "\n",
              "  <script>\n",
              "    async function quickchart(key) {\n",
              "      const quickchartButtonEl =\n",
              "        document.querySelector('#' + key + ' button');\n",
              "      quickchartButtonEl.disabled = true;  // To prevent multiple clicks.\n",
              "      quickchartButtonEl.classList.add('colab-df-spinner');\n",
              "      try {\n",
              "        const charts = await google.colab.kernel.invokeFunction(\n",
              "            'suggestCharts', [key], {});\n",
              "      } catch (error) {\n",
              "        console.error('Error during call to suggestCharts:', error);\n",
              "      }\n",
              "      quickchartButtonEl.classList.remove('colab-df-spinner');\n",
              "      quickchartButtonEl.classList.add('colab-df-quickchart-complete');\n",
              "    }\n",
              "    (() => {\n",
              "      let quickchartButtonEl =\n",
              "        document.querySelector('#df-137086f6-1c35-4316-a752-ef0bc54deeff button');\n",
              "      quickchartButtonEl.style.display =\n",
              "        google.colab.kernel.accessAllowed ? 'block' : 'none';\n",
              "    })();\n",
              "  </script>\n",
              "</div>\n",
              "\n",
              "    </div>\n",
              "  </div>\n"
            ],
            "application/vnd.google.colaboratory.intrinsic+json": {
              "type": "dataframe",
              "variable_name": "df",
              "summary": "{\n  \"name\": \"df\",\n  \"rows\": 3,\n  \"fields\": [\n    {\n      \"column\": \"Name\",\n      \"properties\": {\n        \"dtype\": \"string\",\n        \"num_unique_values\": 3,\n        \"samples\": [\n          \"Zara\",\n          \"lala\",\n          \"lili\"\n        ],\n        \"semantic_type\": \"\",\n        \"description\": \"\"\n      }\n    },\n    {\n      \"column\": \"Age\",\n      \"properties\": {\n        \"dtype\": \"number\",\n        \"std\": 1,\n        \"min\": 20,\n        \"max\": 22,\n        \"num_unique_values\": 3,\n        \"samples\": [\n          20,\n          21,\n          22\n        ],\n        \"semantic_type\": \"\",\n        \"description\": \"\"\n      }\n    },\n    {\n      \"column\": \"Class\",\n      \"properties\": {\n        \"dtype\": \"string\",\n        \"num_unique_values\": 3,\n        \"samples\": [\n          \"BigData1\",\n          \"BigData2\",\n          \"BigData3\"\n        ],\n        \"semantic_type\": \"\",\n        \"description\": \"\"\n      }\n    }\n  ]\n}"
            }
          },
          "metadata": {},
          "execution_count": 34
        }
      ]
    },
    {
      "cell_type": "code",
      "source": [
        "# DataFrame dari Dictionary List\n",
        "data = {'Name': ['Zara', 'Lala', 'Lili'], 'Age': [20, 21, 22], 'Class': ['BigData1', 'BigData2', 'BigData3']}\n",
        "df = pd.DataFrame(data)\n",
        "df.head()"
      ],
      "metadata": {
        "colab": {
          "base_uri": "https://localhost:8080/",
          "height": 143
        },
        "id": "zf2mw9U3SJ8e",
        "outputId": "b78a7891-1e8e-4362-de8a-1a4030a8fb72"
      },
      "execution_count": 35,
      "outputs": [
        {
          "output_type": "execute_result",
          "data": {
            "text/plain": [
              "   Name  Age     Class\n",
              "0  Zara   20  BigData1\n",
              "1  Lala   21  BigData2\n",
              "2  Lili   22  BigData3"
            ],
            "text/html": [
              "\n",
              "  <div id=\"df-940f69da-1b8e-4249-9d77-42aab7ee5b7d\" class=\"colab-df-container\">\n",
              "    <div>\n",
              "<style scoped>\n",
              "    .dataframe tbody tr th:only-of-type {\n",
              "        vertical-align: middle;\n",
              "    }\n",
              "\n",
              "    .dataframe tbody tr th {\n",
              "        vertical-align: top;\n",
              "    }\n",
              "\n",
              "    .dataframe thead th {\n",
              "        text-align: right;\n",
              "    }\n",
              "</style>\n",
              "<table border=\"1\" class=\"dataframe\">\n",
              "  <thead>\n",
              "    <tr style=\"text-align: right;\">\n",
              "      <th></th>\n",
              "      <th>Name</th>\n",
              "      <th>Age</th>\n",
              "      <th>Class</th>\n",
              "    </tr>\n",
              "  </thead>\n",
              "  <tbody>\n",
              "    <tr>\n",
              "      <th>0</th>\n",
              "      <td>Zara</td>\n",
              "      <td>20</td>\n",
              "      <td>BigData1</td>\n",
              "    </tr>\n",
              "    <tr>\n",
              "      <th>1</th>\n",
              "      <td>Lala</td>\n",
              "      <td>21</td>\n",
              "      <td>BigData2</td>\n",
              "    </tr>\n",
              "    <tr>\n",
              "      <th>2</th>\n",
              "      <td>Lili</td>\n",
              "      <td>22</td>\n",
              "      <td>BigData3</td>\n",
              "    </tr>\n",
              "  </tbody>\n",
              "</table>\n",
              "</div>\n",
              "    <div class=\"colab-df-buttons\">\n",
              "\n",
              "  <div class=\"colab-df-container\">\n",
              "    <button class=\"colab-df-convert\" onclick=\"convertToInteractive('df-940f69da-1b8e-4249-9d77-42aab7ee5b7d')\"\n",
              "            title=\"Convert this dataframe to an interactive table.\"\n",
              "            style=\"display:none;\">\n",
              "\n",
              "  <svg xmlns=\"http://www.w3.org/2000/svg\" height=\"24px\" viewBox=\"0 -960 960 960\">\n",
              "    <path d=\"M120-120v-720h720v720H120Zm60-500h600v-160H180v160Zm220 220h160v-160H400v160Zm0 220h160v-160H400v160ZM180-400h160v-160H180v160Zm440 0h160v-160H620v160ZM180-180h160v-160H180v160Zm440 0h160v-160H620v160Z\"/>\n",
              "  </svg>\n",
              "    </button>\n",
              "\n",
              "  <style>\n",
              "    .colab-df-container {\n",
              "      display:flex;\n",
              "      gap: 12px;\n",
              "    }\n",
              "\n",
              "    .colab-df-convert {\n",
              "      background-color: #E8F0FE;\n",
              "      border: none;\n",
              "      border-radius: 50%;\n",
              "      cursor: pointer;\n",
              "      display: none;\n",
              "      fill: #1967D2;\n",
              "      height: 32px;\n",
              "      padding: 0 0 0 0;\n",
              "      width: 32px;\n",
              "    }\n",
              "\n",
              "    .colab-df-convert:hover {\n",
              "      background-color: #E2EBFA;\n",
              "      box-shadow: 0px 1px 2px rgba(60, 64, 67, 0.3), 0px 1px 3px 1px rgba(60, 64, 67, 0.15);\n",
              "      fill: #174EA6;\n",
              "    }\n",
              "\n",
              "    .colab-df-buttons div {\n",
              "      margin-bottom: 4px;\n",
              "    }\n",
              "\n",
              "    [theme=dark] .colab-df-convert {\n",
              "      background-color: #3B4455;\n",
              "      fill: #D2E3FC;\n",
              "    }\n",
              "\n",
              "    [theme=dark] .colab-df-convert:hover {\n",
              "      background-color: #434B5C;\n",
              "      box-shadow: 0px 1px 3px 1px rgba(0, 0, 0, 0.15);\n",
              "      filter: drop-shadow(0px 1px 2px rgba(0, 0, 0, 0.3));\n",
              "      fill: #FFFFFF;\n",
              "    }\n",
              "  </style>\n",
              "\n",
              "    <script>\n",
              "      const buttonEl =\n",
              "        document.querySelector('#df-940f69da-1b8e-4249-9d77-42aab7ee5b7d button.colab-df-convert');\n",
              "      buttonEl.style.display =\n",
              "        google.colab.kernel.accessAllowed ? 'block' : 'none';\n",
              "\n",
              "      async function convertToInteractive(key) {\n",
              "        const element = document.querySelector('#df-940f69da-1b8e-4249-9d77-42aab7ee5b7d');\n",
              "        const dataTable =\n",
              "          await google.colab.kernel.invokeFunction('convertToInteractive',\n",
              "                                                    [key], {});\n",
              "        if (!dataTable) return;\n",
              "\n",
              "        const docLinkHtml = 'Like what you see? Visit the ' +\n",
              "          '<a target=\"_blank\" href=https://colab.research.google.com/notebooks/data_table.ipynb>data table notebook</a>'\n",
              "          + ' to learn more about interactive tables.';\n",
              "        element.innerHTML = '';\n",
              "        dataTable['output_type'] = 'display_data';\n",
              "        await google.colab.output.renderOutput(dataTable, element);\n",
              "        const docLink = document.createElement('div');\n",
              "        docLink.innerHTML = docLinkHtml;\n",
              "        element.appendChild(docLink);\n",
              "      }\n",
              "    </script>\n",
              "  </div>\n",
              "\n",
              "\n",
              "<div id=\"df-800b5aff-1678-4e05-b440-737c3d8db249\">\n",
              "  <button class=\"colab-df-quickchart\" onclick=\"quickchart('df-800b5aff-1678-4e05-b440-737c3d8db249')\"\n",
              "            title=\"Suggest charts\"\n",
              "            style=\"display:none;\">\n",
              "\n",
              "<svg xmlns=\"http://www.w3.org/2000/svg\" height=\"24px\"viewBox=\"0 0 24 24\"\n",
              "     width=\"24px\">\n",
              "    <g>\n",
              "        <path d=\"M19 3H5c-1.1 0-2 .9-2 2v14c0 1.1.9 2 2 2h14c1.1 0 2-.9 2-2V5c0-1.1-.9-2-2-2zM9 17H7v-7h2v7zm4 0h-2V7h2v10zm4 0h-2v-4h2v4z\"/>\n",
              "    </g>\n",
              "</svg>\n",
              "  </button>\n",
              "\n",
              "<style>\n",
              "  .colab-df-quickchart {\n",
              "      --bg-color: #E8F0FE;\n",
              "      --fill-color: #1967D2;\n",
              "      --hover-bg-color: #E2EBFA;\n",
              "      --hover-fill-color: #174EA6;\n",
              "      --disabled-fill-color: #AAA;\n",
              "      --disabled-bg-color: #DDD;\n",
              "  }\n",
              "\n",
              "  [theme=dark] .colab-df-quickchart {\n",
              "      --bg-color: #3B4455;\n",
              "      --fill-color: #D2E3FC;\n",
              "      --hover-bg-color: #434B5C;\n",
              "      --hover-fill-color: #FFFFFF;\n",
              "      --disabled-bg-color: #3B4455;\n",
              "      --disabled-fill-color: #666;\n",
              "  }\n",
              "\n",
              "  .colab-df-quickchart {\n",
              "    background-color: var(--bg-color);\n",
              "    border: none;\n",
              "    border-radius: 50%;\n",
              "    cursor: pointer;\n",
              "    display: none;\n",
              "    fill: var(--fill-color);\n",
              "    height: 32px;\n",
              "    padding: 0;\n",
              "    width: 32px;\n",
              "  }\n",
              "\n",
              "  .colab-df-quickchart:hover {\n",
              "    background-color: var(--hover-bg-color);\n",
              "    box-shadow: 0 1px 2px rgba(60, 64, 67, 0.3), 0 1px 3px 1px rgba(60, 64, 67, 0.15);\n",
              "    fill: var(--button-hover-fill-color);\n",
              "  }\n",
              "\n",
              "  .colab-df-quickchart-complete:disabled,\n",
              "  .colab-df-quickchart-complete:disabled:hover {\n",
              "    background-color: var(--disabled-bg-color);\n",
              "    fill: var(--disabled-fill-color);\n",
              "    box-shadow: none;\n",
              "  }\n",
              "\n",
              "  .colab-df-spinner {\n",
              "    border: 2px solid var(--fill-color);\n",
              "    border-color: transparent;\n",
              "    border-bottom-color: var(--fill-color);\n",
              "    animation:\n",
              "      spin 1s steps(1) infinite;\n",
              "  }\n",
              "\n",
              "  @keyframes spin {\n",
              "    0% {\n",
              "      border-color: transparent;\n",
              "      border-bottom-color: var(--fill-color);\n",
              "      border-left-color: var(--fill-color);\n",
              "    }\n",
              "    20% {\n",
              "      border-color: transparent;\n",
              "      border-left-color: var(--fill-color);\n",
              "      border-top-color: var(--fill-color);\n",
              "    }\n",
              "    30% {\n",
              "      border-color: transparent;\n",
              "      border-left-color: var(--fill-color);\n",
              "      border-top-color: var(--fill-color);\n",
              "      border-right-color: var(--fill-color);\n",
              "    }\n",
              "    40% {\n",
              "      border-color: transparent;\n",
              "      border-right-color: var(--fill-color);\n",
              "      border-top-color: var(--fill-color);\n",
              "    }\n",
              "    60% {\n",
              "      border-color: transparent;\n",
              "      border-right-color: var(--fill-color);\n",
              "    }\n",
              "    80% {\n",
              "      border-color: transparent;\n",
              "      border-right-color: var(--fill-color);\n",
              "      border-bottom-color: var(--fill-color);\n",
              "    }\n",
              "    90% {\n",
              "      border-color: transparent;\n",
              "      border-bottom-color: var(--fill-color);\n",
              "    }\n",
              "  }\n",
              "</style>\n",
              "\n",
              "  <script>\n",
              "    async function quickchart(key) {\n",
              "      const quickchartButtonEl =\n",
              "        document.querySelector('#' + key + ' button');\n",
              "      quickchartButtonEl.disabled = true;  // To prevent multiple clicks.\n",
              "      quickchartButtonEl.classList.add('colab-df-spinner');\n",
              "      try {\n",
              "        const charts = await google.colab.kernel.invokeFunction(\n",
              "            'suggestCharts', [key], {});\n",
              "      } catch (error) {\n",
              "        console.error('Error during call to suggestCharts:', error);\n",
              "      }\n",
              "      quickchartButtonEl.classList.remove('colab-df-spinner');\n",
              "      quickchartButtonEl.classList.add('colab-df-quickchart-complete');\n",
              "    }\n",
              "    (() => {\n",
              "      let quickchartButtonEl =\n",
              "        document.querySelector('#df-800b5aff-1678-4e05-b440-737c3d8db249 button');\n",
              "      quickchartButtonEl.style.display =\n",
              "        google.colab.kernel.accessAllowed ? 'block' : 'none';\n",
              "    })();\n",
              "  </script>\n",
              "</div>\n",
              "\n",
              "    </div>\n",
              "  </div>\n"
            ],
            "application/vnd.google.colaboratory.intrinsic+json": {
              "type": "dataframe",
              "variable_name": "df",
              "summary": "{\n  \"name\": \"df\",\n  \"rows\": 3,\n  \"fields\": [\n    {\n      \"column\": \"Name\",\n      \"properties\": {\n        \"dtype\": \"string\",\n        \"num_unique_values\": 3,\n        \"samples\": [\n          \"Zara\",\n          \"Lala\",\n          \"Lili\"\n        ],\n        \"semantic_type\": \"\",\n        \"description\": \"\"\n      }\n    },\n    {\n      \"column\": \"Age\",\n      \"properties\": {\n        \"dtype\": \"number\",\n        \"std\": 1,\n        \"min\": 20,\n        \"max\": 22,\n        \"num_unique_values\": 3,\n        \"samples\": [\n          20,\n          21,\n          22\n        ],\n        \"semantic_type\": \"\",\n        \"description\": \"\"\n      }\n    },\n    {\n      \"column\": \"Class\",\n      \"properties\": {\n        \"dtype\": \"string\",\n        \"num_unique_values\": 3,\n        \"samples\": [\n          \"BigData1\",\n          \"BigData2\",\n          \"BigData3\"\n        ],\n        \"semantic_type\": \"\",\n        \"description\": \"\"\n      }\n    }\n  ]\n}"
            }
          },
          "metadata": {},
          "execution_count": 35
        }
      ]
    },
    {
      "cell_type": "markdown",
      "source": [
        "# Penugasan"
      ],
      "metadata": {
        "id": "raJfjhpNPHTI"
      }
    },
    {
      "cell_type": "code",
      "source": [
        "#1 (Tambahkan kode)\n",
        "list_genap = [i for i in range(1, 101) if i % 2 == 0]\n",
        "# Tampilkan List\n",
        "print(list_genap)"
      ],
      "metadata": {
        "colab": {
          "base_uri": "https://localhost:8080/"
        },
        "id": "E9sttORSODBC",
        "outputId": "2d1ab8aa-7989-4e50-be0e-14565e2909f5"
      },
      "execution_count": 36,
      "outputs": [
        {
          "output_type": "stream",
          "name": "stdout",
          "text": [
            "[2, 4, 6, 8, 10, 12, 14, 16, 18, 20, 22, 24, 26, 28, 30, 32, 34, 36, 38, 40, 42, 44, 46, 48, 50, 52, 54, 56, 58, 60, 62, 64, 66, 68, 70, 72, 74, 76, 78, 80, 82, 84, 86, 88, 90, 92, 94, 96, 98, 100]\n"
          ]
        }
      ]
    },
    {
      "cell_type": "code",
      "source": [
        "#2 (Tambahkan kode)\n",
        "tuple_genap = tuple(list_genap)\n",
        "# Tampilkan tuple\n",
        "print(tuple_genap)"
      ],
      "metadata": {
        "colab": {
          "base_uri": "https://localhost:8080/"
        },
        "id": "ql3vr8BSODvP",
        "outputId": "042bc803-e241-4032-d95a-9cf3fa2d908e"
      },
      "execution_count": 37,
      "outputs": [
        {
          "output_type": "stream",
          "name": "stdout",
          "text": [
            "(2, 4, 6, 8, 10, 12, 14, 16, 18, 20, 22, 24, 26, 28, 30, 32, 34, 36, 38, 40, 42, 44, 46, 48, 50, 52, 54, 56, 58, 60, 62, 64, 66, 68, 70, 72, 74, 76, 78, 80, 82, 84, 86, 88, 90, 92, 94, 96, 98, 100)\n"
          ]
        }
      ]
    },
    {
      "cell_type": "code",
      "source": [
        "#3\n",
        "dict_anggota = { 'Pierro': 'The Jester', 'Dottore': 'Balladeer', 'Columbina': 'Damselette', 'Capitano': 'Rooster'}\n",
        "print('Original:')\n",
        "print(dict_anggota)\n",
        "\n",
        "#Jawab :\n",
        "dict_anggota.update({'Dottore': 'Doctor', 'Capitano': 'Captain'})\n",
        "\n",
        "# Hasil :\n",
        "print('\\nAfter update:')\n",
        "print(dict_anggota)"
      ],
      "metadata": {
        "colab": {
          "base_uri": "https://localhost:8080/"
        },
        "id": "YKg8j7QXOFcy",
        "outputId": "2dc33e00-92ee-4ea7-ab17-512368b0a2b5"
      },
      "execution_count": 38,
      "outputs": [
        {
          "output_type": "stream",
          "name": "stdout",
          "text": [
            "Original:\n",
            "{'Pierro': 'The Jester', 'Dottore': 'Balladeer', 'Columbina': 'Damselette', 'Capitano': 'Rooster'}\n",
            "\n",
            "After update:\n",
            "{'Pierro': 'The Jester', 'Dottore': 'Doctor', 'Columbina': 'Damselette', 'Capitano': 'Captain'}\n"
          ]
        }
      ]
    },
    {
      "cell_type": "code",
      "source": [
        "#4\n",
        "student = [\"Farid\", \"Rizky\", \"Anna\", \"Dani\", \"Juna\", \"Bayu\", \"Gilang\"]\n",
        "classroom = [\"A\",\"A\",\"B\",\"A\",\"B\",\"B\",\"B\"]\n",
        "age = [15,15,16,17,15,18,16]\n",
        "score = [80,82,95,72,67,98,85]\n",
        "student_data = {\n",
        "    'student': student,\n",
        "    'class': classroom,\n",
        "    'age': age,\n",
        "    'score': score\n",
        "}\n",
        "print(student_data)"
      ],
      "metadata": {
        "colab": {
          "base_uri": "https://localhost:8080/"
        },
        "id": "Ynh3Pj2GOHT9",
        "outputId": "e6b005a0-4247-4eb0-b9db-cc1a0afe09aa"
      },
      "execution_count": 39,
      "outputs": [
        {
          "output_type": "stream",
          "name": "stdout",
          "text": [
            "{'student': ['Farid', 'Rizky', 'Anna', 'Dani', 'Juna', 'Bayu', 'Gilang'], 'class': ['A', 'A', 'B', 'A', 'B', 'B', 'B'], 'age': [15, 15, 16, 17, 15, 18, 16], 'score': [80, 82, 95, 72, 67, 98, 85]}\n"
          ]
        }
      ]
    },
    {
      "cell_type": "code",
      "source": [
        "#5\n",
        "data = [\n",
        "    [\"Farid\", \"A\", 15, 80],\n",
        "    [\"Rizky\", \"A\", 15, 82],\n",
        "    [\"Anna\", \"B\", 16, 95],\n",
        "    [\"Dani\", \"A\", 17, 72],\n",
        "    [\"Juna\", \"B\", 15, 67],\n",
        "    [\"Bayu\", \"B\", 18, 98],\n",
        "    [\"Gilang\", \"B\", 16, 85]\n",
        "]\n",
        "\n",
        "df_students = pd.DataFrame(data, columns=[\"Student\", \"Class\", \"Age\", \"Score\"])\n",
        "print(df_students)"
      ],
      "metadata": {
        "colab": {
          "base_uri": "https://localhost:8080/"
        },
        "id": "8bAAUaP_OInu",
        "outputId": "79f6e029-1e8d-40bd-d2aa-bd0593416ce2"
      },
      "execution_count": 40,
      "outputs": [
        {
          "output_type": "stream",
          "name": "stdout",
          "text": [
            "  Student Class  Age  Score\n",
            "0   Farid     A   15     80\n",
            "1   Rizky     A   15     82\n",
            "2    Anna     B   16     95\n",
            "3    Dani     A   17     72\n",
            "4    Juna     B   15     67\n",
            "5    Bayu     B   18     98\n",
            "6  Gilang     B   16     85\n"
          ]
        }
      ]
    },
    {
      "cell_type": "code",
      "source": [
        "#6\n",
        "# Membaca dataset\n",
        "df = pd.read_csv('/content/garments_worker_productivity.csv')\n",
        "\n",
        "# Filter dataframe berdasarkan actual_productivity >= 0.90\n",
        "df_baru = df.loc[df['actual_productivity'] >= 0.90]\n",
        "\n",
        "# Tampilkan 5 baris pertama dari df_baru\n",
        "print(df_baru.head())"
      ],
      "metadata": {
        "colab": {
          "base_uri": "https://localhost:8080/"
        },
        "id": "EAsHA2-vOKBC",
        "outputId": "41f7743f-eb11-4452-e82b-b8e59f7e38c8"
      },
      "execution_count": 41,
      "outputs": [
        {
          "output_type": "stream",
          "name": "stdout",
          "text": [
            "        date   quarter  department       day  team  targeted_productivity  \\\n",
            "0   1/1/2015  Quarter1      sweing  Thursday     8                   0.80   \n",
            "19  1/3/2015  Quarter1  finishing   Saturday     4                   0.80   \n",
            "20  1/3/2015  Quarter1  finishing   Saturday    11                   0.75   \n",
            "21  1/3/2015  Quarter1  finishing   Saturday     9                   0.80   \n",
            "22  1/3/2015  Quarter1  finishing   Saturday     3                   0.75   \n",
            "\n",
            "      smv     wip  over_time  incentive  idle_time  idle_men  \\\n",
            "0   26.16  1108.0       7080         98        0.0         0   \n",
            "19   4.15     NaN       6600          0        0.0         0   \n",
            "20   2.90     NaN       5640          0        0.0         0   \n",
            "21   4.15     NaN        960          0        0.0         0   \n",
            "22   3.94     NaN       1560          0        0.0         0   \n",
            "\n",
            "    no_of_style_change  no_of_workers  actual_productivity  \n",
            "0                    0           59.0             0.940725  \n",
            "19                   0           20.0             0.988025  \n",
            "20                   0           17.0             0.987880  \n",
            "21                   0            8.0             0.956271  \n",
            "22                   0            8.0             0.945278  \n"
          ]
        }
      ]
    }
  ]
}