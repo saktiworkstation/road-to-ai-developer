{
  "nbformat": 4,
  "nbformat_minor": 0,
  "metadata": {
    "colab": {
      "provenance": [],
      "authorship_tag": "ABX9TyNJXZs0J7mCDi3ADUkD2AFG",
      "include_colab_link": true
    },
    "kernelspec": {
      "name": "python3",
      "display_name": "Python 3"
    },
    "language_info": {
      "name": "python"
    }
  },
  "cells": [
    {
      "cell_type": "markdown",
      "metadata": {
        "id": "view-in-github",
        "colab_type": "text"
      },
      "source": [
        "<a href=\"https://colab.research.google.com/github/saktiworkstation/road-to-ai-developer/blob/main/22_11_4677_Sakti_Linear_Regressii.ipynb\" target=\"_parent\"><img src=\"https://colab.research.google.com/assets/colab-badge.svg\" alt=\"Open In Colab\"/></a>"
      ]
    },
    {
      "cell_type": "markdown",
      "source": [
        "# SAKTI KUSUMA AJI | 22.11.4677"
      ],
      "metadata": {
        "id": "R2hp_covxVWr"
      }
    },
    {
      "cell_type": "code",
      "execution_count": 1,
      "metadata": {
        "id": "h3-KMsCjhzLZ"
      },
      "outputs": [],
      "source": [
        "from pyspark.sql import SparkSession\n",
        "from pyspark.ml.regression import LinearRegression\n",
        "from pyspark.ml.evaluation import RegressionEvaluator\n",
        "from pyspark.ml.feature import VectorAssembler\n",
        "import matplotlib.pyplot as plt"
      ]
    },
    {
      "cell_type": "code",
      "source": [
        "# Buat Spark session\n",
        "spark = SparkSession.builder.appName(\"Linear Regression Studi Kasus\").getOrCreate()"
      ],
      "metadata": {
        "id": "SL8zy0w_pqWm"
      },
      "execution_count": 2,
      "outputs": []
    },
    {
      "cell_type": "code",
      "source": [
        "# Load dataset dalam format libsvm\n",
        "data = spark.read.format(\"libsvm\").load(\"/content/sample_dataset_lr.txt\")"
      ],
      "metadata": {
        "id": "7FLyKArapr6E"
      },
      "execution_count": 4,
      "outputs": []
    },
    {
      "cell_type": "markdown",
      "source": [
        "# Eksplorasi Data"
      ],
      "metadata": {
        "id": "2AP5StA9p3dh"
      }
    },
    {
      "cell_type": "code",
      "source": [
        "# Tampilkan 5 baris pertama dataset\n",
        "data.show(5)"
      ],
      "metadata": {
        "colab": {
          "base_uri": "https://localhost:8080/"
        },
        "id": "XY4aOiiRp4VU",
        "outputId": "fa17b1bb-fb17-4a4c-f67b-bbe495c6a95d"
      },
      "execution_count": 5,
      "outputs": [
        {
          "output_type": "stream",
          "name": "stdout",
          "text": [
            "+-------------------+--------------------+\n",
            "|              label|            features|\n",
            "+-------------------+--------------------+\n",
            "| -9.490009878824548|(10,[0,1,2,3,4,5,...|\n",
            "| 0.2577820163584905|(10,[0,1,2,3,4,5,...|\n",
            "| -4.438869807456516|(10,[0,1,2,3,4,5,...|\n",
            "|-19.782762789614537|(10,[0,1,2,3,4,5,...|\n",
            "| -7.966593841555266|(10,[0,1,2,3,4,5,...|\n",
            "+-------------------+--------------------+\n",
            "only showing top 5 rows\n",
            "\n"
          ]
        }
      ]
    },
    {
      "cell_type": "markdown",
      "source": [
        "# Membangun Model Regresi Linier"
      ],
      "metadata": {
        "id": "IgVdCoaWqE9E"
      }
    },
    {
      "cell_type": "code",
      "source": [
        "# Menggunakan VectorAssembler untuk menggabungkan fitur ke dalam satu kolom\n",
        "assembler = VectorAssembler(inputCols=[\"features\"], outputCol=\"features_vec\")\n",
        "data = assembler.transform(data)"
      ],
      "metadata": {
        "id": "GKtkK2oGqGsa"
      },
      "execution_count": 7,
      "outputs": []
    },
    {
      "cell_type": "code",
      "source": [
        "# Membagi dataset menjadi 80% data pelatihan dan 20% data pengujian\n",
        "train_data, test_data = data.randomSplit([0.8, 0.2], seed=42)"
      ],
      "metadata": {
        "id": "0VtY_kCiqo2x"
      },
      "execution_count": 8,
      "outputs": []
    },
    {
      "cell_type": "code",
      "source": [
        "# Membuat model regresi linier dengan parameter yang ditentukan\n",
        "lr = LinearRegression(featuresCol=\"features_vec\", labelCol=\"label\", maxIter=10, regParam=0.3, elasticNetParam=0.8)"
      ],
      "metadata": {
        "id": "i--SL6G-qs8E"
      },
      "execution_count": 9,
      "outputs": []
    },
    {
      "cell_type": "code",
      "source": [
        "# Melatih model pada data pelatihan\n",
        "lr_model = lr.fit(train_data)"
      ],
      "metadata": {
        "id": "Ld4U7FQwquqq"
      },
      "execution_count": 10,
      "outputs": []
    },
    {
      "cell_type": "markdown",
      "source": [
        "# Evaluasi Model"
      ],
      "metadata": {
        "id": "tlXT8I9mqvy6"
      }
    },
    {
      "cell_type": "code",
      "source": [
        "# Menggunakan model untuk memprediksi nilai pada data pelatihan dan pengujian\n",
        "train_predictions = lr_model.transform(train_data)\n",
        "test_predictions = lr_model.transform(test_data)"
      ],
      "metadata": {
        "id": "elnOhdyIqxQn"
      },
      "execution_count": 11,
      "outputs": []
    },
    {
      "cell_type": "code",
      "source": [
        "# Evaluator untuk menghitung RMSE dan R2\n",
        "evaluator = RegressionEvaluator(labelCol=\"label\", predictionCol=\"prediction\", metricName=\"rmse\")\n",
        "rmse_train = evaluator.evaluate(train_predictions)\n",
        "rmse_test = evaluator.evaluate(test_predictions)"
      ],
      "metadata": {
        "id": "0QTei-uuq07Z"
      },
      "execution_count": 12,
      "outputs": []
    },
    {
      "cell_type": "code",
      "source": [
        "r2_evaluator = RegressionEvaluator(labelCol=\"label\", predictionCol=\"prediction\", metricName=\"r2\")\n",
        "r2_train = r2_evaluator.evaluate(train_predictions)\n",
        "r2_test = r2_evaluator.evaluate(test_predictions)"
      ],
      "metadata": {
        "id": "7A2GpzBQq4Tx"
      },
      "execution_count": 13,
      "outputs": []
    },
    {
      "cell_type": "code",
      "source": [
        "print(f\"RMSE pada data pelatihan: {rmse_train}\")\n",
        "print(f\"R2 pada data pelatihan: {r2_train}\")\n",
        "print(f\"RMSE pada data pengujian: {rmse_test}\")\n",
        "print(f\"R2 pada data pengujian: {r2_test}\")"
      ],
      "metadata": {
        "colab": {
          "base_uri": "https://localhost:8080/"
        },
        "id": "NGAHsugBq6Qi",
        "outputId": "0647bf28-46fb-41ff-e622-7cb559790259"
      },
      "execution_count": 14,
      "outputs": [
        {
          "output_type": "stream",
          "name": "stdout",
          "text": [
            "RMSE pada data pelatihan: 9.876858903901951\n",
            "R2 pada data pelatihan: 0.04937778051891839\n",
            "RMSE pada data pengujian: 11.7595272211461\n",
            "R2 pada data pengujian: -0.09263952849152424\n"
          ]
        }
      ]
    },
    {
      "cell_type": "code",
      "source": [
        "# Menampilkan koefisien dan intercept dari model\n",
        "print(f\"Koefisien: {lr_model.coefficients}\")\n",
        "print(f\"Intercept: {lr_model.intercept}\")"
      ],
      "metadata": {
        "colab": {
          "base_uri": "https://localhost:8080/"
        },
        "id": "sEox9sVbq8IG",
        "outputId": "884793bf-f5ea-40c8-de96-f2dd23ef9ec7"
      },
      "execution_count": 15,
      "outputs": [
        {
          "output_type": "stream",
          "name": "stdout",
          "text": [
            "Koefisien: [0.0,1.029957513871163,-1.1840505799268486,2.2534408792539327,0.44752109430925296,1.354219890929489,0.0,-0.4239968612960364,0.0,0.7338404859230598]\n",
            "Intercept: 0.2638047645380358\n"
          ]
        }
      ]
    },
    {
      "cell_type": "markdown",
      "source": [
        "# Visualisasi"
      ],
      "metadata": {
        "id": "ROH_Scnvq-YJ"
      }
    },
    {
      "cell_type": "code",
      "source": [
        "# Membuat scatter plot untuk membandingkan nilai prediksi dengan nilai aktual pada data pengujian\n",
        "predicted_vs_actual = test_predictions.select(\"prediction\", \"label\").toPandas()\n",
        "plt.scatter(predicted_vs_actual[\"label\"], predicted_vs_actual[\"prediction\"], alpha=0.5)\n",
        "plt.xlabel(\"Nilai Aktual\")\n",
        "plt.ylabel(\"Nilai Prediksi\")\n",
        "plt.title(\"Scatter Plot Nilai Prediksi vs Nilai Aktual\")\n",
        "plt.show()"
      ],
      "metadata": {
        "colab": {
          "base_uri": "https://localhost:8080/",
          "height": 472
        },
        "id": "6Wm_yAQqq_9A",
        "outputId": "74ec20fb-c6d6-4415-e58e-83f7698963d8"
      },
      "execution_count": 16,
      "outputs": [
        {
          "output_type": "display_data",
          "data": {
            "text/plain": [
              "<Figure size 640x480 with 1 Axes>"
            ],
            "image/png": "[encoded data removed]"
          },
          "metadata": {}
        }
      ]
    },
    {
      "cell_type": "markdown",
      "source": [
        "# Interpretasi\n",
        "- Fitur dengan korelasi tertinggi terhadap label akan memberikan pengaruh terbesar pada model.\n",
        "- Korelasi positif menunjukkan bahwa kenaikan nilai fitur akan meningkatkan nilai target, dan korelasi negatif menunjukkan sebaliknya.\n",
        "- Model ini mungkin cocok untuk dataset ini jika nilai R2 cukup tinggi, yang menunjukkan bahwa model dapat menjelaskan variasi dalam data."
      ],
      "metadata": {
        "id": "2pifjspPrEWU"
      }
    },
    {
      "cell_type": "markdown",
      "source": [
        "# Try Imprvement"
      ],
      "metadata": {
        "id": "M2A9hsWVtX2T"
      }
    },
    {
      "cell_type": "code",
      "source": [
        "from pyspark.ml.feature import StandardScaler, VectorAssembler\n",
        "from pyspark.ml.regression import GBTRegressor\n",
        "from pyspark.ml.evaluation import RegressionEvaluator\n",
        "import matplotlib.pyplot as plt\n",
        "from pyspark.sql.functions import udf"
      ],
      "metadata": {
        "id": "o0SgQdjstaZD"
      },
      "execution_count": 21,
      "outputs": []
    },
    {
      "cell_type": "code",
      "source": [
        "# Standardisasi fitur\n",
        "scaler = StandardScaler(inputCol=\"features\", outputCol=\"scaled_features\")\n",
        "scaler_model = scaler.fit(data)\n",
        "data = scaler_model.transform(data)"
      ],
      "metadata": {
        "id": "Gp6Sf65DthV2"
      },
      "execution_count": 25,
      "outputs": []
    },
    {
      "cell_type": "code",
      "source": [
        "# Membagi dataset menjadi data pelatihan dan pengujian\n",
        "train_data, test_data = data.randomSplit([0.8, 0.2], seed=42)"
      ],
      "metadata": {
        "id": "3G7H71xtukyX"
      },
      "execution_count": 32,
      "outputs": []
    },
    {
      "cell_type": "code",
      "source": [
        "# Model Gradient Boosted Tree\n",
        "gbt = GBTRegressor(featuresCol=\"scaled_features\", labelCol=\"label\", maxIter=100, maxDepth=5)\n",
        "gbt_model = gbt.fit(train_data)"
      ],
      "metadata": {
        "id": "4J1BbCQKunUH"
      },
      "execution_count": 33,
      "outputs": []
    },
    {
      "cell_type": "code",
      "source": [
        "# Evaluasi model\n",
        "train_predictions = gbt_model.transform(train_data)\n",
        "test_predictions = gbt_model.transform(test_data)"
      ],
      "metadata": {
        "id": "sDz_FHBuuphl"
      },
      "execution_count": 34,
      "outputs": []
    },
    {
      "cell_type": "code",
      "source": [
        "evaluator = RegressionEvaluator(labelCol=\"label\", predictionCol=\"prediction\")\n",
        "rmse_test = evaluator.evaluate(test_predictions, {evaluator.metricName: \"rmse\"})\n",
        "r2_test = evaluator.evaluate(test_predictions, {evaluator.metricName: \"r2\"})"
      ],
      "metadata": {
        "id": "2UPU80LaurZu"
      },
      "execution_count": 35,
      "outputs": []
    },
    {
      "cell_type": "code",
      "source": [
        "print(f\"RMSE pada data pengujian: {rmse_test}\")\n",
        "print(f\"R2 pada data pengujian: {r2_test}\")"
      ],
      "metadata": {
        "colab": {
          "base_uri": "https://localhost:8080/"
        },
        "id": "PSkLwvP_utc-",
        "outputId": "4524047d-56cb-4dbe-a0b2-8f04dc55e4a5"
      },
      "execution_count": 36,
      "outputs": [
        {
          "output_type": "stream",
          "name": "stdout",
          "text": [
            "RMSE pada data pengujian: 12.697752997458402\n",
            "R2 pada data pengujian: -0.2739457488141426\n"
          ]
        }
      ]
    },
    {
      "cell_type": "code",
      "source": [
        "# Visualisasi prediksi vs aktual\n",
        "predicted_vs_actual = test_predictions.select(\"prediction\", \"label\").toPandas()\n",
        "plt.figure(figsize=(8, 6))\n",
        "plt.scatter(predicted_vs_actual[\"label\"], predicted_vs_actual[\"prediction\"], alpha=0.5)\n",
        "plt.plot([predicted_vs_actual[\"label\"].min(), predicted_vs_actual[\"label\"].max()],\n",
        "         [predicted_vs_actual[\"label\"].min(), predicted_vs_actual[\"label\"].max()],\n",
        "         color=\"red\", linestyle=\"--\", linewidth=2)\n",
        "plt.xlabel(\"Nilai Aktual\")\n",
        "plt.ylabel(\"Nilai Prediksi\")\n",
        "plt.title(\"Prediksi vs Nilai Aktual dengan GBT\")\n",
        "plt.grid()\n",
        "plt.show()"
      ],
      "metadata": {
        "colab": {
          "base_uri": "https://localhost:8080/",
          "height": 564
        },
        "id": "XWBBMd0buvTC",
        "outputId": "5ff31a3a-e914-4b6c-d327-f18bf6620da8"
      },
      "execution_count": 37,
      "outputs": [
        {
          "output_type": "display_data",
          "data": {
            "text/plain": [
              "<Figure size 800x600 with 1 Axes>"
            ],
            "image/png": "[encoded data removed]"
          },
          "metadata": {}
        }
      ]
    }
  ]
}