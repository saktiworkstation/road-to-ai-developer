{
  "nbformat": 4,
  "nbformat_minor": 0,
  "metadata": {
    "colab": {
      "provenance": [],
      "authorship_tag": "ABX9TyPU00QUU5Jar2tUXsWlbtYL",
      "include_colab_link": true
    },
    "kernelspec": {
      "name": "python3",
      "display_name": "Python 3"
    },
    "language_info": {
      "name": "python"
    }
  },
  "cells": [
    {
      "cell_type": "markdown",
      "metadata": {
        "id": "view-in-github",
        "colab_type": "text"
      },
      "source": [
        "<a href=\"https://colab.research.google.com/github/saktiworkstation/road-to-ai-developer/blob/main/coba_1_CIFAR_10_dan_CIFAR_100.ipynb\" target=\"_parent\"><img src=\"https://colab.research.google.com/assets/colab-badge.svg\" alt=\"Open In Colab\"/></a>"
      ]
    },
    {
      "cell_type": "code",
      "execution_count": 2,
      "metadata": {
        "id": "IJphpTsC7KKA"
      },
      "outputs": [],
      "source": [
        "import tensorflow as tf\n",
        "from tensorflow.keras import layers, models, optimizers, regularizers\n",
        "from tensorflow.keras.preprocessing.image import ImageDataGenerator\n",
        "import matplotlib.pyplot as plt\n",
        "import numpy as np"
      ]
    },
    {
      "cell_type": "code",
      "source": [
        "# Setting random seed for reproducibility\n",
        "tf.random.set_seed(42)"
      ],
      "metadata": {
        "id": "aUfog3QCij47"
      },
      "execution_count": 3,
      "outputs": []
    },
    {
      "cell_type": "code",
      "source": [
        "# Loading the CIFAR-10 dataset\n",
        "(x_train_10, y_train_10), (x_test_10, y_test_10) = tf.keras.datasets.cifar10.load_data()"
      ],
      "metadata": {
        "colab": {
          "base_uri": "https://localhost:8080/"
        },
        "id": "MaydxRdail84",
        "outputId": "516cbcf7-b3de-49bb-f263-b6d5ecba7ff9"
      },
      "execution_count": 4,
      "outputs": [
        {
          "output_type": "stream",
          "name": "stdout",
          "text": [
            "Downloading data from https://www.cs.toronto.edu/~kriz/cifar-10-python.tar.gz\n",
            "\u001b[1m170498071/170498071\u001b[0m \u001b[32m━━━━━━━━━━━━━━━━━━━━\u001b[0m\u001b[37m\u001b[0m \u001b[1m2s\u001b[0m 0us/step\n"
          ]
        }
      ]
    },
    {
      "cell_type": "code",
      "source": [
        "# Loading the CIFAR-100 dataset\n",
        "(x_train_100, y_train_100), (x_test_100, y_test_100) = tf.keras.datasets.cifar100.load_data()"
      ],
      "metadata": {
        "colab": {
          "base_uri": "https://localhost:8080/"
        },
        "id": "HP0z_d5bin4U",
        "outputId": "a211574c-f9ea-4641-84cf-f8f7daf9367e"
      },
      "execution_count": 5,
      "outputs": [
        {
          "output_type": "stream",
          "name": "stdout",
          "text": [
            "Downloading data from https://www.cs.toronto.edu/~kriz/cifar-100-python.tar.gz\n",
            "\u001b[1m169001437/169001437\u001b[0m \u001b[32m━━━━━━━━━━━━━━━━━━━━\u001b[0m\u001b[37m\u001b[0m \u001b[1m2s\u001b[0m 0us/step\n"
          ]
        }
      ]
    },
    {
      "cell_type": "code",
      "source": [
        "# Normalizing the data\n",
        "x_train_10 = x_train_10.astype('float32') / 255.0\n",
        "x_test_10 = x_test_10.astype('float32') / 255.0\n",
        "x_train_100 = x_train_100.astype('float32') / 255.0\n",
        "x_test_100 = x_test_100.astype('float32') / 255.0"
      ],
      "metadata": {
        "id": "TYFLKSryisPQ"
      },
      "execution_count": 6,
      "outputs": []
    },
    {
      "cell_type": "code",
      "source": [
        "# One-hot encoding the labels\n",
        "y_train_10 = tf.keras.utils.to_categorical(y_train_10, 10)\n",
        "y_test_10 = tf.keras.utils.to_categorical(y_test_10, 10)\n",
        "y_train_100 = tf.keras.utils.to_categorical(y_train_100, 100)\n",
        "y_test_100 = tf.keras.utils.to_categorical(y_test_100, 100)"
      ],
      "metadata": {
        "id": "S-3vuT9SiuzI"
      },
      "execution_count": 7,
      "outputs": []
    },
    {
      "cell_type": "code",
      "source": [
        "# Function to plot training history\n",
        "def plot_history(history, title):\n",
        "    plt.figure(figsize=(12,4))\n",
        "    plt.subplot(1,2,1)\n",
        "    plt.plot(history.history['accuracy'], label='Train')\n",
        "    plt.plot(history.history['val_accuracy'], label='Validation')\n",
        "    plt.title(f'{title} Accuracy')\n",
        "    plt.legend()\n",
        "    plt.subplot(1,2,2)\n",
        "    plt.plot(history.history['loss'], label='Train')\n",
        "    plt.plot(history.history['val_loss'], label='Validation')\n",
        "    plt.title(f'{title} Loss')\n",
        "    plt.legend()\n",
        "    plt.show()"
      ],
      "metadata": {
        "id": "_xELHy7dixAC"
      },
      "execution_count": 8,
      "outputs": []
    },
    {
      "cell_type": "markdown",
      "source": [
        "# Model 1: Simple CNN on CIFAR-10"
      ],
      "metadata": {
        "id": "JLGho7qPi1wl"
      }
    },
    {
      "cell_type": "code",
      "source": [
        "# Building a simple CNN model\n",
        "model_cifar10_simple = models.Sequential([\n",
        "    layers.Conv2D(32, (3, 3), activation='relu', input_shape=(32, 32, 3)),\n",
        "    layers.MaxPooling2D((2, 2)),\n",
        "    layers.Flatten(),\n",
        "    layers.Dense(64, activation='relu'),\n",
        "    layers.Dense(10, activation='softmax')  # 10 classes for CIFAR-10\n",
        "])"
      ],
      "metadata": {
        "colab": {
          "base_uri": "https://localhost:8080/"
        },
        "id": "xLo_DoeDi4Yk",
        "outputId": "099acbea-c7e4-461b-8cfe-8ab993df0208"
      },
      "execution_count": 9,
      "outputs": [
        {
          "output_type": "stream",
          "name": "stderr",
          "text": [
            "/usr/local/lib/python3.10/dist-packages/keras/src/layers/convolutional/base_conv.py:107: UserWarning: Do not pass an `input_shape`/`input_dim` argument to a layer. When using Sequential models, prefer using an `Input(shape)` object as the first layer in the model instead.\n",
            "  super().__init__(activity_regularizer=activity_regularizer, **kwargs)\n"
          ]
        }
      ]
    },
    {
      "cell_type": "code",
      "source": [
        "# Compiling the model\n",
        "model_cifar10_simple.compile(optimizer='adam',\n",
        "                             loss='categorical_crossentropy',\n",
        "                             metrics=['accuracy'])"
      ],
      "metadata": {
        "id": "CUs25qgRi6-A"
      },
      "execution_count": 10,
      "outputs": []
    },
    {
      "cell_type": "code",
      "source": [
        "# Training the model\n",
        "history_cifar10_simple = model_cifar10_simple.fit(\n",
        "    x_train_10, y_train_10,\n",
        "    epochs=10,\n",
        "    batch_size=64,\n",
        "    validation_data=(x_test_10, y_test_10)\n",
        ")"
      ],
      "metadata": {
        "colab": {
          "base_uri": "https://localhost:8080/"
        },
        "id": "us3vMrt9i-VV",
        "outputId": "89d6b1a8-9265-47f8-a5a0-eacb9188baaa"
      },
      "execution_count": 11,
      "outputs": [
        {
          "output_type": "stream",
          "name": "stdout",
          "text": [
            "Epoch 1/10\n",
            "\u001b[1m782/782\u001b[0m \u001b[32m━━━━━━━━━━━━━━━━━━━━\u001b[0m\u001b[37m\u001b[0m \u001b[1m43s\u001b[0m 53ms/step - accuracy: 0.3633 - loss: 1.7514 - val_accuracy: 0.5479 - val_loss: 1.2736\n",
            "Epoch 2/10\n",
            "\u001b[1m782/782\u001b[0m \u001b[32m━━━━━━━━━━━━━━━━━━━━\u001b[0m\u001b[37m\u001b[0m \u001b[1m80s\u001b[0m 51ms/step - accuracy: 0.5612 - loss: 1.2507 - val_accuracy: 0.5895 - val_loss: 1.1698\n",
            "Epoch 3/10\n",
            "\u001b[1m782/782\u001b[0m \u001b[32m━━━━━━━━━━━━━━━━━━━━\u001b[0m\u001b[37m\u001b[0m \u001b[1m40s\u001b[0m 50ms/step - accuracy: 0.6043 - loss: 1.1308 - val_accuracy: 0.6060 - val_loss: 1.1195\n",
            "Epoch 4/10\n",
            "\u001b[1m782/782\u001b[0m \u001b[32m━━━━━━━━━━━━━━━━━━━━\u001b[0m\u001b[37m\u001b[0m \u001b[1m42s\u001b[0m 51ms/step - accuracy: 0.6316 - loss: 1.0550 - val_accuracy: 0.6162 - val_loss: 1.0981\n",
            "Epoch 5/10\n",
            "\u001b[1m782/782\u001b[0m \u001b[32m━━━━━━━━━━━━━━━━━━━━\u001b[0m\u001b[37m\u001b[0m \u001b[1m42s\u001b[0m 54ms/step - accuracy: 0.6528 - loss: 0.9975 - val_accuracy: 0.6232 - val_loss: 1.0807\n",
            "Epoch 6/10\n",
            "\u001b[1m782/782\u001b[0m \u001b[32m━━━━━━━━━━━━━━━━━━━━\u001b[0m\u001b[37m\u001b[0m \u001b[1m79s\u001b[0m 50ms/step - accuracy: 0.6693 - loss: 0.9499 - val_accuracy: 0.6284 - val_loss: 1.0761\n",
            "Epoch 7/10\n",
            "\u001b[1m782/782\u001b[0m \u001b[32m━━━━━━━━━━━━━━━━━━━━\u001b[0m\u001b[37m\u001b[0m \u001b[1m38s\u001b[0m 49ms/step - accuracy: 0.6838 - loss: 0.9100 - val_accuracy: 0.6321 - val_loss: 1.0667\n",
            "Epoch 8/10\n",
            "\u001b[1m782/782\u001b[0m \u001b[32m━━━━━━━━━━━━━━━━━━━━\u001b[0m\u001b[37m\u001b[0m \u001b[1m40s\u001b[0m 48ms/step - accuracy: 0.6977 - loss: 0.8733 - val_accuracy: 0.6372 - val_loss: 1.0643\n",
            "Epoch 9/10\n",
            "\u001b[1m782/782\u001b[0m \u001b[32m━━━━━━━━━━━━━━━━━━━━\u001b[0m\u001b[37m\u001b[0m \u001b[1m45s\u001b[0m 54ms/step - accuracy: 0.7101 - loss: 0.8404 - val_accuracy: 0.6353 - val_loss: 1.0719\n",
            "Epoch 10/10\n",
            "\u001b[1m782/782\u001b[0m \u001b[32m━━━━━━━━━━━━━━━━━━━━\u001b[0m\u001b[37m\u001b[0m \u001b[1m38s\u001b[0m 49ms/step - accuracy: 0.7198 - loss: 0.8109 - val_accuracy: 0.6366 - val_loss: 1.0796\n"
          ]
        }
      ]
    },
    {
      "cell_type": "code",
      "source": [
        "# Plotting training history\n",
        "plot_history(history_cifar10_simple, 'CIFAR-10 Simple CNN')"
      ],
      "metadata": {
        "colab": {
          "base_uri": "https://localhost:8080/",
          "height": 391
        },
        "id": "2092SI98u72I",
        "outputId": "06870907-456e-4efc-dc27-140b82b4a353"
      },
      "execution_count": 12,
      "outputs": [
        {
          "output_type": "display_data",
          "data": {
            "text/plain": [
              "<Figure size 1200x400 with 2 Axes>"
            ],
            "image/png": "[encoded data removed]"
          },
          "metadata": {}
        }
      ]
    },
    {
      "cell_type": "code",
      "source": [
        "# Evaluating the model\n",
        "test_loss, test_acc = model_cifar10_simple.evaluate(x_test_10, y_test_10, verbose=2)\n",
        "print(f'CIFAR-10 Simple CNN Test Accuracy: {test_acc:.4f}')"
      ],
      "metadata": {
        "colab": {
          "base_uri": "https://localhost:8080/"
        },
        "id": "1WMRz82lxk1Z",
        "outputId": "f1897256-f29f-4ffa-a1d4-91e320490103"
      },
      "execution_count": 13,
      "outputs": [
        {
          "output_type": "stream",
          "name": "stdout",
          "text": [
            "313/313 - 4s - 12ms/step - accuracy: 0.6366 - loss: 1.0796\n",
            "CIFAR-10 Simple CNN Test Accuracy: 0.6366\n"
          ]
        }
      ]
    },
    {
      "cell_type": "markdown",
      "source": [
        "# Model 2: Data Augmentation on CIFAR-10"
      ],
      "metadata": {
        "id": "Lg-T7rfjxoDo"
      }
    },
    {
      "cell_type": "code",
      "source": [
        "datagen = ImageDataGenerator(\n",
        "    rotation_range=15,\n",
        "    horizontal_flip=True,\n",
        "    width_shift_range=0.1,\n",
        "    height_shift_range=0.1\n",
        ")"
      ],
      "metadata": {
        "id": "w5L2k2kbxrMR"
      },
      "execution_count": 14,
      "outputs": []
    },
    {
      "cell_type": "code",
      "source": [
        "# Building a more complex CNN model\n",
        "model_cifar10_augmented = models.Sequential([\n",
        "    layers.Conv2D(32, (3, 3), activation='relu', padding='same', input_shape=(32, 32, 3)),\n",
        "    layers.BatchNormalization(),\n",
        "    layers.Conv2D(32, (3, 3), activation='relu', padding='same'),\n",
        "    layers.BatchNormalization(),\n",
        "    layers.MaxPooling2D((2, 2)),\n",
        "    layers.Dropout(0.2),\n",
        "\n",
        "    layers.Conv2D(64, (3, 3), activation='relu', padding='same'),\n",
        "    layers.BatchNormalization(),\n",
        "    layers.Conv2D(64, (3, 3), activation='relu', padding='same'),\n",
        "    layers.BatchNormalization(),\n",
        "    layers.MaxPooling2D((2, 2)),\n",
        "    layers.Dropout(0.3),\n",
        "\n",
        "    layers.Flatten(),\n",
        "    layers.Dense(512, activation='relu'),\n",
        "    layers.BatchNormalization(),\n",
        "    layers.Dropout(0.5),\n",
        "    layers.Dense(10, activation='softmax')\n",
        "])"
      ],
      "metadata": {
        "id": "MtNRRI1Wxt6A"
      },
      "execution_count": 15,
      "outputs": []
    },
    {
      "cell_type": "code",
      "source": [
        "# Compiling the model with a different optimizer\n",
        "model_cifar10_augmented.compile(optimizer=optimizers.RMSprop(learning_rate=0.0001, decay=1e-6),\n",
        "                                loss='categorical_crossentropy',\n",
        "                                metrics=['accuracy'])"
      ],
      "metadata": {
        "colab": {
          "base_uri": "https://localhost:8080/"
        },
        "id": "E7wOWgAyxvl1",
        "outputId": "819b5f11-9367-4e40-eff6-f83aa95f2be4"
      },
      "execution_count": 16,
      "outputs": [
        {
          "output_type": "stream",
          "name": "stderr",
          "text": [
            "/usr/local/lib/python3.10/dist-packages/keras/src/optimizers/base_optimizer.py:33: UserWarning: Argument `decay` is no longer supported and will be ignored.\n",
            "  warnings.warn(\n"
          ]
        }
      ]
    },
    {
      "cell_type": "code",
      "source": [
        "# Training the model with data augmentation\n",
        "history_cifar10_augmented = model_cifar10_augmented.fit(\n",
        "    datagen.flow(x_train_10, y_train_10, batch_size=64),\n",
        "    steps_per_epoch=x_train_10.shape[0] // 64,\n",
        "    epochs=50,\n",
        "    validation_data=(x_test_10, y_test_10),\n",
        "    verbose=1\n",
        ")"
      ],
      "metadata": {
        "id": "G33bz-PWzmkY"
      },
      "execution_count": null,
      "outputs": []
    },
    {
      "cell_type": "code",
      "source": [
        "# Plotting training history\n",
        "plot_history(history_cifar10_augmented, 'CIFAR-10 Augmented CNN')"
      ],
      "metadata": {
        "id": "LZ17UVS0xy-h"
      },
      "execution_count": null,
      "outputs": []
    },
    {
      "cell_type": "code",
      "source": [
        "# Evaluating the model\n",
        "test_loss, test_acc = model_cifar10_augmented.evaluate(x_test_10, y_test_10, verbose=2)\n",
        "print(f'CIFAR-10 Augmented CNN Test Accuracy: {test_acc:.4f}')"
      ],
      "metadata": {
        "id": "9w4c-71wx2qC"
      },
      "execution_count": null,
      "outputs": []
    },
    {
      "cell_type": "markdown",
      "source": [
        "# Model 3: Transfer Learning on CIFAR-100"
      ],
      "metadata": {
        "id": "tEihOdk4x4Eu"
      }
    },
    {
      "cell_type": "code",
      "source": [
        "# Using a pre-trained model (MobileNetV2) for CIFAR-100\n",
        "base_model = tf.keras.applications.MobileNetV2(\n",
        "    input_shape=(96, 96, 3),\n",
        "    include_top=False,\n",
        "    weights='imagenet'\n",
        ")"
      ],
      "metadata": {
        "id": "AoDze6exznqV"
      },
      "execution_count": null,
      "outputs": []
    },
    {
      "cell_type": "code",
      "source": [
        "# Freezing the base model\n",
        "base_model.trainable = False"
      ],
      "metadata": {
        "id": "BVgOOiftzrIq"
      },
      "execution_count": null,
      "outputs": []
    },
    {
      "cell_type": "code",
      "source": [
        "# Preparing CIFAR-100 data for MobileNetV2 (resizing images)\n",
        "x_train_100_resized = tf.image.resize(x_train_100, (96, 96))\n",
        "x_test_100_resized = tf.image.resize(x_test_100, (96, 96))"
      ],
      "metadata": {
        "id": "Yr9Y1lBBzsil"
      },
      "execution_count": null,
      "outputs": []
    },
    {
      "cell_type": "code",
      "source": [
        "# Building the model\n",
        "model_cifar100_transfer = models.Sequential([\n",
        "    base_model,\n",
        "    layers.GlobalAveragePooling2D(),\n",
        "    layers.Dense(256, activation='relu'),\n",
        "    layers.Dropout(0.5),\n",
        "    layers.Dense(100, activation='softmax')  # 100 classes for CIFAR-100\n",
        "])"
      ],
      "metadata": {
        "id": "TjO9cJGszuPD"
      },
      "execution_count": null,
      "outputs": []
    },
    {
      "cell_type": "code",
      "source": [
        "# Compiling the model\n",
        "model_cifar100_transfer.compile(optimizer='adam',\n",
        "                                loss='categorical_crossentropy',\n",
        "                                metrics=['accuracy'])"
      ],
      "metadata": {
        "id": "s1zCx2hzzvk1"
      },
      "execution_count": null,
      "outputs": []
    },
    {
      "cell_type": "code",
      "source": [
        "# Training the model\n",
        "history_cifar100_transfer = model_cifar100_transfer.fit(\n",
        "    x_train_100_resized, y_train_100,\n",
        "    epochs=10,\n",
        "    batch_size=64,\n",
        "    validation_data=(x_test_100_resized, y_test_100)\n",
        ")"
      ],
      "metadata": {
        "id": "kBboga9hzxEr"
      },
      "execution_count": null,
      "outputs": []
    },
    {
      "cell_type": "code",
      "source": [
        "# Plotting training history\n",
        "plot_history(history_cifar100_transfer, 'CIFAR-100 Transfer Learning')"
      ],
      "metadata": {
        "id": "9h9FdqK3zzRh"
      },
      "execution_count": null,
      "outputs": []
    },
    {
      "cell_type": "code",
      "source": [
        "# Evaluating the model\n",
        "test_loss, test_acc = model_cifar100_transfer.evaluate(x_test_100_resized, y_test_100, verbose=2)\n",
        "print(f'CIFAR-100 Transfer Learning Test Accuracy: {test_acc:.4f}')"
      ],
      "metadata": {
        "id": "wsT0DAtjz0e6"
      },
      "execution_count": null,
      "outputs": []
    },
    {
      "cell_type": "markdown",
      "source": [
        "# Model 4: Regularization Techniques on CIFAR-100"
      ],
      "metadata": {
        "id": "FLb8PvlMz2Hx"
      }
    },
    {
      "cell_type": "code",
      "source": [
        "# Building a CNN model with L2 regularization\n",
        "weight_decay = 1e-4\n",
        "\n",
        "model_cifar100_regularized = models.Sequential([\n",
        "    layers.Conv2D(64, (3, 3), padding='same',\n",
        "                  kernel_regularizer=regularizers.l2(weight_decay),\n",
        "                  input_shape=(32, 32, 3)),\n",
        "    layers.Activation('relu'),\n",
        "    layers.BatchNormalization(),\n",
        "    layers.Conv2D(64, (3, 3), padding='same',\n",
        "                  kernel_regularizer=regularizers.l2(weight_decay)),\n",
        "    layers.Activation('relu'),\n",
        "    layers.BatchNormalization(),\n",
        "    layers.MaxPooling2D(pool_size=(2, 2)),\n",
        "    layers.Dropout(0.3),\n",
        "\n",
        "    layers.Conv2D(128, (3, 3), padding='same',\n",
        "                  kernel_regularizer=regularizers.l2(weight_decay)),\n",
        "    layers.Activation('relu'),\n",
        "    layers.BatchNormalization(),\n",
        "    layers.Conv2D(128, (3, 3), padding='same',\n",
        "                  kernel_regularizer=regularizers.l2(weight_decay)),\n",
        "    layers.Activation('relu'),\n",
        "    layers.BatchNormalization(),\n",
        "    layers.MaxPooling2D(pool_size=(2, 2)),\n",
        "    layers.Dropout(0.4),\n",
        "\n",
        "    layers.Flatten(),\n",
        "    layers.Dense(256, activation='relu',\n",
        "                 kernel_regularizer=regularizers.l2(weight_decay)),\n",
        "    layers.BatchNormalization(),\n",
        "    layers.Dropout(0.5),\n",
        "    layers.Dense(100, activation='softmax')\n",
        "])"
      ],
      "metadata": {
        "id": "kdLYPGah0FcH"
      },
      "execution_count": null,
      "outputs": []
    },
    {
      "cell_type": "code",
      "source": [
        "# Compiling the model with SGD optimizer\n",
        "model_cifar100_regularized.compile(optimizer=optimizers.SGD(learning_rate=0.01, momentum=0.9, nesterov=True),\n",
        "                                   loss='categorical_crossentropy',\n",
        "                                   metrics=['accuracy'])"
      ],
      "metadata": {
        "id": "_JZTEFUR0JaN"
      },
      "execution_count": null,
      "outputs": []
    },
    {
      "cell_type": "code",
      "source": [
        "# Training the model\n",
        "history_cifar100_regularized = model_cifar100_regularized.fit(\n",
        "    x_train_100, y_train_100,\n",
        "    epochs=50,\n",
        "    batch_size=128,\n",
        "    validation_data=(x_test_100, y_test_100)\n",
        ")"
      ],
      "metadata": {
        "id": "Ppkbb-Yv0Ku6"
      },
      "execution_count": null,
      "outputs": []
    },
    {
      "cell_type": "code",
      "source": [
        "# Plotting training history\n",
        "plot_history(history_cifar100_regularized, 'CIFAR-100 Regularized CNN')"
      ],
      "metadata": {
        "id": "JxsQcZSq0MOj"
      },
      "execution_count": null,
      "outputs": []
    },
    {
      "cell_type": "code",
      "source": [
        "# Evaluating the model\n",
        "test_loss, test_acc = model_cifar100_regularized.evaluate(x_test_100, y_test_100, verbose=2)\n",
        "print(f'CIFAR-100 Regularized CNN Test Accuracy: {test_acc:.4f}')"
      ],
      "metadata": {
        "id": "tS09Oz4v0N3-"
      },
      "execution_count": null,
      "outputs": []
    },
    {
      "cell_type": "markdown",
      "source": [
        "# Model 5: Custom Learning Rate Scheduler on CIFAR-10"
      ],
      "metadata": {
        "id": "ytANf_ny0gxu"
      }
    },
    {
      "cell_type": "code",
      "source": [
        "# Defining a custom learning rate scheduler\n",
        "def lr_scheduler(epoch):\n",
        "    initial_lr = 0.001\n",
        "    if epoch > 75:\n",
        "        lr = initial_lr * 0.5e-3\n",
        "    elif epoch > 50:\n",
        "        lr = initial_lr * 1e-3\n",
        "    elif epoch > 25:\n",
        "        lr = initial_lr * 1e-2\n",
        "    else:\n",
        "        lr = initial_lr\n",
        "    return lr\n",
        "\n",
        "lr_callback = tf.keras.callbacks.LearningRateScheduler(lr_scheduler)"
      ],
      "metadata": {
        "id": "j9ZhAssk0iFV"
      },
      "execution_count": null,
      "outputs": []
    },
    {
      "cell_type": "code",
      "source": [
        "# Building a CNN model\n",
        "model_cifar10_lr = models.Sequential([\n",
        "    layers.Conv2D(32, (3, 3), padding='same', activation='relu',\n",
        "                  input_shape=(32, 32, 3)),\n",
        "    layers.Conv2D(32, (3, 3), activation='relu'),\n",
        "    layers.MaxPooling2D(pool_size=(2, 2)),\n",
        "    layers.Dropout(0.25),\n",
        "\n",
        "    layers.Conv2D(64, (3, 3), padding='same', activation='relu'),\n",
        "    layers.Conv2D(64, (3, 3), activation='relu'),\n",
        "    layers.MaxPooling2D(pool_size=(2, 2)),\n",
        "    layers.Dropout(0.25),\n",
        "\n",
        "    layers.Flatten(),\n",
        "    layers.Dense(512, activation='relu'),\n",
        "    layers.Dropout(0.5),\n",
        "    layers.Dense(10, activation='softmax')\n",
        "])"
      ],
      "metadata": {
        "id": "c9NebNlT0kcL"
      },
      "execution_count": null,
      "outputs": []
    },
    {
      "cell_type": "code",
      "source": [
        "# Compiling the model\n",
        "model_cifar10_lr.compile(optimizer=optimizers.Adam(learning_rate=0.001),\n",
        "                         loss='categorical_crossentropy',\n",
        "                         metrics=['accuracy'])"
      ],
      "metadata": {
        "id": "f_4nEKJ70pta"
      },
      "execution_count": null,
      "outputs": []
    },
    {
      "cell_type": "code",
      "source": [
        "# Training the model with custom learning rate scheduler\n",
        "history_cifar10_lr = model_cifar10_lr.fit(\n",
        "    x_train_10, y_train_10,\n",
        "    epochs=100,\n",
        "    batch_size=64,\n",
        "    validation_data=(x_test_10, y_test_10),\n",
        "    callbacks=[lr_callback]\n",
        ")"
      ],
      "metadata": {
        "id": "Ek26V9a60q6g"
      },
      "execution_count": null,
      "outputs": []
    },
    {
      "cell_type": "code",
      "source": [
        "# Plotting training history\n",
        "plot_history(history_cifar10_lr, 'CIFAR-10 Custom LR CNN')"
      ],
      "metadata": {
        "id": "QE8IuKTV0sx_"
      },
      "execution_count": null,
      "outputs": []
    },
    {
      "cell_type": "code",
      "source": [
        "# Evaluating the model\n",
        "test_loss, test_acc = model_cifar10_lr.evaluate(x_test_10, y_test_10, verbose=2)\n",
        "print(f'CIFAR-10 Custom LR CNN Test Accuracy: {test_acc:.4f}')"
      ],
      "metadata": {
        "id": "E21dfCS20uf5"
      },
      "execution_count": null,
      "outputs": []
    },
    {
      "cell_type": "markdown",
      "source": [
        "# Model 6: Using DropBlock Regularization on CIFAR-100"
      ],
      "metadata": {
        "id": "bFTideGe0wZH"
      }
    },
    {
      "cell_type": "code",
      "source": [
        "# Installing tensorflow_addons if not already installed\n",
        "try:\n",
        "    import tensorflow_addons as tfa\n",
        "except ImportError:\n",
        "    !pip install tensorflow-addons\n",
        "    import tensorflow_addons as tfa"
      ],
      "metadata": {
        "id": "ypZMyRzO0xq0"
      },
      "execution_count": null,
      "outputs": []
    },
    {
      "cell_type": "code",
      "source": [
        "# Building a model with DropBlock regularization\n",
        "model_cifar100_dropblock = models.Sequential([\n",
        "    layers.Conv2D(64, (3, 3), padding='same', activation='relu',\n",
        "                  input_shape=(32, 32, 3)),\n",
        "    tfa.layers.StochasticDepth(survival_probability=0.9),\n",
        "    layers.Conv2D(64, (3, 3), activation='relu'),\n",
        "    tfa.layers.StochasticDepth(survival_probability=0.8),\n",
        "    layers.MaxPooling2D(pool_size=(2, 2)),\n",
        "\n",
        "    layers.Conv2D(128, (3, 3), padding='same', activation='relu'),\n",
        "    tfa.layers.StochasticDepth(survival_probability=0.7),\n",
        "    layers.Conv2D(128, (3, 3), activation='relu'),\n",
        "    tfa.layers.StochasticDepth(survival_probability=0.6),\n",
        "    layers.MaxPooling2D(pool_size=(2, 2)),\n",
        "\n",
        "    layers.Flatten(),\n",
        "    layers.Dense(256, activation='relu'),\n",
        "    layers.Dropout(0.5),\n",
        "    layers.Dense(100, activation='softmax')\n",
        "])"
      ],
      "metadata": {
        "id": "KSCtvmV_00rr"
      },
      "execution_count": null,
      "outputs": []
    },
    {
      "cell_type": "code",
      "source": [
        "# Compiling the model\n",
        "model_cifar100_dropblock.compile(optimizer='adam',\n",
        "                                 loss='categorical_crossentropy',\n",
        "                                 metrics=['accuracy'])"
      ],
      "metadata": {
        "id": "eVJa4WpI02ye"
      },
      "execution_count": null,
      "outputs": []
    },
    {
      "cell_type": "code",
      "source": [
        "# Training the model\n",
        "history_cifar100_dropblock = model_cifar100_dropblock.fit(\n",
        "    x_train_100, y_train_100,\n",
        "    epochs=30,\n",
        "    batch_size=64,\n",
        "    validation_data=(x_test_100, y_test_100)\n",
        ")"
      ],
      "metadata": {
        "id": "cmZ__zJg04D7"
      },
      "execution_count": null,
      "outputs": []
    },
    {
      "cell_type": "code",
      "source": [
        "# Plotting training history\n",
        "plot_history(history_cifar100_dropblock, 'CIFAR-100 DropBlock CNN')"
      ],
      "metadata": {
        "id": "-cs1wSz405aU"
      },
      "execution_count": null,
      "outputs": []
    },
    {
      "cell_type": "code",
      "source": [
        "# Evaluating the model\n",
        "test_loss, test_acc = model_cifar100_dropblock.evaluate(x_test_100, y_test_100, verbose=2)\n",
        "print(f'CIFAR-100 DropBlock CNN Test Accuracy: {test_acc:.4f}')"
      ],
      "metadata": {
        "id": "MfqwGDxf065S"
      },
      "execution_count": null,
      "outputs": []
    },
    {
      "cell_type": "markdown",
      "source": [
        "# Conclusion\n",
        "\n",
        "The above code demonstrates multiple methods:\n",
        "- Simple CNN architecture\n",
        "- Data augmentation techniques\n",
        "- Transfer learning with pre-trained models\n",
        "- Regularization techniques (Dropout, L2 regularization)\n",
        "- Custom learning rate scheduler\n",
        "- Advanced regularization with DropBlock/Stochastic Depth\n",
        "\n",
        "Each model is trained and evaluated on either CIFAR-10 or CIFAR-100 dataset.\n",
        "Comments are provided within the code to explain each step.\n"
      ],
      "metadata": {
        "id": "sgaPWmT408i6"
      }
    }
  ]
}