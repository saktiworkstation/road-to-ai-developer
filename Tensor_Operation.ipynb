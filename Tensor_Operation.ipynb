{
  "nbformat": 4,
  "nbformat_minor": 0,
  "metadata": {
    "colab": {
      "provenance": [],
      "authorship_tag": "ABX9TyNwNTnh54u+JzAFLB4CbBDl",
      "include_colab_link": true
    },
    "kernelspec": {
      "name": "python3",
      "display_name": "Python 3"
    },
    "language_info": {
      "name": "python"
    }
  },
  "cells": [
    {
      "cell_type": "markdown",
      "metadata": {
        "id": "view-in-github",
        "colab_type": "text"
      },
      "source": [
        "<a href=\"https://colab.research.google.com/github/saktiworkstation/road-to-ai-developer/blob/main/Tensor_Operation.ipynb\" target=\"_parent\"><img src=\"https://colab.research.google.com/assets/colab-badge.svg\" alt=\"Open In Colab\"/></a>"
      ]
    },
    {
      "cell_type": "code",
      "execution_count": 2,
      "metadata": {
        "id": "gUGqWv6gDdGW"
      },
      "outputs": [],
      "source": [
        "import tensorflow as tf"
      ]
    },
    {
      "cell_type": "markdown",
      "source": [
        "# Block 1: Creating Tensors"
      ],
      "metadata": {
        "id": "NVPQQ3qnHQCd"
      }
    },
    {
      "cell_type": "code",
      "source": [
        "# a scalar tensor\n",
        "scalar = tf.constant(5)\n",
        "print(\"Scalar Tensor:\", scalar)\n",
        "\n",
        "# a 1-D tensor (vector)\n",
        "vector = tf.constant([1, 2, 3])\n",
        "print(\"1-D Tensor (Vector):\", vector)\n",
        "\n",
        "# a 2-D tensor (matrix)\n",
        "matrix = tf.constant([[1, 2], [3, 4]])\n",
        "print(\"2-D Tensor (Matrix):\\n\", matrix)\n",
        "\n",
        "# a 3-D tensor\n",
        "tensor_3d = tf.constant([[[1, 2], [3, 4]], [[5, 6], [7, 8]]])\n",
        "print(\"3-D Tensor:\\n\", tensor_3d)"
      ],
      "metadata": {
        "colab": {
          "base_uri": "https://localhost:8080/"
        },
        "id": "x-UvpBR3Fl1e",
        "outputId": "48988963-a8ce-41da-bd89-7f90b52a143c"
      },
      "execution_count": 3,
      "outputs": [
        {
          "output_type": "stream",
          "name": "stdout",
          "text": [
            "Scalar Tensor: tf.Tensor(5, shape=(), dtype=int32)\n",
            "1-D Tensor (Vector): tf.Tensor([1 2 3], shape=(3,), dtype=int32)\n",
            "2-D Tensor (Matrix):\n",
            " tf.Tensor(\n",
            "[[1 2]\n",
            " [3 4]], shape=(2, 2), dtype=int32)\n",
            "3-D Tensor:\n",
            " tf.Tensor(\n",
            "[[[1 2]\n",
            "  [3 4]]\n",
            "\n",
            " [[5 6]\n",
            "  [7 8]]], shape=(2, 2, 2), dtype=int32)\n"
          ]
        }
      ]
    },
    {
      "cell_type": "markdown",
      "source": [
        "# Block 2: Basic Operations"
      ],
      "metadata": {
        "id": "GP7Z4RFWHOJ3"
      }
    },
    {
      "cell_type": "code",
      "source": [
        "# Addition\n",
        "a = tf.constant([1, 2, 3])\n",
        "b = tf.constant([4, 5, 6])\n",
        "add_result = tf.add(a, b)\n",
        "print(\"Addition Result:\", add_result)\n",
        "\n",
        "# Subtraction\n",
        "sub_result = tf.subtract(a, b)\n",
        "print(\"Subtraction Result:\", sub_result)\n",
        "\n",
        "# Multiplication\n",
        "mul_result = tf.multiply(a, b)\n",
        "print(\"Multiplication Result:\", mul_result)\n",
        "\n",
        "# Division\n",
        "div_result = tf.divide(b, a)\n",
        "print(\"Division Result:\", div_result)"
      ],
      "metadata": {
        "colab": {
          "base_uri": "https://localhost:8080/"
        },
        "id": "ZbB1yyvHFtNb",
        "outputId": "b462f614-4ea9-43ec-91c9-e42d4bf7e90f"
      },
      "execution_count": 4,
      "outputs": [
        {
          "output_type": "stream",
          "name": "stdout",
          "text": [
            "Addition Result: tf.Tensor([5 7 9], shape=(3,), dtype=int32)\n",
            "Subtraction Result: tf.Tensor([-3 -3 -3], shape=(3,), dtype=int32)\n",
            "Multiplication Result: tf.Tensor([ 4 10 18], shape=(3,), dtype=int32)\n",
            "Division Result: tf.Tensor([4.  2.5 2. ], shape=(3,), dtype=float64)\n"
          ]
        }
      ]
    },
    {
      "cell_type": "markdown",
      "source": [
        "# Block 3: Matrix Operations"
      ],
      "metadata": {
        "id": "QpJ_AZEsHL_9"
      }
    },
    {
      "cell_type": "code",
      "source": [
        "# Matrix multiplication\n",
        "matrix_a = tf.constant([[1, 2], [3, 4]])\n",
        "matrix_b = tf.constant([[5, 6], [7, 8]])\n",
        "matmul_result = tf.matmul(matrix_a, matrix_b)\n",
        "print(\"Matrix Multiplication Result:\\n\", matmul_result)\n",
        "\n",
        "# Element-wise multiplication\n",
        "elem_mul_result = tf.multiply(matrix_a, matrix_b)\n",
        "print(\"Element-wise Multiplication Result:\\n\", elem_mul_result)"
      ],
      "metadata": {
        "colab": {
          "base_uri": "https://localhost:8080/"
        },
        "id": "9KHxEKuHGE8k",
        "outputId": "e2f11d34-7950-4bd5-d3cc-d5ae748f7051"
      },
      "execution_count": 5,
      "outputs": [
        {
          "output_type": "stream",
          "name": "stdout",
          "text": [
            "Matrix Multiplication Result:\n",
            " tf.Tensor(\n",
            "[[19 22]\n",
            " [43 50]], shape=(2, 2), dtype=int32)\n",
            "Element-wise Multiplication Result:\n",
            " tf.Tensor(\n",
            "[[ 5 12]\n",
            " [21 32]], shape=(2, 2), dtype=int32)\n"
          ]
        }
      ]
    },
    {
      "cell_type": "markdown",
      "source": [
        "# Block 4: Tensor Reshaping"
      ],
      "metadata": {
        "id": "f8FtYrXfHKBH"
      }
    },
    {
      "cell_type": "code",
      "source": [
        "# Original tensor\n",
        "tensor = tf.range(16)\n",
        "print(\"Original Tensor:\", tensor)\n",
        "\n",
        "# Reshape to 4x4 matrix\n",
        "tensor_reshaped = tf.reshape(tensor, [4, 4])\n",
        "print(\"Reshaped Tensor (4x4):\\n\", tensor_reshaped)\n",
        "\n",
        "# Reshape to 2x2x4 tensor\n",
        "tensor_reshaped_3d = tf.reshape(tensor, [2, 2, 4])\n",
        "print(\"Reshaped Tensor (2x2x4):\\n\", tensor_reshaped_3d)"
      ],
      "metadata": {
        "colab": {
          "base_uri": "https://localhost:8080/"
        },
        "id": "ofOqtMrnGHRD",
        "outputId": "27d1a722-a218-4efb-9453-7dbd94829e72"
      },
      "execution_count": 6,
      "outputs": [
        {
          "output_type": "stream",
          "name": "stdout",
          "text": [
            "Original Tensor: tf.Tensor([ 0  1  2  3  4  5  6  7  8  9 10 11 12 13 14 15], shape=(16,), dtype=int32)\n",
            "Reshaped Tensor (4x4):\n",
            " tf.Tensor(\n",
            "[[ 0  1  2  3]\n",
            " [ 4  5  6  7]\n",
            " [ 8  9 10 11]\n",
            " [12 13 14 15]], shape=(4, 4), dtype=int32)\n",
            "Reshaped Tensor (2x2x4):\n",
            " tf.Tensor(\n",
            "[[[ 0  1  2  3]\n",
            "  [ 4  5  6  7]]\n",
            "\n",
            " [[ 8  9 10 11]\n",
            "  [12 13 14 15]]], shape=(2, 2, 4), dtype=int32)\n"
          ]
        }
      ]
    },
    {
      "cell_type": "markdown",
      "source": [
        "# Block 5: Broadcasting"
      ],
      "metadata": {
        "id": "w_Xz5HPQHIVR"
      }
    },
    {
      "cell_type": "code",
      "source": [
        "# Broadcasting addition\n",
        "x = tf.constant([[1], [2], [3]])\n",
        "y = tf.constant([4, 5, 6])\n",
        "broadcast_add = x + y\n",
        "print(\"Broadcasted Addition Result:\\n\", broadcast_add)"
      ],
      "metadata": {
        "colab": {
          "base_uri": "https://localhost:8080/"
        },
        "id": "1pAy5qsgGJGl",
        "outputId": "32d24d03-d57f-4b6f-c103-5a5a3e799a82"
      },
      "execution_count": 7,
      "outputs": [
        {
          "output_type": "stream",
          "name": "stdout",
          "text": [
            "Broadcasted Addition Result:\n",
            " tf.Tensor(\n",
            "[[5 6 7]\n",
            " [6 7 8]\n",
            " [7 8 9]], shape=(3, 3), dtype=int32)\n"
          ]
        }
      ]
    },
    {
      "cell_type": "markdown",
      "source": [
        "# Block 6: Advanced Operations"
      ],
      "metadata": {
        "id": "eOBvVLtFHGyZ"
      }
    },
    {
      "cell_type": "code",
      "source": [
        "# Transpose of a matrix\n",
        "matrix = tf.constant([[1, 2], [3, 4]])\n",
        "transpose = tf.transpose(matrix)\n",
        "print(\"Transpose of Matrix:\\n\", transpose)\n",
        "\n",
        "# Inverse of a matrix\n",
        "matrix_float = tf.constant([[1., 2.], [3., 4.]])\n",
        "inverse = tf.linalg.inv(matrix_float)\n",
        "print(\"Inverse of Matrix:\\n\", inverse)\n",
        "\n",
        "# Determinant of a matrix\n",
        "determinant = tf.linalg.det(matrix_float)\n",
        "print(\"Determinant of Matrix:\", determinant)\n",
        "\n",
        "# Eigenvalues and eigenvectors\n",
        "eigenvalues, eigenvectors = tf.linalg.eigh(matrix_float)\n",
        "print(\"Eigenvalues:\", eigenvalues)\n",
        "print(\"Eigenvectors:\\n\", eigenvectors)"
      ],
      "metadata": {
        "colab": {
          "base_uri": "https://localhost:8080/"
        },
        "id": "i-XXKGTsGLjd",
        "outputId": "4ef3b598-4f75-4b24-e4f8-28a2ffdf8d62"
      },
      "execution_count": 8,
      "outputs": [
        {
          "output_type": "stream",
          "name": "stdout",
          "text": [
            "Transpose of Matrix:\n",
            " tf.Tensor(\n",
            "[[1 3]\n",
            " [2 4]], shape=(2, 2), dtype=int32)\n",
            "Inverse of Matrix:\n",
            " tf.Tensor(\n",
            "[[-2.0000002   1.0000001 ]\n",
            " [ 1.5000001  -0.50000006]], shape=(2, 2), dtype=float32)\n",
            "Determinant of Matrix: tf.Tensor(-2.0, shape=(), dtype=float32)\n",
            "Eigenvalues: tf.Tensor([-0.8541021  5.854102 ], shape=(2,), dtype=float32)\n",
            "Eigenvectors:\n",
            " tf.Tensor(\n",
            "[[-0.85065085 -0.5257311 ]\n",
            " [ 0.5257311  -0.85065085]], shape=(2, 2), dtype=float32)\n"
          ]
        }
      ]
    },
    {
      "cell_type": "markdown",
      "source": [
        "# Block 7: Higher-Dimensional Tensors"
      ],
      "metadata": {
        "id": "Rb4SWdO4HEQ5"
      }
    },
    {
      "cell_type": "code",
      "source": [
        "# Creating a 4-D tensor\n",
        "tensor_4d = tf.random.uniform([2, 3, 4, 5])\n",
        "print(\"Shape of 4-D Tensor:\", tensor_4d.shape)\n",
        "\n",
        "# Sum over specific axes\n",
        "sum_over_axis = tf.reduce_sum(tensor_4d, axis=2)\n",
        "print(\"Sum over axis 2:\\n\", sum_over_axis)"
      ],
      "metadata": {
        "colab": {
          "base_uri": "https://localhost:8080/"
        },
        "id": "Hu30j51wGNYJ",
        "outputId": "01d569d0-06cf-41c2-f79c-d556a16c9c5c"
      },
      "execution_count": 9,
      "outputs": [
        {
          "output_type": "stream",
          "name": "stdout",
          "text": [
            "Shape of 4-D Tensor: (2, 3, 4, 5)\n",
            "Sum over axis 2:\n",
            " tf.Tensor(\n",
            "[[[2.4225116  2.9752774  1.4205288  0.8543824  1.4694198 ]\n",
            "  [2.5187643  1.9887627  2.7142015  1.8757874  2.2321577 ]\n",
            "  [1.8850586  2.0985856  2.1500793  0.68029284 1.8942417 ]]\n",
            "\n",
            " [[2.055049   1.6338973  1.1049187  2.2090015  0.8987944 ]\n",
            "  [2.2628145  1.121169   2.0614243  1.4133867  1.7681371 ]\n",
            "  [2.5381842  2.7486758  0.9773377  2.7927985  2.2793095 ]]], shape=(2, 3, 5), dtype=float32)\n"
          ]
        }
      ]
    },
    {
      "cell_type": "markdown",
      "source": [
        "# Block 8: Tensor Operations in Neural Networks"
      ],
      "metadata": {
        "id": "IEOoptA-HCmS"
      }
    },
    {
      "cell_type": "code",
      "source": [
        "# Dot product\n",
        "vector_a = tf.constant([1, 2, 3])\n",
        "vector_b = tf.constant([4, 5, 6])\n",
        "dot_product = tf.tensordot(vector_a, vector_b, axes=1)\n",
        "print(\"Dot Product:\", dot_product)\n",
        "\n",
        "# Batch matrix multiplication\n",
        "batch_matrix_a = tf.random.uniform([5, 3, 2])\n",
        "batch_matrix_b = tf.random.uniform([5, 2, 4])\n",
        "batch_matmul = tf.matmul(batch_matrix_a, batch_matrix_b)\n",
        "print(\"Batch Matrix Multiplication Result Shape:\", batch_matmul.shape)"
      ],
      "metadata": {
        "colab": {
          "base_uri": "https://localhost:8080/"
        },
        "id": "QdMgoSVJGPGO",
        "outputId": "6a7a24c0-b7f4-4042-d6d9-7cd6816af17d"
      },
      "execution_count": 10,
      "outputs": [
        {
          "output_type": "stream",
          "name": "stdout",
          "text": [
            "Dot Product: tf.Tensor(32, shape=(), dtype=int32)\n",
            "Batch Matrix Multiplication Result Shape: (5, 3, 4)\n"
          ]
        }
      ]
    },
    {
      "cell_type": "markdown",
      "source": [
        "# Block 9: Slicing and Indexing"
      ],
      "metadata": {
        "id": "_A11YeGvHApj"
      }
    },
    {
      "cell_type": "code",
      "source": [
        "# Creating a tensor\n",
        "tensor = tf.constant([[1, 2, 3], [4, 5, 6], [7, 8, 9]])\n",
        "\n",
        "# Slicing\n",
        "slice_1 = tensor[0, :]  # First row\n",
        "print(\"First Row:\", slice_1)\n",
        "\n",
        "slice_2 = tensor[:, 1]  # Second column\n",
        "print(\"Second Column:\", slice_2)\n",
        "\n",
        "slice_3 = tensor[1:3, 0:2]  # Sub-matrix\n",
        "print(\"Sub-matrix:\\n\", slice_3)"
      ],
      "metadata": {
        "colab": {
          "base_uri": "https://localhost:8080/"
        },
        "id": "eZdGwBMDGQpT",
        "outputId": "c8f40efe-639b-416e-f981-1ca66937c3cb"
      },
      "execution_count": 11,
      "outputs": [
        {
          "output_type": "stream",
          "name": "stdout",
          "text": [
            "First Row: tf.Tensor([1 2 3], shape=(3,), dtype=int32)\n",
            "Second Column: tf.Tensor([2 5 8], shape=(3,), dtype=int32)\n",
            "Sub-matrix:\n",
            " tf.Tensor(\n",
            "[[4 5]\n",
            " [7 8]], shape=(2, 2), dtype=int32)\n"
          ]
        }
      ]
    },
    {
      "cell_type": "markdown",
      "source": [
        "# Block 10: Manipulating Shapes"
      ],
      "metadata": {
        "id": "nIhX-18CG-yo"
      }
    },
    {
      "cell_type": "code",
      "source": [
        "# Expanding dimensions\n",
        "tensor = tf.constant([1, 2, 3])\n",
        "expanded_tensor = tf.expand_dims(tensor, axis=1)\n",
        "print(\"Expanded Tensor Shape:\", expanded_tensor.shape)\n",
        "\n",
        "# Squeezing dimensions\n",
        "tensor_with_extra_dim = tf.constant([[[1], [2], [3]]])\n",
        "squeezed_tensor = tf.squeeze(tensor_with_extra_dim)\n",
        "print(\"Squeezed Tensor Shape:\", squeezed_tensor.shape)"
      ],
      "metadata": {
        "colab": {
          "base_uri": "https://localhost:8080/"
        },
        "id": "bfW-WX2fGSUC",
        "outputId": "ac9a43a4-bac5-4e28-87d4-6d8976ff99c9"
      },
      "execution_count": 12,
      "outputs": [
        {
          "output_type": "stream",
          "name": "stdout",
          "text": [
            "Expanded Tensor Shape: (3, 1)\n",
            "Squeezed Tensor Shape: (3,)\n"
          ]
        }
      ]
    },
    {
      "cell_type": "markdown",
      "source": [
        "# Block 11: Converting between NumPy and TensorFlow"
      ],
      "metadata": {
        "id": "Bpk8TTL7G9Iy"
      }
    },
    {
      "cell_type": "code",
      "source": [
        "import numpy as np\n",
        "\n",
        "# TensorFlow tensor to NumPy array\n",
        "tensor = tf.constant([1, 2, 3])\n",
        "numpy_array = tensor.numpy()\n",
        "print(\"NumPy Array:\", numpy_array)\n",
        "\n",
        "# NumPy array to TensorFlow tensor\n",
        "numpy_array = np.array([4, 5, 6])\n",
        "tensor_from_numpy = tf.constant(numpy_array)\n",
        "print(\"Tensor from NumPy:\", tensor_from_numpy)"
      ],
      "metadata": {
        "colab": {
          "base_uri": "https://localhost:8080/"
        },
        "id": "ow6jcBaMGUI8",
        "outputId": "729721d2-4fab-4618-cd50-139040839e63"
      },
      "execution_count": 13,
      "outputs": [
        {
          "output_type": "stream",
          "name": "stdout",
          "text": [
            "NumPy Array: [1 2 3]\n",
            "Tensor from NumPy: tf.Tensor([4 5 6], shape=(3,), dtype=int64)\n"
          ]
        }
      ]
    },
    {
      "cell_type": "markdown",
      "source": [
        "# Block 12: Complex Tensor Operations"
      ],
      "metadata": {
        "id": "dkZYME3iG6_8"
      }
    },
    {
      "cell_type": "code",
      "source": [
        "# Cholesky decomposition\n",
        "matrix = tf.constant([[4., 12.], [12., 37.]])\n",
        "cholesky = tf.linalg.cholesky(matrix)\n",
        "print(\"Cholesky Decomposition:\\n\", cholesky)\n",
        "\n",
        "# QR decomposition\n",
        "qr_matrix = tf.constant([[1., 2.], [3., 4.]])\n",
        "q, r = tf.linalg.qr(qr_matrix)\n",
        "print(\"Q Matrix:\\n\", q)\n",
        "print(\"R Matrix:\\n\", r)\n",
        "\n",
        "# Singular Value Decomposition (SVD)\n",
        "svd_matrix = tf.constant([[1., 2., 3.], [4., 5., 6.]])\n",
        "s, u, v = tf.linalg.svd(svd_matrix)\n",
        "print(\"Singular Values:\", s)\n",
        "print(\"U Matrix:\\n\", u)\n",
        "print(\"V Matrix:\\n\", v)"
      ],
      "metadata": {
        "colab": {
          "base_uri": "https://localhost:8080/"
        },
        "id": "mnPy8KSWGV3h",
        "outputId": "469e61d8-b66a-4daa-9f99-c6f51d4772ea"
      },
      "execution_count": 14,
      "outputs": [
        {
          "output_type": "stream",
          "name": "stdout",
          "text": [
            "Cholesky Decomposition:\n",
            " tf.Tensor(\n",
            "[[2. 0.]\n",
            " [6. 1.]], shape=(2, 2), dtype=float32)\n",
            "Q Matrix:\n",
            " tf.Tensor(\n",
            "[[-0.3162278  -0.9486833 ]\n",
            " [-0.9486833   0.31622773]], shape=(2, 2), dtype=float32)\n",
            "R Matrix:\n",
            " tf.Tensor(\n",
            "[[-3.1622777  -4.4271884 ]\n",
            " [ 0.         -0.63245535]], shape=(2, 2), dtype=float32)\n",
            "Singular Values: tf.Tensor([9.508034   0.77286935], shape=(2,), dtype=float32)\n",
            "U Matrix:\n",
            " tf.Tensor(\n",
            "[[-0.38631773 -0.92236584]\n",
            " [-0.92236584  0.38631773]], shape=(2, 2), dtype=float32)\n",
            "V Matrix:\n",
            " tf.Tensor(\n",
            "[[-0.42866713  0.8059641 ]\n",
            " [-0.56630695  0.1123824 ]\n",
            " [-0.70394677 -0.58119917]], shape=(3, 2), dtype=float32)\n"
          ]
        }
      ]
    },
    {
      "cell_type": "markdown",
      "source": [
        "# Block 13: Tensor Broadcasting with Higher Dimensions"
      ],
      "metadata": {
        "id": "t8QRCbZzG4gA"
      }
    },
    {
      "cell_type": "code",
      "source": [
        "a = tf.constant([[1], [2], [3]])  # Shape (3,1)\n",
        "b = tf.constant([[1, 2, 3]])      # Shape (1,3)\n",
        "broadcast_result = a * b          # Shape (3,3)\n",
        "print(\"Broadcasted Multiplication Result:\\n\", broadcast_result)"
      ],
      "metadata": {
        "colab": {
          "base_uri": "https://localhost:8080/"
        },
        "id": "lgmwwn-XGbNc",
        "outputId": "04fe9fc7-c3aa-43e6-ade7-f46f1afa6624"
      },
      "execution_count": 15,
      "outputs": [
        {
          "output_type": "stream",
          "name": "stdout",
          "text": [
            "Broadcasted Multiplication Result:\n",
            " tf.Tensor(\n",
            "[[1 2 3]\n",
            " [2 4 6]\n",
            " [3 6 9]], shape=(3, 3), dtype=int32)\n"
          ]
        }
      ]
    },
    {
      "cell_type": "markdown",
      "source": [
        "# Block 14: Conditional Operations"
      ],
      "metadata": {
        "id": "33vO_OquG10H"
      }
    },
    {
      "cell_type": "code",
      "source": [
        "# Where operation\n",
        "tensor = tf.constant([-1, 2, -3, 4])\n",
        "positive_tensor = tf.where(tensor > 0, tensor, tf.zeros_like(tensor))\n",
        "print(\"Positive Tensor:\", positive_tensor)"
      ],
      "metadata": {
        "colab": {
          "base_uri": "https://localhost:8080/"
        },
        "id": "54Nj9YqUGdPI",
        "outputId": "2ffd8cdd-14c2-4989-e031-3c991e73c8e1"
      },
      "execution_count": 16,
      "outputs": [
        {
          "output_type": "stream",
          "name": "stdout",
          "text": [
            "Positive Tensor: tf.Tensor([0 2 0 4], shape=(4,), dtype=int32)\n"
          ]
        }
      ]
    },
    {
      "cell_type": "markdown",
      "source": [
        "# Block 15: Random Tensor Generation"
      ],
      "metadata": {
        "id": "IDUrXFWGGzfR"
      }
    },
    {
      "cell_type": "code",
      "source": [
        "# Random normal distribution\n",
        "random_normal = tf.random.normal([3, 3], mean=0.0, stddev=1.0)\n",
        "print(\"Random Normal Tensor:\\n\", random_normal)\n",
        "\n",
        "# Random uniform distribution\n",
        "random_uniform = tf.random.uniform([2, 2], minval=0, maxval=10, dtype=tf.int32)\n",
        "print(\"Random Uniform Tensor:\\n\", random_uniform)"
      ],
      "metadata": {
        "colab": {
          "base_uri": "https://localhost:8080/"
        },
        "id": "ShACgVPbGwj_",
        "outputId": "0272a9ea-f764-45ed-aef2-b50022e4001d"
      },
      "execution_count": 17,
      "outputs": [
        {
          "output_type": "stream",
          "name": "stdout",
          "text": [
            "Random Normal Tensor:\n",
            " tf.Tensor(\n",
            "[[-0.40221593  0.19365077 -0.18150443]\n",
            " [ 0.7473445   0.35313857 -0.27076334]\n",
            " [ 1.5053952  -0.7646306   0.09392023]], shape=(3, 3), dtype=float32)\n",
            "Random Uniform Tensor:\n",
            " tf.Tensor(\n",
            "[[4 2]\n",
            " [6 0]], shape=(2, 2), dtype=int32)\n"
          ]
        }
      ]
    }
  ]
}