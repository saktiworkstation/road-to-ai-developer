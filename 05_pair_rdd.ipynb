{
  "cells": [
    {
      "cell_type": "markdown",
      "metadata": {
        "id": "view-in-github",
        "colab_type": "text"
      },
      "source": [
        "<a href=\"https://colab.research.google.com/github/saktiworkstation/road-to-ai-developer/blob/main/05_pair_rdd.ipynb\" target=\"_parent\"><img src=\"https://colab.research.google.com/assets/colab-badge.svg\" alt=\"Open In Colab\"/></a>"
      ]
    },
    {
      "cell_type": "markdown",
      "metadata": {
        "id": "31FCxyxLN5B3"
      },
      "source": [
        "# Pair RDDs in PySpark"
      ]
    },
    {
      "cell_type": "code",
      "source": [
        "!pip install pyspark"
      ],
      "metadata": {
        "colab": {
          "base_uri": "https://localhost:8080/"
        },
        "id": "7P5pwyONRPaM",
        "outputId": "c22c489a-fcca-47ac-c140-2057bfa09cdb"
      },
      "execution_count": 9,
      "outputs": [
        {
          "output_type": "stream",
          "name": "stdout",
          "text": [
            "Requirement already satisfied: pyspark in /usr/local/lib/python3.10/dist-packages (3.5.3)\n",
            "Requirement already satisfied: py4j==0.10.9.7 in /usr/local/lib/python3.10/dist-packages (from pyspark) (0.10.9.7)\n"
          ]
        }
      ]
    },
    {
      "cell_type": "code",
      "execution_count": 10,
      "metadata": {
        "id": "MRWLaAkBN5CA"
      },
      "outputs": [],
      "source": [
        "from pyspark.sql import SparkSession\n",
        "spark = SparkSession.builder.getOrCreate()\n",
        "sc = spark.sparkContext"
      ]
    },
    {
      "cell_type": "markdown",
      "metadata": {
        "id": "ZSH2Z14qN5CE"
      },
      "source": [
        "### ReduceBkey and collect"
      ]
    },
    {
      "cell_type": "code",
      "execution_count": 22,
      "metadata": {
        "id": "u7Dotu1YN5CF",
        "outputId": "76dc89a2-6856-4ef6-b161-ef4a0200a3ef",
        "colab": {
          "base_uri": "https://localhost:8080/"
        }
      },
      "outputs": [
        {
          "output_type": "stream",
          "name": "stdout",
          "text": [
            "Key 4 has 5 Counts\n",
            "Key 1 has 20 Counts\n",
            "Key 3 has 10 Counts\n"
          ]
        }
      ],
      "source": [
        "\n",
        "Rdd = sc.parallelize([(1,20),(3,4),(3,6),(4,5)])\n",
        "\n",
        "Rdd_Reduced = Rdd.reduceByKey(lambda x, y: x+y)\n",
        "\n",
        "# Tampilkan output menggunakan iterasi\n",
        "for num in Rdd_Reduced.collect():\n",
        "    print(\"Key {} has {} Counts\".format(num[0], num[1]))"
      ]
    },
    {
      "cell_type": "code",
      "execution_count": 12,
      "metadata": {
        "id": "1D_4YE-0N5CH",
        "outputId": "9bc53f8c-cfcd-430a-891d-f097b19dc1e0",
        "colab": {
          "base_uri": "https://localhost:8080/"
        }
      },
      "outputs": [
        {
          "output_type": "execute_result",
          "data": {
            "text/plain": [
              "[(4, 5), (1, 2), (3, 10)]"
            ]
          },
          "metadata": {},
          "execution_count": 12
        }
      ],
      "source": [
        "Rdd_Reduced.collect()"
      ]
    },
    {
      "cell_type": "markdown",
      "metadata": {
        "id": "aRhgCgxjN5CI"
      },
      "source": [
        "### SortByKey and Collect"
      ]
    },
    {
      "cell_type": "code",
      "execution_count": 13,
      "metadata": {
        "id": "kELxR1XnN5CJ",
        "outputId": "164bc7e0-53dd-44e7-f33e-c81cc842478b",
        "colab": {
          "base_uri": "https://localhost:8080/"
        }
      },
      "outputs": [
        {
          "output_type": "stream",
          "name": "stdout",
          "text": [
            "Key 1 has 2 Counts\n",
            "Key 3 has 10 Counts\n",
            "Key 4 has 5 Counts\n"
          ]
        }
      ],
      "source": [
        "# Urutkan reduced RDD\n",
        "Rdd_Reduced_Sort = Rdd_Reduced.sortByKey(ascending=True)\n",
        "\n",
        "for num in Rdd_Reduced_Sort.collect():\n",
        "  print(\"Key {} has {} Counts\".format(num[0], num[1]))"
      ]
    },
    {
      "cell_type": "markdown",
      "metadata": {
        "id": "3QTg0nf0N5CK"
      },
      "source": [
        "### CountingBykeys"
      ]
    },
    {
      "cell_type": "code",
      "execution_count": 14,
      "metadata": {
        "id": "mp2HFW1wN5CK",
        "outputId": "d1ca3465-b3d6-4bea-961d-3093142d1089",
        "colab": {
          "base_uri": "https://localhost:8080/"
        }
      },
      "outputs": [
        {
          "output_type": "stream",
          "name": "stdout",
          "text": [
            "The type of total is <class 'collections.defaultdict'>\n",
            "key 1 has 1 counts\n",
            "key 3 has 2 counts\n",
            "key 4 has 1 counts\n"
          ]
        }
      ],
      "source": [
        "# Hitung unique key\n",
        "total = Rdd.countByKey()\n",
        "\n",
        "print(\"The type of total is\", type(total))\n",
        "\n",
        "for k, v in total.items():\n",
        "    print(\"key\", k, \"has\", v, \"counts\")"
      ]
    },
    {
      "cell_type": "markdown",
      "metadata": {
        "id": "uDKKt7NfN5CL"
      },
      "source": [
        "### Create a base RDD and transform it"
      ]
    },
    {
      "cell_type": "code",
      "execution_count": 15,
      "metadata": {
        "id": "8W8sygXmN5CM"
      },
      "outputs": [],
      "source": [
        "file_path = '/content/Complete_Shakespeare.txt'"
      ]
    },
    {
      "cell_type": "code",
      "execution_count": 16,
      "metadata": {
        "id": "_gz4Ae88N5CN",
        "outputId": "c4ef1e62-29bf-4e9d-9401-5b0756da4c49",
        "colab": {
          "base_uri": "https://localhost:8080/"
        }
      },
      "outputs": [
        {
          "output_type": "stream",
          "name": "stdout",
          "text": [
            "Total number of words in splitRDD: 128576\n"
          ]
        }
      ],
      "source": [
        "baseRDD = sc.textFile(file_path)\n",
        "\n",
        "splitRDD = baseRDD.flatMap(lambda x: x.split())\n",
        "\n",
        "print(\"Total number of words in splitRDD:\", splitRDD.count())"
      ]
    },
    {
      "cell_type": "markdown",
      "metadata": {
        "id": "OchhmtG0N5CO"
      },
      "source": [
        "### Remove stop words and reduce the dataset"
      ]
    },
    {
      "cell_type": "code",
      "execution_count": 18,
      "metadata": {
        "id": "Q_hKm00hN5CO",
        "colab": {
          "base_uri": "https://localhost:8080/"
        },
        "outputId": "f84450a1-a3e3-4766-d26d-8d853a19f4ff"
      },
      "outputs": [
        {
          "output_type": "stream",
          "name": "stderr",
          "text": [
            "[nltk_data] Downloading package stopwords to /root/nltk_data...\n",
            "[nltk_data]   Unzipping corpora/stopwords.zip.\n"
          ]
        }
      ],
      "source": [
        "import nltk\n",
        "from nltk.corpus import stopwords\n",
        "\n",
        "# Download the 'stopwords' dataset\n",
        "nltk.download('stopwords')\n",
        "\n",
        "stop_words = stopwords.words('english')"
      ]
    },
    {
      "cell_type": "code",
      "execution_count": 19,
      "metadata": {
        "id": "0oGsoKVsN5CO"
      },
      "outputs": [],
      "source": [
        "# Ubah ke lowercase dan abaikan stop_words\n",
        "splitRDD_no_stop = splitRDD.filter(lambda x: x.lower() not in stop_words)\n",
        "\n",
        "# Buat tuple dari setiap kata\n",
        "splitRDD_no_stop_words = splitRDD_no_stop.map(lambda w: (w, 1))\n",
        "\n",
        "resultRDD = splitRDD_no_stop_words.reduceByKey(lambda x, y: x + y)"
      ]
    },
    {
      "cell_type": "markdown",
      "metadata": {
        "id": "HliWRkYdN5CP"
      },
      "source": [
        "### Print word frequencies"
      ]
    },
    {
      "cell_type": "code",
      "execution_count": 20,
      "metadata": {
        "id": "ILLjbF54N5CP",
        "outputId": "f8144803-a8b5-4d03-e8e4-0a53e6a0c47e",
        "colab": {
          "base_uri": "https://localhost:8080/"
        }
      },
      "outputs": [
        {
          "output_type": "stream",
          "name": "stdout",
          "text": [
            "('Project', 9)\n",
            "('EBook', 1)\n",
            "('Shakespeare', 12)\n",
            "('use', 38)\n",
            "('anyone', 1)\n",
            "('anywhere', 1)\n",
            "('restrictions', 1)\n",
            "('whatsoever.', 1)\n",
            "('may', 162)\n",
            "('it,', 74)\n"
          ]
        }
      ],
      "source": [
        "for word in resultRDD.take(10):\n",
        "\tprint(word)\n",
        "\n",
        "# Tukar key dan value\n",
        "resultRDD_swap = resultRDD.map(lambda x: (x[1], x[0]))\n",
        "\n",
        "resultRDD_swap_sort = resultRDD_swap.sortByKey(ascending=False)"
      ]
    },
    {
      "cell_type": "code",
      "execution_count": 21,
      "metadata": {
        "id": "51JdDOu4N5CQ",
        "outputId": "e9608633-b72f-4724-849d-dac4b17b2d08",
        "colab": {
          "base_uri": "https://localhost:8080/"
        }
      },
      "outputs": [
        {
          "output_type": "stream",
          "name": "stdout",
          "text": [
            "thou,650\n",
            "thy,574\n",
            "shall,393\n",
            "would,311\n",
            "good,295\n",
            "thee,286\n",
            "love,273\n",
            "Enter,269\n",
            "th',254\n",
            "make,225\n"
          ]
        }
      ],
      "source": [
        "for word in resultRDD_swap_sort.take(10):\n",
        "\tprint(\"{},{}\". format(word[1], word[0]))"
      ]
    }
  ],
  "metadata": {
    "kernelspec": {
      "display_name": "Python 3.7.6 ('base')",
      "language": "python",
      "name": "python3"
    },
    "language_info": {
      "codemirror_mode": {
        "name": "ipython",
        "version": 3
      },
      "file_extension": ".py",
      "mimetype": "text/x-python",
      "name": "python",
      "nbconvert_exporter": "python",
      "pygments_lexer": "ipython3",
      "version": "3.7.6"
    },
    "orig_nbformat": 4,
    "vscode": {
      "interpreter": {
        "hash": "5bc067213193d7d391907c464a8e66c6ece1a82666c1d2406921e2c8deb6cf3c"
      }
    },
    "colab": {
      "provenance": [],
      "include_colab_link": true
    }
  },
  "nbformat": 4,
  "nbformat_minor": 0
}